{
 "cells": [
  {
   "cell_type": "markdown",
   "id": "4e4e4c4e",
   "metadata": {
    "papermill": {
     "duration": 0.010621,
     "end_time": "2024-06-25T12:07:48.530415",
     "exception": false,
     "start_time": "2024-06-25T12:07:48.519794",
     "status": "completed"
    },
    "tags": []
   },
   "source": [
    "# Imports"
   ]
  },
  {
   "cell_type": "code",
   "execution_count": 1,
   "id": "7cf18841",
   "metadata": {
    "execution": {
     "iopub.execute_input": "2024-06-25T12:07:48.552018Z",
     "iopub.status.busy": "2024-06-25T12:07:48.551653Z",
     "iopub.status.idle": "2024-06-25T12:07:48.556527Z",
     "shell.execute_reply": "2024-06-25T12:07:48.555640Z"
    },
    "papermill": {
     "duration": 0.017757,
     "end_time": "2024-06-25T12:07:48.558408",
     "exception": false,
     "start_time": "2024-06-25T12:07:48.540651",
     "status": "completed"
    },
    "tags": []
   },
   "outputs": [],
   "source": [
    "# !pip install -q wurlitzer\n",
    "# !pip install -q --upgrade keras-cv tensorflow\n",
    "# !pip install -q --upgrade keras"
   ]
  },
  {
   "cell_type": "code",
   "execution_count": 2,
   "id": "1fa68eb0",
   "metadata": {
    "execution": {
     "iopub.execute_input": "2024-06-25T12:07:48.579134Z",
     "iopub.status.busy": "2024-06-25T12:07:48.578847Z",
     "iopub.status.idle": "2024-06-25T12:08:01.503066Z",
     "shell.execute_reply": "2024-06-25T12:08:01.501979Z"
    },
    "papermill": {
     "duration": 12.937003,
     "end_time": "2024-06-25T12:08:01.505311",
     "exception": false,
     "start_time": "2024-06-25T12:07:48.568308",
     "status": "completed"
    },
    "tags": []
   },
   "outputs": [
    {
     "name": "stderr",
     "output_type": "stream",
     "text": [
      "2024-06-25 12:07:50.193378: E external/local_xla/xla/stream_executor/cuda/cuda_dnn.cc:9261] Unable to register cuDNN factory: Attempting to register factory for plugin cuDNN when one has already been registered\n",
      "2024-06-25 12:07:50.193511: E external/local_xla/xla/stream_executor/cuda/cuda_fft.cc:607] Unable to register cuFFT factory: Attempting to register factory for plugin cuFFT when one has already been registered\n",
      "2024-06-25 12:07:50.310426: E external/local_xla/xla/stream_executor/cuda/cuda_blas.cc:1515] Unable to register cuBLAS factory: Attempting to register factory for plugin cuBLAS when one has already been registered\n"
     ]
    },
    {
     "name": "stdout",
     "output_type": "stream",
     "text": [
      "running tf:  2.15.0\n",
      "running keras:  2.15.0\n"
     ]
    }
   ],
   "source": [
    "import os\n",
    "from tqdm import tqdm \n",
    "\n",
    "import tensorflow as tf\n",
    "import keras\n",
    "from tensorflow.keras.preprocessing import image\n",
    "from tensorflow.keras import regularizers\n",
    "\n",
    "import numpy as np\n",
    "import pandas as pd\n",
    "import matplotlib.pyplot as plt\n",
    "from sklearn.model_selection import train_test_split\n",
    "\n",
    "print('running tf: ', tf.__version__)\n",
    "print('running keras: ', tf.__version__)"
   ]
  },
  {
   "cell_type": "code",
   "execution_count": 3,
   "id": "c648ddfa",
   "metadata": {
    "execution": {
     "iopub.execute_input": "2024-06-25T12:08:01.527400Z",
     "iopub.status.busy": "2024-06-25T12:08:01.526499Z",
     "iopub.status.idle": "2024-06-25T12:08:01.530875Z",
     "shell.execute_reply": "2024-06-25T12:08:01.530014Z"
    },
    "papermill": {
     "duration": 0.017301,
     "end_time": "2024-06-25T12:08:01.532895",
     "exception": false,
     "start_time": "2024-06-25T12:08:01.515594",
     "status": "completed"
    },
    "tags": []
   },
   "outputs": [],
   "source": [
    "# os.environ[\"KERAS_BACKEND\"] = \"tensorflow\"  # Or \"jax\" or \"torch\"!"
   ]
  },
  {
   "cell_type": "markdown",
   "id": "40333cd4",
   "metadata": {
    "papermill": {
     "duration": 0.009589,
     "end_time": "2024-06-25T12:08:01.552298",
     "exception": false,
     "start_time": "2024-06-25T12:08:01.542709",
     "status": "completed"
    },
    "tags": []
   },
   "source": [
    "# Config"
   ]
  },
  {
   "cell_type": "code",
   "execution_count": 4,
   "id": "2e278a68",
   "metadata": {
    "execution": {
     "iopub.execute_input": "2024-06-25T12:08:01.573399Z",
     "iopub.status.busy": "2024-06-25T12:08:01.573096Z",
     "iopub.status.idle": "2024-06-25T12:08:01.578328Z",
     "shell.execute_reply": "2024-06-25T12:08:01.577483Z"
    },
    "papermill": {
     "duration": 0.018038,
     "end_time": "2024-06-25T12:08:01.580320",
     "exception": false,
     "start_time": "2024-06-25T12:08:01.562282",
     "status": "completed"
    },
    "tags": []
   },
   "outputs": [],
   "source": [
    "DEBUG = False\n",
    "input_size = 224\n",
    "# num_frames = 1\n",
    "batch_size = 16 \n",
    "AUTOTUNE = tf.data.experimental.AUTOTUNE"
   ]
  },
  {
   "cell_type": "markdown",
   "id": "32a22292",
   "metadata": {
    "papermill": {
     "duration": 0.010872,
     "end_time": "2024-06-25T12:08:01.602849",
     "exception": false,
     "start_time": "2024-06-25T12:08:01.591977",
     "status": "completed"
    },
    "tags": []
   },
   "source": [
    "# Data Loading"
   ]
  },
  {
   "cell_type": "code",
   "execution_count": 5,
   "id": "e3ae1ff0",
   "metadata": {
    "execution": {
     "iopub.execute_input": "2024-06-25T12:08:01.624498Z",
     "iopub.status.busy": "2024-06-25T12:08:01.624137Z",
     "iopub.status.idle": "2024-06-25T12:08:01.630176Z",
     "shell.execute_reply": "2024-06-25T12:08:01.629397Z"
    },
    "papermill": {
     "duration": 0.019037,
     "end_time": "2024-06-25T12:08:01.632085",
     "exception": false,
     "start_time": "2024-06-25T12:08:01.613048",
     "status": "completed"
    },
    "tags": []
   },
   "outputs": [],
   "source": [
    "def data_augment(image, label=None, seed=123):\n",
    "\n",
    "#     image = transform(image, IMG_SIZES[0])\n",
    "    #image = tf.image.rot90(image,k=np.random.randint(4)) # rotate\n",
    "    image = tf.image.random_flip_left_right(image, seed=seed) # flip horizontal\n",
    "#     image = tf.image.random_flip_up_down(image, seed=seed) # flip vertical\n",
    "    image = tf.image.random_brightness(image, max_delta=0.2) # random brightness\n",
    "    image = tf.image.random_contrast(image, 0.8, 1.2) # random contrast\n",
    "    image = tf.image.random_saturation(image, 0.7, 1.3) # random saturation\n",
    "    \n",
    "    if label is None:\n",
    "        return image\n",
    "    else:\n",
    "        return image, label"
   ]
  },
  {
   "cell_type": "code",
   "execution_count": 6,
   "id": "217df834",
   "metadata": {
    "execution": {
     "iopub.execute_input": "2024-06-25T12:08:01.654780Z",
     "iopub.status.busy": "2024-06-25T12:08:01.653961Z",
     "iopub.status.idle": "2024-06-25T12:08:01.667652Z",
     "shell.execute_reply": "2024-06-25T12:08:01.666749Z"
    },
    "papermill": {
     "duration": 0.027248,
     "end_time": "2024-06-25T12:08:01.669758",
     "exception": false,
     "start_time": "2024-06-25T12:08:01.642510",
     "status": "completed"
    },
    "tags": []
   },
   "outputs": [],
   "source": [
    "def read_frames_from_folder(folder_path):\n",
    "    folder_path = folder_path.numpy().decode('utf-8')\n",
    "    # Get list of all frame files\n",
    "    frame_files = sorted([os.path.join(folder_path, f) for f in os.listdir(folder_path) if f.endswith('.jpg')])\n",
    "    \n",
    "    frames = []\n",
    "    for frame_file in frame_files[-3:]:\n",
    "        img = image.load_img(frame_file, target_size=(input_size, input_size), interpolation='bicubic',keep_aspect_ratio=True)\n",
    "        img_array = image.img_to_array(img)\n",
    "        frames.append(img_array)\n",
    "    \n",
    "    frames = tf.convert_to_tensor(frames, dtype=tf.float32)\n",
    "    return frames\n",
    "\n",
    "def load_frames_from_folder(file_path, label = None):\n",
    "    frames = tf.py_function(func=read_frames_from_folder, inp=[file_path], Tout=tf.float32)\n",
    "    frames.set_shape([None, input_size, input_size, 3])\n",
    "    \n",
    "    if label is None:\n",
    "        return frames\n",
    "    \n",
    "    labels = tf.repeat(tf.cast(label, dtype=tf.float32), tf.shape(frames)[0])\n",
    "    labels = tf.convert_to_tensor(labels, dtype=tf.float32)\n",
    "    return frames, labels\n",
    "\n",
    "def create_dataset(file_paths, labels, shuffle_buffer_size=None):\n",
    "    dataset = tf.data.Dataset.from_tensor_slices((file_paths, labels))\n",
    "    \n",
    "    # Shuffle training data\n",
    "    if shuffle_buffer_size:\n",
    "        dataset = dataset.shuffle(buffer_size=shuffle_buffer_size)\n",
    "    \n",
    "    dataset = dataset.map(load_frames_from_folder, num_parallel_calls=AUTOTUNE)\n",
    "    dataset = dataset.flat_map(lambda frames, labels: tf.data.Dataset.from_tensor_slices((frames, labels)))\n",
    "    dataset = dataset.batch(batch_size)\n",
    "    dataset = dataset.prefetch(AUTOTUNE)\n",
    "    return dataset\n"
   ]
  },
  {
   "cell_type": "code",
   "execution_count": 7,
   "id": "0c5405cc",
   "metadata": {
    "execution": {
     "iopub.execute_input": "2024-06-25T12:08:01.690845Z",
     "iopub.status.busy": "2024-06-25T12:08:01.690561Z",
     "iopub.status.idle": "2024-06-25T12:08:01.695593Z",
     "shell.execute_reply": "2024-06-25T12:08:01.694761Z"
    },
    "papermill": {
     "duration": 0.017599,
     "end_time": "2024-06-25T12:08:01.697365",
     "exception": false,
     "start_time": "2024-06-25T12:08:01.679766",
     "status": "completed"
    },
    "tags": []
   },
   "outputs": [],
   "source": [
    "# def read_last_frame_from_folder(folder_path):\n",
    "#     folder_path = folder_path.numpy().decode('utf-8')\n",
    "#     # Get list of all frame files\n",
    "#     frame_files = sorted([os.path.join(folder_path, f) for f in os.listdir(folder_path) if f.endswith('.jpg')])\n",
    "    \n",
    "#     # Take the last frame file\n",
    "#     last_frame_file = frame_files[-1] if frame_files else None\n",
    "    \n",
    "#     if last_frame_file:\n",
    "#         img = image.load_img(last_frame_file, target_size=(input_size, input_size), interpolation='bicubic',keep_aspect_ratio=True)\n",
    "#         img_array = image.img_to_array(img)\n",
    "#         img_tensor = tf.convert_to_tensor(img_array, dtype=tf.float32)\n",
    "#     else:\n",
    "#         # Handle the case where the folder is empty\n",
    "#         img_tensor = tf.zeros((input_size, input_size, 3), dtype=tf.float32)\n",
    "    \n",
    "#     return img_tensor\n",
    "\n",
    "# def load_last_frame_from_folder(file_path, label=None):\n",
    "#     image_tensor = tf.py_function(func=read_last_frame_from_folder, inp=[file_path], Tout=tf.float32)\n",
    "#     image_tensor.set_shape([input_size, input_size, 3])\n",
    "#     if label is None:\n",
    "#         return image_tensor\n",
    "#     return image_tensor, tf.cast(label, dtype=tf.float32)\n",
    "\n",
    "# def create_dataset(file_paths, labels, shuffle_buffer_size=None):\n",
    "#     dataset = tf.data.Dataset.from_tensor_slices((file_paths, labels))\n",
    "    \n",
    "#     # shuffle training data\n",
    "#     if shuffle_buffer_size:\n",
    "#         dataset = dataset.shuffle(buffer_size=shuffle_buffer_size)\n",
    "    \n",
    "#     dataset = dataset.map(load_last_frame_from_folder, num_parallel_calls=AUTOTUNE)\n",
    "#     dataset = dataset.map(data_augment, num_parallel_calls=AUTOTUNE)\n",
    "#     dataset = dataset.batch(batch_size)\n",
    "#     dataset = dataset.prefetch(AUTOTUNE)\n",
    "#     return dataset"
   ]
  },
  {
   "cell_type": "code",
   "execution_count": 8,
   "id": "c317e295",
   "metadata": {
    "execution": {
     "iopub.execute_input": "2024-06-25T12:08:01.718856Z",
     "iopub.status.busy": "2024-06-25T12:08:01.718566Z",
     "iopub.status.idle": "2024-06-25T12:08:01.753964Z",
     "shell.execute_reply": "2024-06-25T12:08:01.753001Z"
    },
    "papermill": {
     "duration": 0.048367,
     "end_time": "2024-06-25T12:08:01.755983",
     "exception": false,
     "start_time": "2024-06-25T12:08:01.707616",
     "status": "completed"
    },
    "tags": []
   },
   "outputs": [],
   "source": [
    "# Paths to your data\n",
    "freeway_train_path = '/kaggle/input/2nd-ava-challenge-ieee-mipr-2024/2nd_AVA_Dataset_2ed/freeway/train'\n",
    "road_train_path = '/kaggle/input/2nd-ava-challenge-ieee-mipr-2024/2nd_AVA_Dataset_2ed/road/train'\n",
    "freeway_train_csv = '/kaggle/input/2nd-ava-challenge-ieee-mipr-2024/2nd_AVA_Dataset_2ed/freeway_train.csv'\n",
    "road_train_csv = '/kaggle/input/2nd-ava-challenge-ieee-mipr-2024/2nd_AVA_Dataset_2ed/road_train.csv'\n",
    "\n",
    "# Read CSV files\n",
    "freeway_df = pd.read_csv(freeway_train_csv)\n",
    "road_df = pd.read_csv(road_train_csv)\n",
    "\n",
    "# Add the directory path to the file names\n",
    "freeway_df['file_name'] = freeway_df['file_name'].apply(lambda x: os.path.join(freeway_train_path, x))\n",
    "road_df['file_name'] = road_df['file_name'].apply(lambda x: os.path.join(road_train_path, x))\n",
    "\n",
    "# Combine dataframes\n",
    "all_df = pd.concat([freeway_df, road_df])\n",
    "\n",
    "if DEBUG:\n",
    "    all_df = all_df[:20]"
   ]
  },
  {
   "cell_type": "code",
   "execution_count": 9,
   "id": "6e417876",
   "metadata": {
    "execution": {
     "iopub.execute_input": "2024-06-25T12:08:01.777144Z",
     "iopub.status.busy": "2024-06-25T12:08:01.776859Z",
     "iopub.status.idle": "2024-06-25T12:08:02.618169Z",
     "shell.execute_reply": "2024-06-25T12:08:02.617202Z"
    },
    "papermill": {
     "duration": 0.854521,
     "end_time": "2024-06-25T12:08:02.620581",
     "exception": false,
     "start_time": "2024-06-25T12:08:01.766060",
     "status": "completed"
    },
    "tags": []
   },
   "outputs": [],
   "source": [
    "# Split into train and validation sets\n",
    "train_df, val_df = train_test_split(all_df, test_size=0.1, random_state=42, stratify=all_df['risk'])\n",
    "\n",
    "# Create datasets\n",
    "train_dataset = create_dataset(train_df['file_name'].values, train_df['risk'].values, shuffle_buffer_size=len(train_df))\n",
    "val_dataset = create_dataset(val_df['file_name'].values, val_df['risk'].values)"
   ]
  },
  {
   "cell_type": "markdown",
   "id": "425f6b6e",
   "metadata": {
    "papermill": {
     "duration": 0.009498,
     "end_time": "2024-06-25T12:08:02.640119",
     "exception": false,
     "start_time": "2024-06-25T12:08:02.630621",
     "status": "completed"
    },
    "tags": []
   },
   "source": [
    "### Sanity Check"
   ]
  },
  {
   "cell_type": "code",
   "execution_count": 10,
   "id": "38886f84",
   "metadata": {
    "execution": {
     "iopub.execute_input": "2024-06-25T12:08:02.660578Z",
     "iopub.status.busy": "2024-06-25T12:08:02.660256Z",
     "iopub.status.idle": "2024-06-25T12:08:02.664053Z",
     "shell.execute_reply": "2024-06-25T12:08:02.663199Z"
    },
    "papermill": {
     "duration": 0.016034,
     "end_time": "2024-06-25T12:08:02.665891",
     "exception": false,
     "start_time": "2024-06-25T12:08:02.649857",
     "status": "completed"
    },
    "tags": []
   },
   "outputs": [],
   "source": [
    "# print('Got train data: ', len(train_df), len(train_dataset))\n",
    "# print('Got val data:', len(val_df), len(val_dataset))"
   ]
  },
  {
   "cell_type": "code",
   "execution_count": 11,
   "id": "cd49b838",
   "metadata": {
    "execution": {
     "iopub.execute_input": "2024-06-25T12:08:02.686632Z",
     "iopub.status.busy": "2024-06-25T12:08:02.686343Z",
     "iopub.status.idle": "2024-06-25T12:08:09.780879Z",
     "shell.execute_reply": "2024-06-25T12:08:09.779967Z"
    },
    "papermill": {
     "duration": 7.107453,
     "end_time": "2024-06-25T12:08:09.783264",
     "exception": false,
     "start_time": "2024-06-25T12:08:02.675811",
     "status": "completed"
    },
    "tags": []
   },
   "outputs": [
    {
     "name": "stdout",
     "output_type": "stream",
     "text": [
      "(16, 224, 224, 3) (16,)\n",
      "(16, 224, 224, 3) (16,)\n"
     ]
    }
   ],
   "source": [
    "# Example: Iterate through the train dataset\n",
    "for videos, labels in train_dataset.take(1):\n",
    "    print(videos.shape, labels.shape)\n",
    "\n",
    "# Example: Iterate through the validation dataset\n",
    "for videos, labels in val_dataset.take(1):\n",
    "    print(videos.shape, labels.shape)"
   ]
  },
  {
   "cell_type": "markdown",
   "id": "dcc976f7",
   "metadata": {
    "papermill": {
     "duration": 0.010177,
     "end_time": "2024-06-25T12:08:09.804299",
     "exception": false,
     "start_time": "2024-06-25T12:08:09.794122",
     "status": "completed"
    },
    "tags": []
   },
   "source": [
    "### Plot the Data"
   ]
  },
  {
   "cell_type": "code",
   "execution_count": 12,
   "id": "6aa0cc3f",
   "metadata": {
    "execution": {
     "iopub.execute_input": "2024-06-25T12:08:09.827118Z",
     "iopub.status.busy": "2024-06-25T12:08:09.826557Z",
     "iopub.status.idle": "2024-06-25T12:08:09.831895Z",
     "shell.execute_reply": "2024-06-25T12:08:09.830995Z"
    },
    "papermill": {
     "duration": 0.01899,
     "end_time": "2024-06-25T12:08:09.833862",
     "exception": false,
     "start_time": "2024-06-25T12:08:09.814872",
     "status": "completed"
    },
    "tags": []
   },
   "outputs": [],
   "source": [
    "# import matplotlib.pyplot as plt\n",
    "# import numpy as np\n",
    "\n",
    "# def plot_sample_frames(dataset, num_samples=3, frames_to_plot=5):\n",
    "#     \"\"\"\n",
    "#     Plots a few frames of sample videos from the dataset along with their labels.\n",
    "\n",
    "#     Args:\n",
    "#     dataset: tf.data.Dataset - The dataset containing video frames and labels.\n",
    "#     num_samples: int - Number of sample videos to plot.\n",
    "#     frames_to_plot: int - Number of frames to plot from each sample video.\n",
    "#     \"\"\"\n",
    "#     # Take num_samples from the dataset\n",
    "#     for videos, labels in dataset.take(num_samples):\n",
    "#         # Convert tensors to numpy arrays\n",
    "#         videos = videos.numpy()\n",
    "#         labels = labels.numpy()\n",
    "        \n",
    "#         # Iterate over each sample in the batch\n",
    "#         for i in range(videos.shape[0]):\n",
    "#             fig, axes = plt.subplots(1, frames_to_plot, figsize=(15, 5))\n",
    "#             fig.suptitle(f'Sample {i+1} - Label: {int(labels[i])}', fontsize=16)\n",
    "            \n",
    "#             # Plot a few frames from the sample video\n",
    "#             for j in range(frames_to_plot):\n",
    "#                 if j < videos.shape[1]:\n",
    "#                     frame = videos[i, j]\n",
    "#                     axes[j].imshow(frame.astype(np.uint8))\n",
    "#                     axes[j].axis('off')\n",
    "            \n",
    "#             plt.show()\n",
    "\n",
    "# # Example usage:\n",
    "# # Plot a few frames of 2 sample videos from the train dataset\n",
    "# plot_sample_frames(train_dataset, num_samples=2, frames_to_plot=5)"
   ]
  },
  {
   "cell_type": "markdown",
   "id": "cb1c35da",
   "metadata": {
    "papermill": {
     "duration": 0.010117,
     "end_time": "2024-06-25T12:08:09.854690",
     "exception": false,
     "start_time": "2024-06-25T12:08:09.844573",
     "status": "completed"
    },
    "tags": []
   },
   "source": [
    "# Model"
   ]
  },
  {
   "cell_type": "code",
   "execution_count": 13,
   "id": "f430c242",
   "metadata": {
    "execution": {
     "iopub.execute_input": "2024-06-25T12:08:09.875976Z",
     "iopub.status.busy": "2024-06-25T12:08:09.875657Z",
     "iopub.status.idle": "2024-06-25T12:08:09.879581Z",
     "shell.execute_reply": "2024-06-25T12:08:09.878774Z"
    },
    "papermill": {
     "duration": 0.016955,
     "end_time": "2024-06-25T12:08:09.881570",
     "exception": false,
     "start_time": "2024-06-25T12:08:09.864615",
     "status": "completed"
    },
    "tags": []
   },
   "outputs": [],
   "source": [
    "# !pip install -q image-classifiers # library doesn't seem to work w/ newer tf versions"
   ]
  },
  {
   "cell_type": "code",
   "execution_count": 14,
   "id": "4de233f0",
   "metadata": {
    "execution": {
     "iopub.execute_input": "2024-06-25T12:08:09.903499Z",
     "iopub.status.busy": "2024-06-25T12:08:09.903152Z",
     "iopub.status.idle": "2024-06-25T12:08:09.907258Z",
     "shell.execute_reply": "2024-06-25T12:08:09.906381Z"
    },
    "papermill": {
     "duration": 0.017194,
     "end_time": "2024-06-25T12:08:09.909250",
     "exception": false,
     "start_time": "2024-06-25T12:08:09.892056",
     "status": "completed"
    },
    "tags": []
   },
   "outputs": [],
   "source": [
    "# from classification_models.tfkeras import Classifiers\n",
    "\n",
    "# SeResNeXT, preprocess_fn = Classifiers.get('seresnext50')"
   ]
  },
  {
   "cell_type": "code",
   "execution_count": 15,
   "id": "580ae5d9",
   "metadata": {
    "execution": {
     "iopub.execute_input": "2024-06-25T12:08:09.931902Z",
     "iopub.status.busy": "2024-06-25T12:08:09.931003Z",
     "iopub.status.idle": "2024-06-25T12:08:25.852724Z",
     "shell.execute_reply": "2024-06-25T12:08:25.851911Z"
    },
    "papermill": {
     "duration": 15.935113,
     "end_time": "2024-06-25T12:08:25.854939",
     "exception": false,
     "start_time": "2024-06-25T12:08:09.919826",
     "status": "completed"
    },
    "tags": []
   },
   "outputs": [
    {
     "name": "stdout",
     "output_type": "stream",
     "text": [
      "Downloading data from https://storage.googleapis.com/tensorflow/keras-applications/efficientnet_v2/efficientnetv2-m_notop.h5\n",
      "\u001b[1m214201816/214201816\u001b[0m \u001b[32m━━━━━━━━━━━━━━━━━━━━\u001b[0m\u001b[37m\u001b[0m \u001b[1m11s\u001b[0m 0us/step\n"
     ]
    }
   ],
   "source": [
    "feature_extractor = tf.keras.applications.EfficientNetV2M(\n",
    "    weights='imagenet', \n",
    "    include_top=False,  \n",
    "    input_shape=(input_size, input_size, 3), \n",
    "    pooling=None,\n",
    ")\n",
    "\n",
    "# feature_extractor = SeResNeXT(input_shape=(224,224,3), weights='imagenet', include_top=False)\n",
    "# preprocess_layer = tf.keras.layers.Lambda(lambda x: preprocess_fn(x))\n",
    "\n",
    "\n",
    "model = tf.keras.models.Sequential([\n",
    "    tf.keras.Input((input_size, input_size, 3)),\n",
    "#     preprocess_layer,\n",
    "    feature_extractor,\n",
    "    tf.keras.layers.GlobalAveragePooling2D(),\n",
    "    tf.keras.layers.BatchNormalization(),\n",
    "    tf.keras.layers.Dense(512, activation= 'relu', kernel_regularizer=tf.keras.regularizers.l2(0.01)),\n",
    "    tf.keras.layers.Dropout(rate= 0.25, seed= 123),\n",
    "    tf.keras.layers.Dense(2, activation=None)\n",
    "])"
   ]
  },
  {
   "cell_type": "code",
   "execution_count": 16,
   "id": "b4e790ac",
   "metadata": {
    "execution": {
     "iopub.execute_input": "2024-06-25T12:08:25.895593Z",
     "iopub.status.busy": "2024-06-25T12:08:25.895249Z",
     "iopub.status.idle": "2024-06-25T12:08:25.949257Z",
     "shell.execute_reply": "2024-06-25T12:08:25.948369Z"
    },
    "papermill": {
     "duration": 0.076434,
     "end_time": "2024-06-25T12:08:25.951167",
     "exception": false,
     "start_time": "2024-06-25T12:08:25.874733",
     "status": "completed"
    },
    "tags": []
   },
   "outputs": [
    {
     "data": {
      "text/html": [
       "<pre style=\"white-space:pre;overflow-x:auto;line-height:normal;font-family:Menlo,'DejaVu Sans Mono',consolas,'Courier New',monospace\"><span style=\"font-weight: bold\">Model: \"sequential\"</span>\n",
       "</pre>\n"
      ],
      "text/plain": [
       "\u001b[1mModel: \"sequential\"\u001b[0m\n"
      ]
     },
     "metadata": {},
     "output_type": "display_data"
    },
    {
     "data": {
      "text/html": [
       "<pre style=\"white-space:pre;overflow-x:auto;line-height:normal;font-family:Menlo,'DejaVu Sans Mono',consolas,'Courier New',monospace\">┏━━━━━━━━━━━━━━━━━━━━━━━━━━━━━━━━━┳━━━━━━━━━━━━━━━━━━━━━━━━┳━━━━━━━━━━━━━━━┓\n",
       "┃<span style=\"font-weight: bold\"> Layer (type)                    </span>┃<span style=\"font-weight: bold\"> Output Shape           </span>┃<span style=\"font-weight: bold\">       Param # </span>┃\n",
       "┡━━━━━━━━━━━━━━━━━━━━━━━━━━━━━━━━━╇━━━━━━━━━━━━━━━━━━━━━━━━╇━━━━━━━━━━━━━━━┩\n",
       "│ efficientnetv2-m (<span style=\"color: #0087ff; text-decoration-color: #0087ff\">Functional</span>)   │ (<span style=\"color: #00d7ff; text-decoration-color: #00d7ff\">None</span>, <span style=\"color: #00af00; text-decoration-color: #00af00\">7</span>, <span style=\"color: #00af00; text-decoration-color: #00af00\">7</span>, <span style=\"color: #00af00; text-decoration-color: #00af00\">1280</span>)     │    <span style=\"color: #00af00; text-decoration-color: #00af00\">53,150,388</span> │\n",
       "├─────────────────────────────────┼────────────────────────┼───────────────┤\n",
       "│ global_average_pooling2d        │ (<span style=\"color: #00d7ff; text-decoration-color: #00d7ff\">None</span>, <span style=\"color: #00af00; text-decoration-color: #00af00\">1280</span>)           │             <span style=\"color: #00af00; text-decoration-color: #00af00\">0</span> │\n",
       "│ (<span style=\"color: #0087ff; text-decoration-color: #0087ff\">GlobalAveragePooling2D</span>)        │                        │               │\n",
       "├─────────────────────────────────┼────────────────────────┼───────────────┤\n",
       "│ batch_normalization             │ (<span style=\"color: #00d7ff; text-decoration-color: #00d7ff\">None</span>, <span style=\"color: #00af00; text-decoration-color: #00af00\">1280</span>)           │         <span style=\"color: #00af00; text-decoration-color: #00af00\">5,120</span> │\n",
       "│ (<span style=\"color: #0087ff; text-decoration-color: #0087ff\">BatchNormalization</span>)            │                        │               │\n",
       "├─────────────────────────────────┼────────────────────────┼───────────────┤\n",
       "│ dense (<span style=\"color: #0087ff; text-decoration-color: #0087ff\">Dense</span>)                   │ (<span style=\"color: #00d7ff; text-decoration-color: #00d7ff\">None</span>, <span style=\"color: #00af00; text-decoration-color: #00af00\">512</span>)            │       <span style=\"color: #00af00; text-decoration-color: #00af00\">655,872</span> │\n",
       "├─────────────────────────────────┼────────────────────────┼───────────────┤\n",
       "│ dropout (<span style=\"color: #0087ff; text-decoration-color: #0087ff\">Dropout</span>)               │ (<span style=\"color: #00d7ff; text-decoration-color: #00d7ff\">None</span>, <span style=\"color: #00af00; text-decoration-color: #00af00\">512</span>)            │             <span style=\"color: #00af00; text-decoration-color: #00af00\">0</span> │\n",
       "├─────────────────────────────────┼────────────────────────┼───────────────┤\n",
       "│ dense_1 (<span style=\"color: #0087ff; text-decoration-color: #0087ff\">Dense</span>)                 │ (<span style=\"color: #00d7ff; text-decoration-color: #00d7ff\">None</span>, <span style=\"color: #00af00; text-decoration-color: #00af00\">2</span>)              │         <span style=\"color: #00af00; text-decoration-color: #00af00\">1,026</span> │\n",
       "└─────────────────────────────────┴────────────────────────┴───────────────┘\n",
       "</pre>\n"
      ],
      "text/plain": [
       "┏━━━━━━━━━━━━━━━━━━━━━━━━━━━━━━━━━┳━━━━━━━━━━━━━━━━━━━━━━━━┳━━━━━━━━━━━━━━━┓\n",
       "┃\u001b[1m \u001b[0m\u001b[1mLayer (type)                   \u001b[0m\u001b[1m \u001b[0m┃\u001b[1m \u001b[0m\u001b[1mOutput Shape          \u001b[0m\u001b[1m \u001b[0m┃\u001b[1m \u001b[0m\u001b[1m      Param #\u001b[0m\u001b[1m \u001b[0m┃\n",
       "┡━━━━━━━━━━━━━━━━━━━━━━━━━━━━━━━━━╇━━━━━━━━━━━━━━━━━━━━━━━━╇━━━━━━━━━━━━━━━┩\n",
       "│ efficientnetv2-m (\u001b[38;5;33mFunctional\u001b[0m)   │ (\u001b[38;5;45mNone\u001b[0m, \u001b[38;5;34m7\u001b[0m, \u001b[38;5;34m7\u001b[0m, \u001b[38;5;34m1280\u001b[0m)     │    \u001b[38;5;34m53,150,388\u001b[0m │\n",
       "├─────────────────────────────────┼────────────────────────┼───────────────┤\n",
       "│ global_average_pooling2d        │ (\u001b[38;5;45mNone\u001b[0m, \u001b[38;5;34m1280\u001b[0m)           │             \u001b[38;5;34m0\u001b[0m │\n",
       "│ (\u001b[38;5;33mGlobalAveragePooling2D\u001b[0m)        │                        │               │\n",
       "├─────────────────────────────────┼────────────────────────┼───────────────┤\n",
       "│ batch_normalization             │ (\u001b[38;5;45mNone\u001b[0m, \u001b[38;5;34m1280\u001b[0m)           │         \u001b[38;5;34m5,120\u001b[0m │\n",
       "│ (\u001b[38;5;33mBatchNormalization\u001b[0m)            │                        │               │\n",
       "├─────────────────────────────────┼────────────────────────┼───────────────┤\n",
       "│ dense (\u001b[38;5;33mDense\u001b[0m)                   │ (\u001b[38;5;45mNone\u001b[0m, \u001b[38;5;34m512\u001b[0m)            │       \u001b[38;5;34m655,872\u001b[0m │\n",
       "├─────────────────────────────────┼────────────────────────┼───────────────┤\n",
       "│ dropout (\u001b[38;5;33mDropout\u001b[0m)               │ (\u001b[38;5;45mNone\u001b[0m, \u001b[38;5;34m512\u001b[0m)            │             \u001b[38;5;34m0\u001b[0m │\n",
       "├─────────────────────────────────┼────────────────────────┼───────────────┤\n",
       "│ dense_1 (\u001b[38;5;33mDense\u001b[0m)                 │ (\u001b[38;5;45mNone\u001b[0m, \u001b[38;5;34m2\u001b[0m)              │         \u001b[38;5;34m1,026\u001b[0m │\n",
       "└─────────────────────────────────┴────────────────────────┴───────────────┘\n"
      ]
     },
     "metadata": {},
     "output_type": "display_data"
    },
    {
     "data": {
      "text/html": [
       "<pre style=\"white-space:pre;overflow-x:auto;line-height:normal;font-family:Menlo,'DejaVu Sans Mono',consolas,'Courier New',monospace\"><span style=\"font-weight: bold\"> Total params: </span><span style=\"color: #00af00; text-decoration-color: #00af00\">53,812,406</span> (205.28 MB)\n",
       "</pre>\n"
      ],
      "text/plain": [
       "\u001b[1m Total params: \u001b[0m\u001b[38;5;34m53,812,406\u001b[0m (205.28 MB)\n"
      ]
     },
     "metadata": {},
     "output_type": "display_data"
    },
    {
     "data": {
      "text/html": [
       "<pre style=\"white-space:pre;overflow-x:auto;line-height:normal;font-family:Menlo,'DejaVu Sans Mono',consolas,'Courier New',monospace\"><span style=\"font-weight: bold\"> Trainable params: </span><span style=\"color: #00af00; text-decoration-color: #00af00\">53,517,814</span> (204.15 MB)\n",
       "</pre>\n"
      ],
      "text/plain": [
       "\u001b[1m Trainable params: \u001b[0m\u001b[38;5;34m53,517,814\u001b[0m (204.15 MB)\n"
      ]
     },
     "metadata": {},
     "output_type": "display_data"
    },
    {
     "data": {
      "text/html": [
       "<pre style=\"white-space:pre;overflow-x:auto;line-height:normal;font-family:Menlo,'DejaVu Sans Mono',consolas,'Courier New',monospace\"><span style=\"font-weight: bold\"> Non-trainable params: </span><span style=\"color: #00af00; text-decoration-color: #00af00\">294,592</span> (1.12 MB)\n",
       "</pre>\n"
      ],
      "text/plain": [
       "\u001b[1m Non-trainable params: \u001b[0m\u001b[38;5;34m294,592\u001b[0m (1.12 MB)\n"
      ]
     },
     "metadata": {},
     "output_type": "display_data"
    }
   ],
   "source": [
    "model.summary()"
   ]
  },
  {
   "cell_type": "markdown",
   "id": "7bbf5add",
   "metadata": {
    "papermill": {
     "duration": 0.020169,
     "end_time": "2024-06-25T12:08:25.991860",
     "exception": false,
     "start_time": "2024-06-25T12:08:25.971691",
     "status": "completed"
    },
    "tags": []
   },
   "source": [
    "## Optimize & Compile"
   ]
  },
  {
   "cell_type": "code",
   "execution_count": 17,
   "id": "85460754",
   "metadata": {
    "execution": {
     "iopub.execute_input": "2024-06-25T12:08:26.034928Z",
     "iopub.status.busy": "2024-06-25T12:08:26.034565Z",
     "iopub.status.idle": "2024-06-25T12:08:26.040878Z",
     "shell.execute_reply": "2024-06-25T12:08:26.039947Z"
    },
    "papermill": {
     "duration": 0.030254,
     "end_time": "2024-06-25T12:08:26.042946",
     "exception": false,
     "start_time": "2024-06-25T12:08:26.012692",
     "status": "completed"
    },
    "tags": []
   },
   "outputs": [],
   "source": [
    "def lrfn(epoch):\n",
    "    if epoch < lr_ramp_ep:\n",
    "        lr = (lr_max - lr_start) / lr_ramp_ep * epoch + lr_start\n",
    "\n",
    "    elif epoch < lr_ramp_ep + lr_sus_ep:\n",
    "        lr = lr_max\n",
    "\n",
    "    else:\n",
    "        lr = (lr_max - lr_min) * lr_decay**(epoch - lr_ramp_ep - lr_sus_ep) + lr_min\n",
    "\n",
    "    return lr\n",
    "\n",
    "def get_lr_callback(batch_size=16):\n",
    "#     lr_start   = 0.000005\n",
    "#     lr_max     = 0.000003 * batch_size\n",
    "#     lr_min     = 0.000001\n",
    "#     lr_ramp_ep = 5\n",
    "#     lr_sus_ep  = 0\n",
    "#     lr_decay   = 0.3\n",
    "       \n",
    "    lr_callback = tf.keras.callbacks.LearningRateScheduler(lrfn, verbose=False)\n",
    "    return lr_callback"
   ]
  },
  {
   "cell_type": "code",
   "execution_count": 18,
   "id": "b3ab05a7",
   "metadata": {
    "execution": {
     "iopub.execute_input": "2024-06-25T12:08:26.085918Z",
     "iopub.status.busy": "2024-06-25T12:08:26.085598Z",
     "iopub.status.idle": "2024-06-25T12:08:26.311276Z",
     "shell.execute_reply": "2024-06-25T12:08:26.310337Z"
    },
    "papermill": {
     "duration": 0.249235,
     "end_time": "2024-06-25T12:08:26.313174",
     "exception": false,
     "start_time": "2024-06-25T12:08:26.063939",
     "status": "completed"
    },
    "tags": []
   },
   "outputs": [
    {
     "name": "stdout",
     "output_type": "stream",
     "text": [
      "Learning rate schedule: 0.0005 to 0.032 to 0.000305\n"
     ]
    },
    {
     "data": {
      "image/png": "[encoded data removed]",
      "text/plain": [
       "<Figure size 640x480 with 1 Axes>"
      ]
     },
     "metadata": {},
     "output_type": "display_data"
    }
   ],
   "source": [
    "EPOCHS = 10 if DEBUG else 30\n",
    "lr_start   = 0.0005\n",
    "lr_max     = 0.002 * batch_size\n",
    "lr_min     = 0.00001\n",
    "lr_ramp_ep = 5\n",
    "lr_sus_ep  = 3\n",
    "lr_decay   = 0.8\n",
    "\n",
    "rng = [i for i in range(8 if EPOCHS<8 else EPOCHS)]\n",
    "y = [lrfn(x) for x in rng]\n",
    "plt.plot(rng, y)\n",
    "print(\"Learning rate schedule: {:.3g} to {:.3g} to {:.3g}\".format(y[0], max(y), y[-1]))"
   ]
  },
  {
   "cell_type": "code",
   "execution_count": 19,
   "id": "1a50d244",
   "metadata": {
    "execution": {
     "iopub.execute_input": "2024-06-25T12:08:26.356990Z",
     "iopub.status.busy": "2024-06-25T12:08:26.356224Z",
     "iopub.status.idle": "2024-06-25T12:08:26.363497Z",
     "shell.execute_reply": "2024-06-25T12:08:26.362422Z"
    },
    "papermill": {
     "duration": 0.031451,
     "end_time": "2024-06-25T12:08:26.365583",
     "exception": false,
     "start_time": "2024-06-25T12:08:26.334132",
     "status": "completed"
    },
    "tags": []
   },
   "outputs": [],
   "source": [
    "# ModelCheckpoint callback - to save best model from every training\n",
    "checkpoint = keras.callbacks.ModelCheckpoint(\"best_model.weights.h5\", \n",
    "                                                save_best_only=True, \n",
    "                                                save_weights_only=True,\n",
    "                                                verbose=0,\n",
    "                                                monitor='val_loss', \n",
    "                                                mode='min')\n",
    "\n",
    "csv_logger = tf.keras.callbacks.CSVLogger('history.csv')\n",
    "\n",
    "learning_rate_reduction= keras.callbacks.ReduceLROnPlateau(monitor='loss',patience=2,verbose=1,factor=0.1,min_lr=0.0000000001) \n",
    "\n",
    "# callbacks = [checkpoint, learning_rate_reduction]\n",
    "\n",
    "callbacks = [checkpoint, csv_logger, get_lr_callback()]"
   ]
  },
  {
   "cell_type": "code",
   "execution_count": 20,
   "id": "aa56635a",
   "metadata": {
    "execution": {
     "iopub.execute_input": "2024-06-25T12:08:26.408998Z",
     "iopub.status.busy": "2024-06-25T12:08:26.408377Z",
     "iopub.status.idle": "2024-06-25T12:08:26.428085Z",
     "shell.execute_reply": "2024-06-25T12:08:26.427178Z"
    },
    "papermill": {
     "duration": 0.043938,
     "end_time": "2024-06-25T12:08:26.430171",
     "exception": false,
     "start_time": "2024-06-25T12:08:26.386233",
     "status": "completed"
    },
    "tags": []
   },
   "outputs": [],
   "source": [
    "model.compile(\n",
    "    optimizer=tf.keras.optimizers.SGD(nesterov=False),\n",
    "    loss=keras.losses.SparseCategoricalCrossentropy(from_logits=True),\n",
    "    metrics=[\n",
    "        keras.metrics.SparseCategoricalAccuracy(name=\"accuracy\"),\n",
    "    ],\n",
    ")"
   ]
  },
  {
   "cell_type": "markdown",
   "id": "6e69f9eb",
   "metadata": {
    "papermill": {
     "duration": 0.020687,
     "end_time": "2024-06-25T12:08:26.472237",
     "exception": false,
     "start_time": "2024-06-25T12:08:26.451550",
     "status": "completed"
    },
    "tags": []
   },
   "source": [
    "## Train Model"
   ]
  },
  {
   "cell_type": "code",
   "execution_count": 21,
   "id": "0a51dd00",
   "metadata": {
    "execution": {
     "iopub.execute_input": "2024-06-25T12:08:26.515681Z",
     "iopub.status.busy": "2024-06-25T12:08:26.514838Z",
     "iopub.status.idle": "2024-06-25T13:12:39.321283Z",
     "shell.execute_reply": "2024-06-25T13:12:39.320472Z"
    },
    "papermill": {
     "duration": 3852.830554,
     "end_time": "2024-06-25T13:12:39.323359",
     "exception": false,
     "start_time": "2024-06-25T12:08:26.492805",
     "status": "completed"
    },
    "tags": []
   },
   "outputs": [
    {
     "name": "stdout",
     "output_type": "stream",
     "text": [
      "Epoch 1/30\n"
     ]
    },
    {
     "name": "stderr",
     "output_type": "stream",
     "text": [
      "WARNING: All log messages before absl::InitializeLog() is called are written to STDERR\n",
      "I0000 00:00:1719317504.452001      69 device_compiler.h:186] Compiled cluster using XLA!  This line is logged at most once for the lifetime of the process.\n"
     ]
    },
    {
     "name": "stdout",
     "output_type": "stream",
     "text": [
      "      1/Unknown \u001b[1m198s\u001b[0m 198s/step - accuracy: 0.6250 - loss: 8.0994"
     ]
    },
    {
     "name": "stderr",
     "output_type": "stream",
     "text": [
      "W0000 00:00:1719317504.695547      69 graph_launch.cc:671] Fallback to op-by-op mode because memset node breaks graph update\n"
     ]
    },
    {
     "name": "stdout",
     "output_type": "stream",
     "text": [
      "     61/Unknown \u001b[1m449s\u001b[0m 4s/step - accuracy: 0.5169 - loss: 8.2405"
     ]
    },
    {
     "name": "stderr",
     "output_type": "stream",
     "text": [
      "/opt/conda/lib/python3.10/contextlib.py:153: UserWarning: Your input ran out of data; interrupting training. Make sure that your dataset or generator can generate at least `steps_per_epoch * epochs` batches. You may need to use the `.repeat()` function when building your dataset.\n",
      "  self.gen.throw(typ, value, traceback)\n",
      "W0000 00:00:1719317775.337783      66 graph_launch.cc:671] Fallback to op-by-op mode because memset node breaks graph update\n"
     ]
    },
    {
     "name": "stdout",
     "output_type": "stream",
     "text": [
      "\u001b[1m61/61\u001b[0m \u001b[32m━━━━━━━━━━━━━━━━━━━━\u001b[0m\u001b[37m\u001b[0m \u001b[1m488s\u001b[0m 5s/step - accuracy: 0.5176 - loss: 8.2393 - val_accuracy: 0.6759 - val_loss: 7.9359 - learning_rate: 5.0000e-04\n",
      "Epoch 2/30\n",
      "\u001b[1m61/61\u001b[0m \u001b[32m━━━━━━━━━━━━━━━━━━━━\u001b[0m\u001b[37m\u001b[0m \u001b[1m117s\u001b[0m 2s/step - accuracy: 0.6854 - loss: 7.9835 - val_accuracy: 0.7685 - val_loss: 7.7838 - learning_rate: 0.0068\n",
      "Epoch 3/30\n",
      "\u001b[1m61/61\u001b[0m \u001b[32m━━━━━━━━━━━━━━━━━━━━\u001b[0m\u001b[37m\u001b[0m \u001b[1m116s\u001b[0m 2s/step - accuracy: 0.7676 - loss: 7.6969 - val_accuracy: 0.6852 - val_loss: 7.5825 - learning_rate: 0.0131\n",
      "Epoch 4/30\n",
      "\u001b[1m61/61\u001b[0m \u001b[32m━━━━━━━━━━━━━━━━━━━━\u001b[0m\u001b[37m\u001b[0m \u001b[1m116s\u001b[0m 2s/step - accuracy: 0.8106 - loss: 7.3556 - val_accuracy: 0.6296 - val_loss: 7.5579 - learning_rate: 0.0194\n",
      "Epoch 5/30\n",
      "\u001b[1m61/61\u001b[0m \u001b[32m━━━━━━━━━━━━━━━━━━━━\u001b[0m\u001b[37m\u001b[0m \u001b[1m116s\u001b[0m 2s/step - accuracy: 0.8487 - loss: 6.9331 - val_accuracy: 0.6481 - val_loss: 7.0455 - learning_rate: 0.0257\n",
      "Epoch 6/30\n",
      "\u001b[1m61/61\u001b[0m \u001b[32m━━━━━━━━━━━━━━━━━━━━\u001b[0m\u001b[37m\u001b[0m \u001b[1m115s\u001b[0m 2s/step - accuracy: 0.8368 - loss: 6.6085 - val_accuracy: 0.6667 - val_loss: 7.2236 - learning_rate: 0.0320\n",
      "Epoch 7/30\n",
      "\u001b[1m61/61\u001b[0m \u001b[32m━━━━━━━━━━━━━━━━━━━━\u001b[0m\u001b[37m\u001b[0m \u001b[1m116s\u001b[0m 2s/step - accuracy: 0.8979 - loss: 5.9169 - val_accuracy: 0.6759 - val_loss: 6.7564 - learning_rate: 0.0320\n",
      "Epoch 8/30\n",
      "\u001b[1m61/61\u001b[0m \u001b[32m━━━━━━━━━━━━━━━━━━━━\u001b[0m\u001b[37m\u001b[0m \u001b[1m116s\u001b[0m 2s/step - accuracy: 0.9195 - loss: 5.4216 - val_accuracy: 0.6574 - val_loss: 6.6340 - learning_rate: 0.0320\n",
      "Epoch 9/30\n",
      "\u001b[1m61/61\u001b[0m \u001b[32m━━━━━━━━━━━━━━━━━━━━\u001b[0m\u001b[37m\u001b[0m \u001b[1m117s\u001b[0m 2s/step - accuracy: 0.9576 - loss: 4.9846 - val_accuracy: 0.6389 - val_loss: 5.6656 - learning_rate: 0.0320\n",
      "Epoch 10/30\n",
      "\u001b[1m61/61\u001b[0m \u001b[32m━━━━━━━━━━━━━━━━━━━━\u001b[0m\u001b[37m\u001b[0m \u001b[1m117s\u001b[0m 2s/step - accuracy: 0.9571 - loss: 4.6032 - val_accuracy: 0.6944 - val_loss: 5.6296 - learning_rate: 0.0256\n",
      "Epoch 11/30\n",
      "\u001b[1m61/61\u001b[0m \u001b[32m━━━━━━━━━━━━━━━━━━━━\u001b[0m\u001b[37m\u001b[0m \u001b[1m118s\u001b[0m 2s/step - accuracy: 0.9726 - loss: 4.3214 - val_accuracy: 0.6667 - val_loss: 5.3156 - learning_rate: 0.0205\n",
      "Epoch 12/30\n",
      "\u001b[1m61/61\u001b[0m \u001b[32m━━━━━━━━━━━━━━━━━━━━\u001b[0m\u001b[37m\u001b[0m \u001b[1m116s\u001b[0m 2s/step - accuracy: 0.9817 - loss: 4.1068 - val_accuracy: 0.6667 - val_loss: 5.4696 - learning_rate: 0.0164\n",
      "Epoch 13/30\n",
      "\u001b[1m61/61\u001b[0m \u001b[32m━━━━━━━━━━━━━━━━━━━━\u001b[0m\u001b[37m\u001b[0m \u001b[1m117s\u001b[0m 2s/step - accuracy: 0.9856 - loss: 3.9371 - val_accuracy: 0.6667 - val_loss: 5.3232 - learning_rate: 0.0131\n",
      "Epoch 14/30\n",
      "\u001b[1m61/61\u001b[0m \u001b[32m━━━━━━━━━━━━━━━━━━━━\u001b[0m\u001b[37m\u001b[0m \u001b[1m118s\u001b[0m 2s/step - accuracy: 0.9878 - loss: 3.8225 - val_accuracy: 0.6481 - val_loss: 5.2344 - learning_rate: 0.0105\n",
      "Epoch 15/30\n",
      "\u001b[1m61/61\u001b[0m \u001b[32m━━━━━━━━━━━━━━━━━━━━\u001b[0m\u001b[37m\u001b[0m \u001b[1m117s\u001b[0m 2s/step - accuracy: 0.9914 - loss: 3.7210 - val_accuracy: 0.6667 - val_loss: 5.4188 - learning_rate: 0.0084\n",
      "Epoch 16/30\n",
      "\u001b[1m61/61\u001b[0m \u001b[32m━━━━━━━━━━━━━━━━━━━━\u001b[0m\u001b[37m\u001b[0m \u001b[1m115s\u001b[0m 2s/step - accuracy: 0.9911 - loss: 3.6484 - val_accuracy: 0.6667 - val_loss: 5.3788 - learning_rate: 0.0067\n",
      "Epoch 17/30\n",
      "\u001b[1m61/61\u001b[0m \u001b[32m━━━━━━━━━━━━━━━━━━━━\u001b[0m\u001b[37m\u001b[0m \u001b[1m116s\u001b[0m 2s/step - accuracy: 0.9786 - loss: 3.6115 - val_accuracy: 0.6481 - val_loss: 5.3423 - learning_rate: 0.0054\n",
      "Epoch 18/30\n",
      "\u001b[1m61/61\u001b[0m \u001b[32m━━━━━━━━━━━━━━━━━━━━\u001b[0m\u001b[37m\u001b[0m \u001b[1m118s\u001b[0m 2s/step - accuracy: 0.9903 - loss: 3.5560 - val_accuracy: 0.6019 - val_loss: 5.0061 - learning_rate: 0.0043\n",
      "Epoch 19/30\n",
      "\u001b[1m61/61\u001b[0m \u001b[32m━━━━━━━━━━━━━━━━━━━━\u001b[0m\u001b[37m\u001b[0m \u001b[1m117s\u001b[0m 2s/step - accuracy: 0.9865 - loss: 3.5385 - val_accuracy: 0.6296 - val_loss: 4.8841 - learning_rate: 0.0034\n",
      "Epoch 20/30\n",
      "\u001b[1m61/61\u001b[0m \u001b[32m━━━━━━━━━━━━━━━━━━━━\u001b[0m\u001b[37m\u001b[0m \u001b[1m117s\u001b[0m 2s/step - accuracy: 0.9905 - loss: 3.4854 - val_accuracy: 0.6667 - val_loss: 5.4771 - learning_rate: 0.0028\n",
      "Epoch 21/30\n",
      "\u001b[1m61/61\u001b[0m \u001b[32m━━━━━━━━━━━━━━━━━━━━\u001b[0m\u001b[37m\u001b[0m \u001b[1m116s\u001b[0m 2s/step - accuracy: 0.9823 - loss: 3.4796 - val_accuracy: 0.6111 - val_loss: 5.1251 - learning_rate: 0.0022\n",
      "Epoch 22/30\n",
      "\u001b[1m61/61\u001b[0m \u001b[32m━━━━━━━━━━━━━━━━━━━━\u001b[0m\u001b[37m\u001b[0m \u001b[1m115s\u001b[0m 2s/step - accuracy: 0.9923 - loss: 3.4369 - val_accuracy: 0.6111 - val_loss: 4.9826 - learning_rate: 0.0018\n",
      "Epoch 23/30\n",
      "\u001b[1m61/61\u001b[0m \u001b[32m━━━━━━━━━━━━━━━━━━━━\u001b[0m\u001b[37m\u001b[0m \u001b[1m114s\u001b[0m 2s/step - accuracy: 0.9797 - loss: 3.4485 - val_accuracy: 0.6204 - val_loss: 4.9838 - learning_rate: 0.0014\n",
      "Epoch 24/30\n",
      "\u001b[1m61/61\u001b[0m \u001b[32m━━━━━━━━━━━━━━━━━━━━\u001b[0m\u001b[37m\u001b[0m \u001b[1m114s\u001b[0m 2s/step - accuracy: 0.9784 - loss: 3.4416 - val_accuracy: 0.6389 - val_loss: 5.1565 - learning_rate: 0.0011\n",
      "Epoch 25/30\n",
      "\u001b[1m61/61\u001b[0m \u001b[32m━━━━━━━━━━━━━━━━━━━━\u001b[0m\u001b[37m\u001b[0m \u001b[1m114s\u001b[0m 2s/step - accuracy: 0.9984 - loss: 3.3897 - val_accuracy: 0.6481 - val_loss: 5.0895 - learning_rate: 9.1044e-04\n",
      "Epoch 26/30\n",
      "\u001b[1m61/61\u001b[0m \u001b[32m━━━━━━━━━━━━━━━━━━━━\u001b[0m\u001b[37m\u001b[0m \u001b[1m114s\u001b[0m 2s/step - accuracy: 0.9943 - loss: 3.3940 - val_accuracy: 0.6204 - val_loss: 4.9125 - learning_rate: 7.3035e-04\n",
      "Epoch 27/30\n",
      "\u001b[1m61/61\u001b[0m \u001b[32m━━━━━━━━━━━━━━━━━━━━\u001b[0m\u001b[37m\u001b[0m \u001b[1m115s\u001b[0m 2s/step - accuracy: 0.9906 - loss: 3.4005 - val_accuracy: 0.6111 - val_loss: 4.9887 - learning_rate: 5.8628e-04\n",
      "Epoch 28/30\n",
      "\u001b[1m61/61\u001b[0m \u001b[32m━━━━━━━━━━━━━━━━━━━━\u001b[0m\u001b[37m\u001b[0m \u001b[1m114s\u001b[0m 2s/step - accuracy: 0.9857 - loss: 3.4076 - val_accuracy: 0.6204 - val_loss: 4.9601 - learning_rate: 4.7102e-04\n",
      "Epoch 29/30\n",
      "\u001b[1m61/61\u001b[0m \u001b[32m━━━━━━━━━━━━━━━━━━━━\u001b[0m\u001b[37m\u001b[0m \u001b[1m115s\u001b[0m 2s/step - accuracy: 0.9899 - loss: 3.3915 - val_accuracy: 0.6389 - val_loss: 5.1645 - learning_rate: 3.7882e-04\n",
      "Epoch 30/30\n",
      "\u001b[1m61/61\u001b[0m \u001b[32m━━━━━━━━━━━━━━━━━━━━\u001b[0m\u001b[37m\u001b[0m \u001b[1m116s\u001b[0m 2s/step - accuracy: 0.9987 - loss: 3.3749 - val_accuracy: 0.6204 - val_loss: 4.8616 - learning_rate: 3.0506e-04\n"
     ]
    }
   ],
   "source": [
    "history = model.fit(\n",
    "    train_dataset,\n",
    "    validation_data=val_dataset,\n",
    "#     steps_per_epoch=len(train_df) // batch_size,\n",
    "#     validation_steps=len(test_df) // batch_size,\n",
    "    epochs=EPOCHS,\n",
    "    callbacks=callbacks,\n",
    ")"
   ]
  },
  {
   "cell_type": "code",
   "execution_count": 22,
   "id": "16a7572c",
   "metadata": {
    "execution": {
     "iopub.execute_input": "2024-06-25T13:12:39.661963Z",
     "iopub.status.busy": "2024-06-25T13:12:39.661129Z",
     "iopub.status.idle": "2024-06-25T13:12:41.577189Z",
     "shell.execute_reply": "2024-06-25T13:12:41.576411Z"
    },
    "papermill": {
     "duration": 2.088025,
     "end_time": "2024-06-25T13:12:41.579357",
     "exception": false,
     "start_time": "2024-06-25T13:12:39.491332",
     "status": "completed"
    },
    "tags": []
   },
   "outputs": [],
   "source": [
    "model.save('zero-model.keras')"
   ]
  },
  {
   "cell_type": "code",
   "execution_count": 23,
   "id": "9476408a",
   "metadata": {
    "execution": {
     "iopub.execute_input": "2024-06-25T13:12:41.921227Z",
     "iopub.status.busy": "2024-06-25T13:12:41.920880Z",
     "iopub.status.idle": "2024-06-25T13:12:43.346557Z",
     "shell.execute_reply": "2024-06-25T13:12:43.345578Z"
    },
    "papermill": {
     "duration": 1.59792,
     "end_time": "2024-06-25T13:12:43.348837",
     "exception": false,
     "start_time": "2024-06-25T13:12:41.750917",
     "status": "completed"
    },
    "tags": []
   },
   "outputs": [],
   "source": [
    "model.load_weights('/kaggle/working/best_model.weights.h5')"
   ]
  },
  {
   "cell_type": "markdown",
   "id": "d0402492",
   "metadata": {
    "papermill": {
     "duration": 0.168312,
     "end_time": "2024-06-25T13:12:43.685303",
     "exception": false,
     "start_time": "2024-06-25T13:12:43.516991",
     "status": "completed"
    },
    "tags": []
   },
   "source": [
    "## Plots"
   ]
  },
  {
   "cell_type": "code",
   "execution_count": 24,
   "id": "2b2f122d",
   "metadata": {
    "execution": {
     "iopub.execute_input": "2024-06-25T13:12:44.023717Z",
     "iopub.status.busy": "2024-06-25T13:12:44.023350Z",
     "iopub.status.idle": "2024-06-25T13:12:44.511496Z",
     "shell.execute_reply": "2024-06-25T13:12:44.510446Z"
    },
    "papermill": {
     "duration": 0.659661,
     "end_time": "2024-06-25T13:12:44.513908",
     "exception": false,
     "start_time": "2024-06-25T13:12:43.854247",
     "status": "completed"
    },
    "tags": []
   },
   "outputs": [
    {
     "data": {
      "image/png": "[encoded data removed]",
      "text/plain": [
       "<Figure size 640x480 with 1 Axes>"
      ]
     },
     "metadata": {},
     "output_type": "display_data"
    },
    {
     "data": {
      "image/png": "[encoded data removed]",
      "text/plain": [
       "<Figure size 640x480 with 1 Axes>"
      ]
     },
     "metadata": {},
     "output_type": "display_data"
    }
   ],
   "source": [
    "plt.figure(1)\n",
    "plt.plot(history.history['accuracy'])\n",
    "plt.plot(history.history['val_accuracy'])\n",
    "plt.title('model accuracy')\n",
    "plt.ylabel('accuracy')\n",
    "plt.xlabel('epoch')\n",
    "plt.legend(['train', 'val'], loc='upper left')\n",
    "\n",
    "plt.figure(2)\n",
    "plt.plot(history.history['loss'])\n",
    "plt.plot(history.history['val_loss'])\n",
    "plt.title('model loss')\n",
    "plt.ylabel('loss')\n",
    "plt.xlabel('epoch')\n",
    "plt.legend(['train', 'val'], loc='upper right')\n",
    "plt.show()"
   ]
  },
  {
   "cell_type": "markdown",
   "id": "e6e58e3e",
   "metadata": {
    "papermill": {
     "duration": 0.171634,
     "end_time": "2024-06-25T13:12:44.856420",
     "exception": false,
     "start_time": "2024-06-25T13:12:44.684786",
     "status": "completed"
    },
    "tags": []
   },
   "source": [
    "# Inference"
   ]
  },
  {
   "cell_type": "code",
   "execution_count": 25,
   "id": "9c908099",
   "metadata": {
    "execution": {
     "iopub.execute_input": "2024-06-25T13:12:45.233314Z",
     "iopub.status.busy": "2024-06-25T13:12:45.232986Z",
     "iopub.status.idle": "2024-06-25T13:12:45.238010Z",
     "shell.execute_reply": "2024-06-25T13:12:45.237084Z"
    },
    "papermill": {
     "duration": 0.198999,
     "end_time": "2024-06-25T13:12:45.239962",
     "exception": false,
     "start_time": "2024-06-25T13:12:45.040963",
     "status": "completed"
    },
    "tags": []
   },
   "outputs": [],
   "source": [
    "# Softmax function to convert logits to probabilities\n",
    "def softmax(logits):\n",
    "    exp_logits = np.exp(logits)\n",
    "    return exp_logits / np.sum(exp_logits, axis=-1, keepdims=True)"
   ]
  },
  {
   "cell_type": "code",
   "execution_count": 26,
   "id": "e94459d3",
   "metadata": {
    "execution": {
     "iopub.execute_input": "2024-06-25T13:12:45.581700Z",
     "iopub.status.busy": "2024-06-25T13:12:45.581020Z",
     "iopub.status.idle": "2024-06-25T13:12:45.590028Z",
     "shell.execute_reply": "2024-06-25T13:12:45.589016Z"
    },
    "papermill": {
     "duration": 0.18066,
     "end_time": "2024-06-25T13:12:45.591921",
     "exception": false,
     "start_time": "2024-06-25T13:12:45.411261",
     "status": "completed"
    },
    "tags": []
   },
   "outputs": [],
   "source": [
    "def run_inference_on_video(video_path, model):\n",
    "    frames = load_frames_from_folder(video_path)\n",
    "    frames = tf.data.Dataset.from_tensor_slices(frames).batch(batch_size).prefetch(AUTOTUNE)\n",
    "    \n",
    "    predictions = []\n",
    "    for frame_batch in frames:\n",
    "        preds = model.predict(frame_batch, verbose=0)\n",
    "        predictions.extend(preds)\n",
    "    \n",
    "    return predictions\n",
    "\n",
    "def aggregate_predictions(predictions):\n",
    "    avg_prediction = sum(predictions) / len(predictions)\n",
    "    return avg_prediction\n",
    "\n",
    "\n",
    "def process_videos_multiple_frames(file_paths, model):\n",
    "    results = {}\n",
    "    for file_path in tqdm(file_paths):\n",
    "        video_name = os.path.basename(file_path)\n",
    "        predictions = run_inference_on_video(file_path, model)\n",
    "#         print('preds', predictions)\n",
    "        probabilities = [softmax(pred) for pred in predictions]\n",
    "#         print('probabilities', probabilities)\n",
    "        positive_probs = [prob[1] for prob in probabilities]\n",
    "#         print('pos', positive_probs)\n",
    "        agg_preds = aggregate_predictions(positive_probs)\n",
    "#         print('agg', agg_preds)\n",
    "        results[video_name] = agg_preds\n",
    "    return results"
   ]
  },
  {
   "cell_type": "code",
   "execution_count": 27,
   "id": "fb8d4143",
   "metadata": {
    "execution": {
     "iopub.execute_input": "2024-06-25T13:12:45.938613Z",
     "iopub.status.busy": "2024-06-25T13:12:45.938256Z",
     "iopub.status.idle": "2024-06-25T13:12:45.942891Z",
     "shell.execute_reply": "2024-06-25T13:12:45.941906Z"
    },
    "papermill": {
     "duration": 0.178218,
     "end_time": "2024-06-25T13:12:45.944895",
     "exception": false,
     "start_time": "2024-06-25T13:12:45.766677",
     "status": "completed"
    },
    "tags": []
   },
   "outputs": [],
   "source": [
    "# def run_inference_on_last_frame(video_path, model):\n",
    "#     frame = load_last_frame_from_folder(video_path)\n",
    "#     frame = tf.expand_dims(frame, axis=0)  # Add batch dimension\n",
    "    \n",
    "#     prediction = model.predict(frame, verbose=0)\n",
    "#     return prediction[0]  # Return the prediction for the single frame\n",
    "\n",
    "# def process_videos(file_paths, model):\n",
    "#     results = {}\n",
    "#     for file_path in tqdm(file_paths):\n",
    "#         video_name = os.path.basename(file_path)\n",
    "#         predictions = run_inference_on_last_frame(file_path, model)\n",
    "# #         print('preds', predictions)\n",
    "#         probabilities = softmax(predictions)\n",
    "# #         print('probabilities', probabilities)\n",
    "#         positive_probs = probabilities[1]\n",
    "# #         print('pos', positive_probs)\n",
    "#         results[video_name] = positive_probs\n",
    "#     return results\n"
   ]
  },
  {
   "cell_type": "code",
   "execution_count": 28,
   "id": "7f513b69",
   "metadata": {
    "execution": {
     "iopub.execute_input": "2024-06-25T13:12:46.288741Z",
     "iopub.status.busy": "2024-06-25T13:12:46.288002Z",
     "iopub.status.idle": "2024-06-25T13:15:11.073788Z",
     "shell.execute_reply": "2024-06-25T13:15:11.072709Z"
    },
    "papermill": {
     "duration": 144.960021,
     "end_time": "2024-06-25T13:15:11.075703",
     "exception": false,
     "start_time": "2024-06-25T13:12:46.115682",
     "status": "completed"
    },
    "tags": []
   },
   "outputs": [
    {
     "name": "stderr",
     "output_type": "stream",
     "text": [
      "100%|██████████| 243/243 [02:24<00:00,  1.68it/s]\n"
     ]
    }
   ],
   "source": [
    "# Load the sample submission file\n",
    "submission_df = pd.read_csv('/kaggle/input/2nd-ava-challenge-ieee-mipr-2024/2nd_AVA_Dataset_2ed/sample_submission.csv')\n",
    "\n",
    "if DEBUG:\n",
    "    submission_df = submission_df[:5]\n",
    "\n",
    "# Get test file names\n",
    "test_files = submission_df['file_name'].values\n",
    "\n",
    "# Paths to test data\n",
    "freeway_test_path = '/kaggle/input/2nd-ava-challenge-ieee-mipr-2024/2nd_AVA_Dataset_2ed/freeway/test'\n",
    "road_test_path = '/kaggle/input/2nd-ava-challenge-ieee-mipr-2024/2nd_AVA_Dataset_2ed/road/test'\n",
    "\n",
    "# Create list of file paths\n",
    "test_file_paths = []\n",
    "for file_name in test_files:\n",
    "    if 'road' in file_name:\n",
    "        test_file_paths.append(os.path.join(road_test_path, file_name))\n",
    "    elif 'freeway' in file_name:\n",
    "        test_file_paths.append(os.path.join(freeway_test_path, file_name))\n",
    "\n",
    "# Run inference and aggregate predictions\n",
    "results = process_videos_multiple_frames(test_file_paths, model)\n",
    "\n",
    "# Create submission dataframe\n",
    "submission_df['risk'] = submission_df['file_name'].apply(lambda x: results[x])\n",
    "submission_df.to_csv('submission.csv', index=False)"
   ]
  },
  {
   "cell_type": "code",
   "execution_count": null,
   "id": "24abf404",
   "metadata": {
    "papermill": {
     "duration": 0.187598,
     "end_time": "2024-06-25T13:15:11.505565",
     "exception": false,
     "start_time": "2024-06-25T13:15:11.317967",
     "status": "completed"
    },
    "tags": []
   },
   "outputs": [],
   "source": []
  }
 ],
 "metadata": {
  "kaggle": {
   "accelerator": "gpu",
   "dataSources": [
    {
     "databundleVersionId": 8647245,
     "sourceId": 80318,
     "sourceType": "competition"
    }
   ],
   "dockerImageVersionId": 30699,
   "isGpuEnabled": true,
   "isInternetEnabled": true,
   "language": "python",
   "sourceType": "notebook"
  },
  "kernelspec": {
   "display_name": "Python 3",
   "language": "python",
   "name": "python3"
  },
  "language_info": {
   "codemirror_mode": {
    "name": "ipython",
    "version": 3
   },
   "file_extension": ".py",
   "mimetype": "text/x-python",
   "name": "python",
   "nbconvert_exporter": "python",
   "pygments_lexer": "ipython3",
   "version": "3.10.13"
  },
  "papermill": {
   "default_parameters": {},
   "duration": 4049.187179,
   "end_time": "2024-06-25T13:15:14.936640",
   "environment_variables": {},
   "exception": null,
   "input_path": "__notebook__.ipynb",
   "output_path": "__notebook__.ipynb",
   "parameters": {},
   "start_time": "2024-06-25T12:07:45.749461",
   "version": "2.5.0"
  }
 },
 "nbformat": 4,
 "nbformat_minor": 5
}
