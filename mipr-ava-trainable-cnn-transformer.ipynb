{
 "cells": [
  {
   "cell_type": "markdown",
   "id": "a14d58ed",
   "metadata": {
    "papermill": {
     "duration": 0.028729,
     "end_time": "2024-06-24T13:01:22.280763",
     "exception": false,
     "start_time": "2024-06-24T13:01:22.252034",
     "status": "completed"
    },
    "tags": []
   },
   "source": [
    "# Imports"
   ]
  },
  {
   "cell_type": "code",
   "execution_count": 1,
   "id": "5698abdf",
   "metadata": {
    "papermill": {
     "duration": 6.141247,
     "end_time": "2024-06-24T13:01:28.450875",
     "exception": false,
     "start_time": "2024-06-24T13:01:22.309628",
     "status": "completed"
    },
    "tags": []
   },
   "outputs": [
    {
     "name": "stderr",
     "output_type": "stream",
     "text": [
      "2024-06-29 02:29:40.327884: I tensorflow/core/util/port.cc:113] oneDNN custom operations are on. You may see slightly different numerical results due to floating-point round-off errors from different computation orders. To turn them off, set the environment variable `TF_ENABLE_ONEDNN_OPTS=0`.\n",
      "2024-06-29 02:29:40.345874: E external/local_xla/xla/stream_executor/cuda/cuda_dnn.cc:9261] Unable to register cuDNN factory: Attempting to register factory for plugin cuDNN when one has already been registered\n",
      "2024-06-29 02:29:40.345890: E external/local_xla/xla/stream_executor/cuda/cuda_fft.cc:607] Unable to register cuFFT factory: Attempting to register factory for plugin cuFFT when one has already been registered\n",
      "2024-06-29 02:29:40.346362: E external/local_xla/xla/stream_executor/cuda/cuda_blas.cc:1515] Unable to register cuBLAS factory: Attempting to register factory for plugin cuBLAS when one has already been registered\n",
      "2024-06-29 02:29:40.349462: I tensorflow/core/platform/cpu_feature_guard.cc:182] This TensorFlow binary is optimized to use available CPU instructions in performance-critical operations.\n",
      "To enable the following instructions: AVX2 AVX_VNNI FMA, in other operations, rebuild TensorFlow with the appropriate compiler flags.\n",
      "2024-06-29 02:29:40.692099: W tensorflow/compiler/tf2tensorrt/utils/py_utils.cc:38] TF-TRT Warning: Could not find TensorRT\n"
     ]
    },
    {
     "name": "stdout",
     "output_type": "stream",
     "text": [
      "running tf:  2.15.1\n"
     ]
    }
   ],
   "source": [
    "import os\n",
    "from tqdm import tqdm \n",
    "\n",
    "import tensorflow as tf\n",
    "# import keras\n",
    "from tensorflow.keras.preprocessing import image\n",
    "from tensorflow.keras import regularizers\n",
    "from tensorflow.keras import backend as K\n",
    "\n",
    "import numpy as np\n",
    "import pandas as pd\n",
    "import matplotlib.pyplot as plt\n",
    "from sklearn.model_selection import train_test_split\n",
    "\n",
    "print('running tf: ', tf.__version__)"
   ]
  },
  {
   "cell_type": "code",
   "execution_count": 2,
   "id": "6e1aa17e",
   "metadata": {
    "papermill": {
     "duration": 0.093608,
     "end_time": "2024-06-24T13:01:38.635531",
     "exception": false,
     "start_time": "2024-06-24T13:01:38.541923",
     "status": "completed"
    },
    "tags": []
   },
   "outputs": [],
   "source": [
    "# from classification_models.keras import Classifiers\n",
    "\n",
    "# SeResNeXT50, preprocess_fn = Classifiers.get('seresnext50')"
   ]
  },
  {
   "cell_type": "markdown",
   "id": "aa42027c",
   "metadata": {
    "papermill": {
     "duration": 0.02864,
     "end_time": "2024-06-24T13:01:38.693464",
     "exception": false,
     "start_time": "2024-06-24T13:01:38.664824",
     "status": "completed"
    },
    "tags": []
   },
   "source": [
    "# Config"
   ]
  },
  {
   "cell_type": "code",
   "execution_count": 3,
   "id": "7b126db5",
   "metadata": {
    "papermill": {
     "duration": 0.037832,
     "end_time": "2024-06-24T13:01:38.760065",
     "exception": false,
     "start_time": "2024-06-24T13:01:38.722233",
     "status": "completed"
    },
    "tags": []
   },
   "outputs": [],
   "source": [
    "DEBUG = False\n",
    "\n",
    "NUM_CLASSES = 2\n",
    "IMG_SIZE = 224\n",
    "BATCH_SIZE = 4\n",
    "EPOCHS = 30\n",
    "\n",
    "MAX_SEQ_LENGTH = 16\n",
    "NUM_FEATURES = 1280\n",
    "\n",
    "AUTOTUNE = tf.data.experimental.AUTOTUNE"
   ]
  },
  {
   "cell_type": "markdown",
   "id": "67c13577",
   "metadata": {
    "papermill": {
     "duration": 0.028785,
     "end_time": "2024-06-24T13:01:38.817908",
     "exception": false,
     "start_time": "2024-06-24T13:01:38.789123",
     "status": "completed"
    },
    "tags": []
   },
   "source": [
    "# Dataloaders"
   ]
  },
  {
   "cell_type": "markdown",
   "id": "765a9255",
   "metadata": {
    "papermill": {
     "duration": 0.027316,
     "end_time": "2024-06-24T13:01:38.873959",
     "exception": false,
     "start_time": "2024-06-24T13:01:38.846643",
     "status": "completed"
    },
    "tags": []
   },
   "source": [
    "**TO DO**\n",
    "- Better Frame Sampling\n",
    "- Augs"
   ]
  },
  {
   "cell_type": "code",
   "execution_count": 4,
   "id": "07eb719e",
   "metadata": {
    "papermill": {
     "duration": 0.045193,
     "end_time": "2024-06-24T13:01:38.947023",
     "exception": false,
     "start_time": "2024-06-24T13:01:38.901830",
     "status": "completed"
    },
    "tags": []
   },
   "outputs": [],
   "source": [
    "def read_frames_from_folder(folder_path):\n",
    "    folder_path = folder_path.numpy().decode('utf-8')\n",
    "    # Get list of all frame files\n",
    "    frame_files = sorted([os.path.join(folder_path, f) for f in os.listdir(folder_path) if f.endswith('.jpg')])\n",
    "    \n",
    "    # Take the last num_frames frames if there are more frames\n",
    "    if len(frame_files) > MAX_SEQ_LENGTH:\n",
    "        frame_files = frame_files[-MAX_SEQ_LENGTH:]\n",
    "    \n",
    "    frames = []\n",
    "    for frame_file in frame_files:\n",
    "        img = image.load_img(frame_file, target_size=(IMG_SIZE, IMG_SIZE), interpolation='bicubic',)\n",
    "        img_array = image.img_to_array(img)\n",
    "        \n",
    "        # preprocess/normalize - had to do it here for older tf versions\n",
    "        # img_array = preprocess_fn(img_array)\n",
    "        \n",
    "        frames.append(img_array)\n",
    "    \n",
    "    frames = tf.convert_to_tensor(frames, dtype=tf.float32)\n",
    "\n",
    "    # If fewer than num_frames, pad with zeros\n",
    "    if len(frames) < MAX_SEQ_LENGTH:\n",
    "        padding = tf.zeros((MAX_SEQ_LENGTH - len(frames), IMG_SIZE, IMG_SIZE, 3), dtype=tf.float32)\n",
    "        frames = tf.concat([padding, frames], axis=0)\n",
    "        \n",
    "    return frames\n",
    "\n",
    "def load_video_from_folder(file_path, label = None):\n",
    "    video = tf.py_function(func=read_frames_from_folder, inp=[file_path], Tout=tf.float32)\n",
    "    video.set_shape([MAX_SEQ_LENGTH, IMG_SIZE, IMG_SIZE, 3])\n",
    "    \n",
    "    if label is None:\n",
    "        return video\n",
    "        \n",
    "    label = tf.cast(label, dtype=tf.int32)\n",
    "    label = tf.one_hot(label, depth=NUM_CLASSES)\n",
    "    return video, label\n",
    "\n",
    "def create_dataset(file_paths, labels, shuffle_buffer_size=None):\n",
    "    dataset = tf.data.Dataset.from_tensor_slices((file_paths, labels))\n",
    "    \n",
    "    # shuffle training data\n",
    "    if shuffle_buffer_size:\n",
    "        dataset = dataset.shuffle(buffer_size=shuffle_buffer_size)\n",
    "    \n",
    "    dataset = dataset.map(load_video_from_folder, num_parallel_calls=AUTOTUNE)\n",
    "    dataset = dataset.batch(BATCH_SIZE)\n",
    "    dataset = dataset.prefetch(AUTOTUNE)\n",
    "    return dataset"
   ]
  },
  {
   "cell_type": "code",
   "execution_count": 6,
   "id": "095c1adc",
   "metadata": {
    "papermill": {
     "duration": 0.205198,
     "end_time": "2024-06-24T13:01:39.180414",
     "exception": false,
     "start_time": "2024-06-24T13:01:38.975216",
     "status": "completed"
    },
    "tags": []
   },
   "outputs": [],
   "source": [
    "freeway_train_path = '/mnt/storage2/Sabbir/VideoClassification/Video_Classification_Pipeline/Data/freeway/train'\n",
    "road_train_path = '/mnt/storage2/Sabbir/VideoClassification/Video_Classification_Pipeline/Data/road/train'\n",
    "freeway_train_csv = '/mnt/storage2/Sabbir/VideoClassification/Video_Classification_Pipeline/Data/freeway_train.csv'\n",
    "road_train_csv = '/mnt/storage2/Sabbir/VideoClassification/Video_Classification_Pipeline/Data/road_train.csv'\n",
    "\n",
    "freeway_df = pd.read_csv(freeway_train_csv)\n",
    "road_df = pd.read_csv(road_train_csv)\n",
    "\n",
    "# Add the directory path to the file names\n",
    "freeway_df['file_name'] = freeway_df['file_name'].apply(lambda x: os.path.join(freeway_train_path, x))\n",
    "road_df['file_name'] = road_df['file_name'].apply(lambda x: os.path.join(road_train_path, x))\n",
    "\n",
    "# Combine dataframes\n",
    "all_df = pd.concat([freeway_df, road_df])\n",
    "\n",
    "if DEBUG:\n",
    "    all_df = all_df[:20]"
   ]
  },
  {
   "cell_type": "code",
   "execution_count": 7,
   "id": "f1b60be0",
   "metadata": {
    "papermill": {
     "duration": 2.054524,
     "end_time": "2024-06-24T13:01:41.263931",
     "exception": false,
     "start_time": "2024-06-24T13:01:39.209407",
     "status": "completed"
    },
    "tags": []
   },
   "outputs": [
    {
     "name": "stdout",
     "output_type": "stream",
     "text": [
      "Total videos for training: 16\n",
      "Total videos for val: 4\n"
     ]
    },
    {
     "name": "stderr",
     "output_type": "stream",
     "text": [
      "2024-06-28 23:27:13.069625: I external/local_xla/xla/stream_executor/cuda/cuda_executor.cc:901] successful NUMA node read from SysFS had negative value (-1), but there must be at least one NUMA node, so returning NUMA node zero. See more at https://github.com/torvalds/linux/blob/v6.0/Documentation/ABI/testing/sysfs-bus-pci#L344-L355\n",
      "2024-06-28 23:27:13.069718: I external/local_xla/xla/stream_executor/cuda/cuda_executor.cc:901] successful NUMA node read from SysFS had negative value (-1), but there must be at least one NUMA node, so returning NUMA node zero. See more at https://github.com/torvalds/linux/blob/v6.0/Documentation/ABI/testing/sysfs-bus-pci#L344-L355\n",
      "2024-06-28 23:27:13.086480: I external/local_xla/xla/stream_executor/cuda/cuda_executor.cc:901] successful NUMA node read from SysFS had negative value (-1), but there must be at least one NUMA node, so returning NUMA node zero. See more at https://github.com/torvalds/linux/blob/v6.0/Documentation/ABI/testing/sysfs-bus-pci#L344-L355\n",
      "2024-06-28 23:27:13.086571: I external/local_xla/xla/stream_executor/cuda/cuda_executor.cc:901] successful NUMA node read from SysFS had negative value (-1), but there must be at least one NUMA node, so returning NUMA node zero. See more at https://github.com/torvalds/linux/blob/v6.0/Documentation/ABI/testing/sysfs-bus-pci#L344-L355\n",
      "2024-06-28 23:27:13.086633: I external/local_xla/xla/stream_executor/cuda/cuda_executor.cc:901] successful NUMA node read from SysFS had negative value (-1), but there must be at least one NUMA node, so returning NUMA node zero. See more at https://github.com/torvalds/linux/blob/v6.0/Documentation/ABI/testing/sysfs-bus-pci#L344-L355\n",
      "2024-06-28 23:27:13.086684: I external/local_xla/xla/stream_executor/cuda/cuda_executor.cc:901] successful NUMA node read from SysFS had negative value (-1), but there must be at least one NUMA node, so returning NUMA node zero. See more at https://github.com/torvalds/linux/blob/v6.0/Documentation/ABI/testing/sysfs-bus-pci#L344-L355\n",
      "2024-06-28 23:27:13.195749: I external/local_xla/xla/stream_executor/cuda/cuda_executor.cc:901] successful NUMA node read from SysFS had negative value (-1), but there must be at least one NUMA node, so returning NUMA node zero. See more at https://github.com/torvalds/linux/blob/v6.0/Documentation/ABI/testing/sysfs-bus-pci#L344-L355\n",
      "2024-06-28 23:27:13.195843: I external/local_xla/xla/stream_executor/cuda/cuda_executor.cc:901] successful NUMA node read from SysFS had negative value (-1), but there must be at least one NUMA node, so returning NUMA node zero. See more at https://github.com/torvalds/linux/blob/v6.0/Documentation/ABI/testing/sysfs-bus-pci#L344-L355\n",
      "2024-06-28 23:27:13.195900: I external/local_xla/xla/stream_executor/cuda/cuda_executor.cc:901] successful NUMA node read from SysFS had negative value (-1), but there must be at least one NUMA node, so returning NUMA node zero. See more at https://github.com/torvalds/linux/blob/v6.0/Documentation/ABI/testing/sysfs-bus-pci#L344-L355\n",
      "2024-06-28 23:27:13.195949: I external/local_xla/xla/stream_executor/cuda/cuda_executor.cc:901] successful NUMA node read from SysFS had negative value (-1), but there must be at least one NUMA node, so returning NUMA node zero. See more at https://github.com/torvalds/linux/blob/v6.0/Documentation/ABI/testing/sysfs-bus-pci#L344-L355\n",
      "2024-06-28 23:27:13.195999: I external/local_xla/xla/stream_executor/cuda/cuda_executor.cc:901] successful NUMA node read from SysFS had negative value (-1), but there must be at least one NUMA node, so returning NUMA node zero. See more at https://github.com/torvalds/linux/blob/v6.0/Documentation/ABI/testing/sysfs-bus-pci#L344-L355\n",
      "2024-06-28 23:27:13.196067: I external/local_xla/xla/stream_executor/cuda/cuda_executor.cc:901] successful NUMA node read from SysFS had negative value (-1), but there must be at least one NUMA node, so returning NUMA node zero. See more at https://github.com/torvalds/linux/blob/v6.0/Documentation/ABI/testing/sysfs-bus-pci#L344-L355\n",
      "2024-06-28 23:27:13.201334: I external/local_xla/xla/stream_executor/cuda/cuda_executor.cc:901] successful NUMA node read from SysFS had negative value (-1), but there must be at least one NUMA node, so returning NUMA node zero. See more at https://github.com/torvalds/linux/blob/v6.0/Documentation/ABI/testing/sysfs-bus-pci#L344-L355\n",
      "2024-06-28 23:27:13.201412: I external/local_xla/xla/stream_executor/cuda/cuda_executor.cc:901] successful NUMA node read from SysFS had negative value (-1), but there must be at least one NUMA node, so returning NUMA node zero. See more at https://github.com/torvalds/linux/blob/v6.0/Documentation/ABI/testing/sysfs-bus-pci#L344-L355\n",
      "2024-06-28 23:27:13.201469: I external/local_xla/xla/stream_executor/cuda/cuda_executor.cc:901] successful NUMA node read from SysFS had negative value (-1), but there must be at least one NUMA node, so returning NUMA node zero. See more at https://github.com/torvalds/linux/blob/v6.0/Documentation/ABI/testing/sysfs-bus-pci#L344-L355\n",
      "2024-06-28 23:27:13.201520: I external/local_xla/xla/stream_executor/cuda/cuda_executor.cc:901] successful NUMA node read from SysFS had negative value (-1), but there must be at least one NUMA node, so returning NUMA node zero. See more at https://github.com/torvalds/linux/blob/v6.0/Documentation/ABI/testing/sysfs-bus-pci#L344-L355\n",
      "2024-06-28 23:27:13.201578: I external/local_xla/xla/stream_executor/cuda/cuda_executor.cc:901] successful NUMA node read from SysFS had negative value (-1), but there must be at least one NUMA node, so returning NUMA node zero. See more at https://github.com/torvalds/linux/blob/v6.0/Documentation/ABI/testing/sysfs-bus-pci#L344-L355\n",
      "2024-06-28 23:27:13.201626: I tensorflow/core/common_runtime/gpu/gpu_device.cc:1929] Created device /job:localhost/replica:0/task:0/device:GPU:0 with 22109 MB memory:  -> device: 0, name: NVIDIA GeForce RTX 4090, pci bus id: 0000:01:00.0, compute capability: 8.9\n",
      "2024-06-28 23:27:13.201834: I external/local_xla/xla/stream_executor/cuda/cuda_executor.cc:901] successful NUMA node read from SysFS had negative value (-1), but there must be at least one NUMA node, so returning NUMA node zero. See more at https://github.com/torvalds/linux/blob/v6.0/Documentation/ABI/testing/sysfs-bus-pci#L344-L355\n",
      "2024-06-28 23:27:13.201879: I tensorflow/core/common_runtime/gpu/gpu_device.cc:1929] Created device /job:localhost/replica:0/task:0/device:GPU:1 with 22279 MB memory:  -> device: 1, name: NVIDIA GeForce RTX 4090, pci bus id: 0000:05:00.0, compute capability: 8.9\n"
     ]
    }
   ],
   "source": [
    "# Split into train and validation sets\n",
    "train_df, val_df = train_test_split(all_df, test_size=0.2, random_state=42, stratify=all_df['risk'])\n",
    "\n",
    "# Create datasets\n",
    "train_dataset = create_dataset(train_df['file_name'].values, train_df['risk'].values, shuffle_buffer_size=len(train_df))\n",
    "val_dataset = create_dataset(val_df['file_name'].values, val_df['risk'].values)\n",
    "\n",
    "print(f\"Total videos for training: {len(train_df)}\")\n",
    "print(f\"Total videos for val: {len(val_df)}\")"
   ]
  },
  {
   "cell_type": "markdown",
   "id": "f125c969",
   "metadata": {
    "papermill": {
     "duration": 0.028064,
     "end_time": "2024-06-24T13:01:41.321059",
     "exception": false,
     "start_time": "2024-06-24T13:01:41.292995",
     "status": "completed"
    },
    "tags": []
   },
   "source": [
    "## Sanity Check"
   ]
  },
  {
   "cell_type": "code",
   "execution_count": 8,
   "id": "a28a7f1a",
   "metadata": {
    "papermill": {
     "duration": 56.429887,
     "end_time": "2024-06-24T13:02:37.779432",
     "exception": false,
     "start_time": "2024-06-24T13:01:41.349545",
     "status": "completed"
    },
    "tags": []
   },
   "outputs": [
    {
     "name": "stdout",
     "output_type": "stream",
     "text": [
      "(4, 16, 224, 224, 3) (4, 2)\n",
      "(4, 16, 224, 224, 3) (4, 2)\n"
     ]
    }
   ],
   "source": [
    "# Iterate through the train dataset\n",
    "for videos, labels in train_dataset.take(1):\n",
    "    print(videos.shape, labels.shape)\n",
    "\n",
    "# Iterate through the validation dataset\n",
    "for videos, labels in val_dataset.take(1):\n",
    "    print(videos.shape, labels.shape)"
   ]
  },
  {
   "cell_type": "markdown",
   "id": "ce24744b",
   "metadata": {
    "papermill": {
     "duration": 0.030252,
     "end_time": "2024-06-24T13:02:37.840522",
     "exception": false,
     "start_time": "2024-06-24T13:02:37.810270",
     "status": "completed"
    },
    "tags": []
   },
   "source": [
    "# Model"
   ]
  },
  {
   "cell_type": "code",
   "execution_count": 9,
   "id": "2dccf260",
   "metadata": {
    "papermill": {
     "duration": 0.036651,
     "end_time": "2024-06-24T13:02:37.974449",
     "exception": false,
     "start_time": "2024-06-24T13:02:37.937798",
     "status": "completed"
    },
    "tags": []
   },
   "outputs": [],
   "source": [
    "# from classification_models.keras import Classifiers\n",
    "\n",
    "# SeResNeXT50, preprocess_fn = Classifiers.get('seresnext50')"
   ]
  },
  {
   "cell_type": "code",
   "execution_count": 5,
   "id": "409e1bf1",
   "metadata": {
    "papermill": {
     "duration": 11.631144,
     "end_time": "2024-06-24T13:02:49.635683",
     "exception": false,
     "start_time": "2024-06-24T13:02:38.004539",
     "status": "completed"
    },
    "tags": []
   },
   "outputs": [
    {
     "name": "stderr",
     "output_type": "stream",
     "text": [
      "2024-06-29 02:30:01.808894: I external/local_xla/xla/stream_executor/cuda/cuda_executor.cc:901] successful NUMA node read from SysFS had negative value (-1), but there must be at least one NUMA node, so returning NUMA node zero. See more at https://github.com/torvalds/linux/blob/v6.0/Documentation/ABI/testing/sysfs-bus-pci#L344-L355\n",
      "2024-06-29 02:30:01.808992: I external/local_xla/xla/stream_executor/cuda/cuda_executor.cc:901] successful NUMA node read from SysFS had negative value (-1), but there must be at least one NUMA node, so returning NUMA node zero. See more at https://github.com/torvalds/linux/blob/v6.0/Documentation/ABI/testing/sysfs-bus-pci#L344-L355\n",
      "2024-06-29 02:30:01.826070: I external/local_xla/xla/stream_executor/cuda/cuda_executor.cc:901] successful NUMA node read from SysFS had negative value (-1), but there must be at least one NUMA node, so returning NUMA node zero. See more at https://github.com/torvalds/linux/blob/v6.0/Documentation/ABI/testing/sysfs-bus-pci#L344-L355\n",
      "2024-06-29 02:30:01.826164: I external/local_xla/xla/stream_executor/cuda/cuda_executor.cc:901] successful NUMA node read from SysFS had negative value (-1), but there must be at least one NUMA node, so returning NUMA node zero. See more at https://github.com/torvalds/linux/blob/v6.0/Documentation/ABI/testing/sysfs-bus-pci#L344-L355\n",
      "2024-06-29 02:30:01.826219: I external/local_xla/xla/stream_executor/cuda/cuda_executor.cc:901] successful NUMA node read from SysFS had negative value (-1), but there must be at least one NUMA node, so returning NUMA node zero. See more at https://github.com/torvalds/linux/blob/v6.0/Documentation/ABI/testing/sysfs-bus-pci#L344-L355\n",
      "2024-06-29 02:30:01.826270: I external/local_xla/xla/stream_executor/cuda/cuda_executor.cc:901] successful NUMA node read from SysFS had negative value (-1), but there must be at least one NUMA node, so returning NUMA node zero. See more at https://github.com/torvalds/linux/blob/v6.0/Documentation/ABI/testing/sysfs-bus-pci#L344-L355\n",
      "2024-06-29 02:30:01.930955: I external/local_xla/xla/stream_executor/cuda/cuda_executor.cc:901] successful NUMA node read from SysFS had negative value (-1), but there must be at least one NUMA node, so returning NUMA node zero. See more at https://github.com/torvalds/linux/blob/v6.0/Documentation/ABI/testing/sysfs-bus-pci#L344-L355\n",
      "2024-06-29 02:30:01.931051: I external/local_xla/xla/stream_executor/cuda/cuda_executor.cc:901] successful NUMA node read from SysFS had negative value (-1), but there must be at least one NUMA node, so returning NUMA node zero. See more at https://github.com/torvalds/linux/blob/v6.0/Documentation/ABI/testing/sysfs-bus-pci#L344-L355\n",
      "2024-06-29 02:30:01.931110: I external/local_xla/xla/stream_executor/cuda/cuda_executor.cc:901] successful NUMA node read from SysFS had negative value (-1), but there must be at least one NUMA node, so returning NUMA node zero. See more at https://github.com/torvalds/linux/blob/v6.0/Documentation/ABI/testing/sysfs-bus-pci#L344-L355\n",
      "2024-06-29 02:30:01.931159: I external/local_xla/xla/stream_executor/cuda/cuda_executor.cc:901] successful NUMA node read from SysFS had negative value (-1), but there must be at least one NUMA node, so returning NUMA node zero. See more at https://github.com/torvalds/linux/blob/v6.0/Documentation/ABI/testing/sysfs-bus-pci#L344-L355\n",
      "2024-06-29 02:30:01.931207: I external/local_xla/xla/stream_executor/cuda/cuda_executor.cc:901] successful NUMA node read from SysFS had negative value (-1), but there must be at least one NUMA node, so returning NUMA node zero. See more at https://github.com/torvalds/linux/blob/v6.0/Documentation/ABI/testing/sysfs-bus-pci#L344-L355\n",
      "2024-06-29 02:30:01.931255: I external/local_xla/xla/stream_executor/cuda/cuda_executor.cc:901] successful NUMA node read from SysFS had negative value (-1), but there must be at least one NUMA node, so returning NUMA node zero. See more at https://github.com/torvalds/linux/blob/v6.0/Documentation/ABI/testing/sysfs-bus-pci#L344-L355\n",
      "2024-06-29 02:30:01.936474: I external/local_xla/xla/stream_executor/cuda/cuda_executor.cc:901] successful NUMA node read from SysFS had negative value (-1), but there must be at least one NUMA node, so returning NUMA node zero. See more at https://github.com/torvalds/linux/blob/v6.0/Documentation/ABI/testing/sysfs-bus-pci#L344-L355\n",
      "2024-06-29 02:30:01.936558: I external/local_xla/xla/stream_executor/cuda/cuda_executor.cc:901] successful NUMA node read from SysFS had negative value (-1), but there must be at least one NUMA node, so returning NUMA node zero. See more at https://github.com/torvalds/linux/blob/v6.0/Documentation/ABI/testing/sysfs-bus-pci#L344-L355\n",
      "2024-06-29 02:30:01.936618: I external/local_xla/xla/stream_executor/cuda/cuda_executor.cc:901] successful NUMA node read from SysFS had negative value (-1), but there must be at least one NUMA node, so returning NUMA node zero. See more at https://github.com/torvalds/linux/blob/v6.0/Documentation/ABI/testing/sysfs-bus-pci#L344-L355\n",
      "2024-06-29 02:30:01.936676: I external/local_xla/xla/stream_executor/cuda/cuda_executor.cc:901] successful NUMA node read from SysFS had negative value (-1), but there must be at least one NUMA node, so returning NUMA node zero. See more at https://github.com/torvalds/linux/blob/v6.0/Documentation/ABI/testing/sysfs-bus-pci#L344-L355\n",
      "2024-06-29 02:30:01.936731: I external/local_xla/xla/stream_executor/cuda/cuda_executor.cc:901] successful NUMA node read from SysFS had negative value (-1), but there must be at least one NUMA node, so returning NUMA node zero. See more at https://github.com/torvalds/linux/blob/v6.0/Documentation/ABI/testing/sysfs-bus-pci#L344-L355\n",
      "2024-06-29 02:30:01.936780: I tensorflow/core/common_runtime/gpu/gpu_device.cc:1929] Created device /job:localhost/replica:0/task:0/device:GPU:0 with 22109 MB memory:  -> device: 0, name: NVIDIA GeForce RTX 4090, pci bus id: 0000:01:00.0, compute capability: 8.9\n",
      "2024-06-29 02:30:01.937005: I external/local_xla/xla/stream_executor/cuda/cuda_executor.cc:901] successful NUMA node read from SysFS had negative value (-1), but there must be at least one NUMA node, so returning NUMA node zero. See more at https://github.com/torvalds/linux/blob/v6.0/Documentation/ABI/testing/sysfs-bus-pci#L344-L355\n",
      "2024-06-29 02:30:01.937049: I tensorflow/core/common_runtime/gpu/gpu_device.cc:1929] Created device /job:localhost/replica:0/task:0/device:GPU:1 with 22279 MB memory:  -> device: 1, name: NVIDIA GeForce RTX 4090, pci bus id: 0000:05:00.0, compute capability: 8.9\n"
     ]
    },
    {
     "name": "stdout",
     "output_type": "stream",
     "text": [
      "Model: \"sequential\"\n",
      "_________________________________________________________________\n",
      " Layer (type)                Output Shape              Param #   \n",
      "=================================================================\n",
      " efficientnetv2-m (Function  (None, 7, 7, 1280)        53150388  \n",
      " al)                                                             \n",
      "                                                                 \n",
      " global_average_pooling2d (  (None, 1280)              0         \n",
      " GlobalAveragePooling2D)                                         \n",
      "                                                                 \n",
      " batch_normalization (Batch  (None, 1280)              5120      \n",
      " Normalization)                                                  \n",
      "                                                                 \n",
      "=================================================================\n",
      "Total params: 53155508 (202.77 MB)\n",
      "Trainable params: 52860916 (201.65 MB)\n",
      "Non-trainable params: 294592 (1.12 MB)\n",
      "_________________________________________________________________\n"
     ]
    }
   ],
   "source": [
    "def FeatureExtractor():\n",
    "    base_model = tf.keras.applications.EfficientNetV2M(\n",
    "        weights='imagenet', \n",
    "        include_top=False,  \n",
    "        input_shape=(IMG_SIZE, IMG_SIZE, 3), \n",
    "        pooling=None,\n",
    "    )\n",
    "\n",
    "#     base_model = SeResNeXT50(input_shape=(IMG_SIZE, IMG_SIZE, 3), weights='imagenet', include_top=False)\n",
    "#     preprocess_layer = tf.keras.layers.Lambda(lambda x: preprocess_fn(x))\n",
    "    \n",
    "    base_model.trainable = True\n",
    "\n",
    "    model = tf.keras.models.Sequential([\n",
    "        tf.keras.Input((IMG_SIZE, IMG_SIZE, 3)),\n",
    "#         preprocess_layer,\n",
    "        base_model,\n",
    "        tf.keras.layers.GlobalAveragePooling2D(),\n",
    "        tf.keras.layers.BatchNormalization(),\n",
    "    ])\n",
    "    \n",
    "    return model\n",
    "\n",
    "tf.keras.backend.clear_session()\n",
    "model = FeatureExtractor()\n",
    "model.summary()"
   ]
  },
  {
   "cell_type": "code",
   "execution_count": 6,
   "id": "22899d49",
   "metadata": {},
   "outputs": [],
   "source": [
    "def transformer_encoder(inputs, head_size, num_heads, ff_dim, dropout=0):\n",
    "    # Layer Normalization and Multi-Head Attention\n",
    "    x = tf.keras.layers.LayerNormalization(epsilon=1e-6)(inputs)  # Shape: (sequence_length, 256)\n",
    "    x = tf.keras.layers.MultiHeadAttention(key_dim=head_size, num_heads=num_heads, dropout=dropout)(x, x)  # Shape: (sequence_length, 256)\n",
    "    x = tf.keras.layers.Dropout(dropout)(x)  # Shape: (sequence_length, 256)\n",
    "    res = tf.keras.layers.Add()([x, inputs])  # Shape: (sequence_length, 256)\n",
    "\n",
    "    # Feed Forward Part\n",
    "    x = tf.keras.layers.LayerNormalization(epsilon=1e-6)(res)  # Shape: (sequence_length, 256)\n",
    "    x = tf.keras.layers.Dense(ff_dim, activation=\"relu\")(x)  # Shape: (sequence_length, 256)\n",
    "    x = tf.keras.layers.Dropout(dropout)(x)  # Shape: (sequence_length, 256)\n",
    "    x = tf.keras.layers.Dense(inputs.shape[-1])(x)  # Shape: (sequence_length, 256)\n",
    "    return tf.keras.layers.Add()([x, res])  # Shape: (sequence_length, 256)"
   ]
  },
  {
   "cell_type": "code",
   "execution_count": 7,
   "id": "6574b38a",
   "metadata": {
    "papermill": {
     "duration": 19.650549,
     "end_time": "2024-06-24T13:03:09.322789",
     "exception": false,
     "start_time": "2024-06-24T13:02:49.672240",
     "status": "completed"
    },
    "tags": []
   },
   "outputs": [
    {
     "name": "stdout",
     "output_type": "stream",
     "text": [
      "Model: \"model\"\n",
      "__________________________________________________________________________________________________\n",
      " Layer (type)                Output Shape                 Param #   Connected to                  \n",
      "==================================================================================================\n",
      " input_1 (InputLayer)        [(None, 16, 224, 224, 3)]    0         []                            \n",
      "                                                                                                  \n",
      " time_distributed (TimeDist  (None, 16, 1280)             5315550   ['input_1[0][0]']             \n",
      " ributed)                                                 8                                       \n",
      "                                                                                                  \n",
      " dense (Dense)               (None, 16, 256)              327936    ['time_distributed[0][0]']    \n",
      "                                                                                                  \n",
      " layer_normalization (Layer  (None, 16, 256)              512       ['dense[0][0]']               \n",
      " Normalization)                                                                                   \n",
      "                                                                                                  \n",
      " multi_head_attention (Mult  (None, 16, 256)              263168    ['layer_normalization[0][0]', \n",
      " iHeadAttention)                                                     'layer_normalization[0][0]'] \n",
      "                                                                                                  \n",
      " dropout (Dropout)           (None, 16, 256)              0         ['multi_head_attention[0][0]']\n",
      "                                                                                                  \n",
      " add (Add)                   (None, 16, 256)              0         ['dropout[0][0]',             \n",
      "                                                                     'dense[0][0]']               \n",
      "                                                                                                  \n",
      " layer_normalization_1 (Lay  (None, 16, 256)              512       ['add[0][0]']                 \n",
      " erNormalization)                                                                                 \n",
      "                                                                                                  \n",
      " dense_1 (Dense)             (None, 16, 256)              65792     ['layer_normalization_1[0][0]'\n",
      "                                                                    ]                             \n",
      "                                                                                                  \n",
      " dropout_1 (Dropout)         (None, 16, 256)              0         ['dense_1[0][0]']             \n",
      "                                                                                                  \n",
      " dense_2 (Dense)             (None, 16, 256)              65792     ['dropout_1[0][0]']           \n",
      "                                                                                                  \n",
      " add_1 (Add)                 (None, 16, 256)              0         ['dense_2[0][0]',             \n",
      "                                                                     'add[0][0]']                 \n",
      "                                                                                                  \n",
      " global_average_pooling1d (  (None, 256)                  0         ['add_1[0][0]']               \n",
      " GlobalAveragePooling1D)                                                                          \n",
      "                                                                                                  \n",
      " dense_3 (Dense)             (None, 64)                   16448     ['global_average_pooling1d[0][\n",
      "                                                                    0]']                          \n",
      "                                                                                                  \n",
      " dense_4 (Dense)             (None, 2)                    130       ['dense_3[0][0]']             \n",
      "                                                                                                  \n",
      "==================================================================================================\n",
      "Total params: 53895798 (205.60 MB)\n",
      "Trainable params: 53601206 (204.47 MB)\n",
      "Non-trainable params: 294592 (1.12 MB)\n",
      "__________________________________________________________________________________________________\n"
     ]
    }
   ],
   "source": [
    "def SeqModel():\n",
    "    inputs = tf.keras.Input((MAX_SEQ_LENGTH, IMG_SIZE, IMG_SIZE, 3))\n",
    "    feature_extractor = FeatureExtractor()\n",
    "    \n",
    "    time_wrapper = tf.keras.layers.TimeDistributed(feature_extractor)(inputs)\n",
    "    image_features = tf.keras.layers.Dense(256, activation=\"relu\")(time_wrapper)\n",
    "\n",
    "\n",
    "    head_size = 64\n",
    "    num_heads = 4\n",
    "    ff_dim = 256\n",
    "    dropout = 0.2\n",
    "    x = transformer_encoder(image_features, head_size, num_heads, ff_dim, dropout)  \n",
    "    x = tf.keras.layers.GlobalAveragePooling1D()(x)\n",
    "    x = tf.keras.layers.Dense(64, activation=\"relu\", kernel_regularizer=tf.keras.regularizers.l2(0.01))(x)\n",
    "\n",
    "    outputs = tf.keras.layers.Dense(2, activation='softmax',)(x)\n",
    "    \n",
    "    return tf.keras.Model(inputs, outputs)\n",
    "\n",
    "tf.keras.backend.clear_session() \n",
    "model = SeqModel()\n",
    "model.summary()"
   ]
  },
  {
   "cell_type": "markdown",
   "id": "1770fd47",
   "metadata": {
    "papermill": {
     "duration": 0.03793,
     "end_time": "2024-06-24T13:03:09.396708",
     "exception": false,
     "start_time": "2024-06-24T13:03:09.358778",
     "status": "completed"
    },
    "tags": []
   },
   "source": [
    "## Optimize & Compile"
   ]
  },
  {
   "cell_type": "code",
   "execution_count": 8,
   "id": "1b598166",
   "metadata": {
    "papermill": {
     "duration": 0.047353,
     "end_time": "2024-06-24T13:03:09.480438",
     "exception": false,
     "start_time": "2024-06-24T13:03:09.433085",
     "status": "completed"
    },
    "tags": []
   },
   "outputs": [],
   "source": [
    "def lrfn(epoch):\n",
    "    if epoch < lr_ramp_ep:\n",
    "        lr = (lr_max - lr_start) / lr_ramp_ep * epoch + lr_start\n",
    "\n",
    "    elif epoch < lr_ramp_ep + lr_sus_ep:\n",
    "        lr = lr_max\n",
    "\n",
    "    else:\n",
    "        lr = (lr_max - lr_min) * lr_decay**(epoch - lr_ramp_ep - lr_sus_ep) + lr_min\n",
    "\n",
    "    return lr\n",
    "\n",
    "def get_lr_callback():       \n",
    "    lr_callback = tf.keras.callbacks.LearningRateScheduler(lrfn, verbose=False)\n",
    "    return lr_callback"
   ]
  },
  {
   "cell_type": "code",
   "execution_count": 14,
   "id": "42f9e73f",
   "metadata": {
    "papermill": {
     "duration": 0.24645,
     "end_time": "2024-06-24T13:03:09.764030",
     "exception": false,
     "start_time": "2024-06-24T13:03:09.517580",
     "status": "completed"
    },
    "tags": []
   },
   "outputs": [
    {
     "name": "stdout",
     "output_type": "stream",
     "text": [
      "Learning rate schedule: 0.0005 to 0.032 to 0.000305\n"
     ]
    },
    {
     "data": {
      "image/png": "[encoded data removed]",
      "text/plain": [
       "<Figure size 640x480 with 1 Axes>"
      ]
     },
     "metadata": {},
     "output_type": "display_data"
    }
   ],
   "source": [
    "lr_start   = 0.0005\n",
    "lr_max     = 0.002 * 16\n",
    "lr_min     = 0.00001\n",
    "lr_ramp_ep = 5\n",
    "lr_sus_ep  = 3\n",
    "lr_decay   = 0.8\n",
    "\n",
    "rng = [i for i in range(8 if EPOCHS<8 else EPOCHS)]\n",
    "y = [lrfn(x) for x in rng]\n",
    "plt.plot(rng, y)\n",
    "print(\"Learning rate schedule: {:.3g} to {:.3g} to {:.3g}\".format(y[0], max(y), y[-1]))"
   ]
  },
  {
   "cell_type": "code",
   "execution_count": 15,
   "id": "4b0bcd42",
   "metadata": {
    "papermill": {
     "duration": 0.050307,
     "end_time": "2024-06-24T13:03:09.852671",
     "exception": false,
     "start_time": "2024-06-24T13:03:09.802364",
     "status": "completed"
    },
    "tags": []
   },
   "outputs": [],
   "source": [
    "# callbacks\n",
    "weights_save_path = './weights/training_3/epoch-{epoch:02d}.weights.h5'\n",
    "\n",
    "checkpoint = tf.keras.callbacks.ModelCheckpoint(weights_save_path, \n",
    "                                                save_best_only=False, \n",
    "                                                save_weights_only=True,\n",
    "                                                verbose=1,\n",
    "                                                monitor='val_loss', \n",
    "                                                mode='min')\n",
    "\n",
    "csv_logger = tf.keras.callbacks.CSVLogger('history.csv')\n",
    "\n",
    "learning_rate_reduction= tf.keras.callbacks.ReduceLROnPlateau(monitor='loss',patience=2,verbose=1,factor=0.1,min_lr=0.0000000001) \n",
    "\n",
    "# callbacks = [checkpoint, learning_rate_reduction]\n",
    "\n",
    "callbacks = [checkpoint, csv_logger, get_lr_callback()]"
   ]
  },
  {
   "cell_type": "code",
   "execution_count": 16,
   "id": "23ee05a8-5b33-4c8e-93b7-2c8637bbbdc4",
   "metadata": {},
   "outputs": [],
   "source": [
    "METRICS = [\n",
    "    tf.keras.metrics.CategoricalAccuracy(name='accuracy'),\n",
    "    tf.keras.metrics.Precision(name='precision'),       \n",
    "    tf.keras.metrics.Recall(name='recall'),\n",
    "    tf.keras.metrics.AUC(name='auc', multi_label=False, label_weights=[0, 1]),\n",
    "]"
   ]
  },
  {
   "cell_type": "code",
   "execution_count": 17,
   "id": "eff736e7",
   "metadata": {
    "_kg_hide-output": true,
    "papermill": {
     "duration": 0.09047,
     "end_time": "2024-06-24T13:03:09.981087",
     "exception": false,
     "start_time": "2024-06-24T13:03:09.890617",
     "status": "completed"
    },
    "tags": []
   },
   "outputs": [],
   "source": [
    "model.compile(\n",
    "    optimizer=tf.keras.optimizers.Adam(),\n",
    "    loss=tf.keras.losses.CategoricalCrossentropy(from_logits=False),\n",
    "    metrics=METRICS,\n",
    ")"
   ]
  },
  {
   "cell_type": "markdown",
   "id": "545114f2",
   "metadata": {
    "papermill": {
     "duration": 0.037484,
     "end_time": "2024-06-24T13:03:10.057428",
     "exception": false,
     "start_time": "2024-06-24T13:03:10.019944",
     "status": "completed"
    },
    "tags": []
   },
   "source": [
    "# Train"
   ]
  },
  {
   "cell_type": "code",
   "execution_count": 18,
   "id": "3b2c2ade",
   "metadata": {
    "papermill": {
     "duration": 24436.927887,
     "end_time": "2024-06-24T19:50:27.023148",
     "exception": false,
     "start_time": "2024-06-24T13:03:10.095261",
     "status": "completed"
    },
    "tags": []
   },
   "outputs": [
    {
     "name": "stdout",
     "output_type": "stream",
     "text": [
      "Epoch 1/5\n"
     ]
    },
    {
     "name": "stderr",
     "output_type": "stream",
     "text": [
      "2024-06-28 23:29:03.440395: E tensorflow/core/grappler/optimizers/meta_optimizer.cc:961] layout failed: INVALID_ARGUMENT: Size of values 0 does not match size of permutation 4 @ fanin shape inmodel/time_distributed/sequential/efficientnetv2-m/block1b_drop/dropout/SelectV2-2-TransposeNHWCToNCHW-LayoutOptimizer\n",
      "2024-06-28 23:29:12.280157: I external/local_tsl/tsl/platform/default/subprocess.cc:304] Start cannot spawn child process: No such file or directory\n",
      "2024-06-28 23:29:12.287487: I external/local_xla/xla/stream_executor/cuda/cuda_dnn.cc:454] Loaded cuDNN version 8904\n",
      "2024-06-28 23:29:12.322478: I external/local_tsl/tsl/platform/default/subprocess.cc:304] Start cannot spawn child process: No such file or directory\n",
      "2024-06-28 23:29:13.740433: I external/local_xla/xla/service/service.cc:168] XLA service 0x7f16843ec980 initialized for platform CUDA (this does not guarantee that XLA will be used). Devices:\n",
      "2024-06-28 23:29:13.740446: I external/local_xla/xla/service/service.cc:176]   StreamExecutor device (0): NVIDIA GeForce RTX 4090, Compute Capability 8.9\n",
      "2024-06-28 23:29:13.740449: I external/local_xla/xla/service/service.cc:176]   StreamExecutor device (1): NVIDIA GeForce RTX 4090, Compute Capability 8.9\n",
      "2024-06-28 23:29:13.743082: I tensorflow/compiler/mlir/tensorflow/utils/dump_mlir_util.cc:269] disabling MLIR crash reproducer, set env var `MLIR_CRASH_REPRODUCER_DIRECTORY` to enable.\n",
      "WARNING: All log messages before absl::InitializeLog() is called are written to STDERR\n",
      "I0000 00:00:1719595753.788450   78406 device_compiler.h:186] Compiled cluster using XLA!  This line is logged at most once for the lifetime of the process.\n"
     ]
    },
    {
     "name": "stdout",
     "output_type": "stream",
     "text": [
      "4/4 [==============================] - ETA: 0s - loss: 2.5484 - accuracy: 0.3750 - precision: 0.3750 - recall: 0.3750 - auc: 0.3000\n",
      "Epoch 1: saving model to ./weights/training_3/epoch-01.weights.h5\n",
      "4/4 [==============================] - 58s 2s/step - loss: 2.5484 - accuracy: 0.3750 - precision: 0.3750 - recall: 0.3750 - auc: 0.3000 - val_loss: 2.2636 - val_accuracy: 0.5000 - val_precision: 0.5000 - val_recall: 0.5000 - val_auc: 0.0000e+00 - lr: 5.0000e-04\n",
      "Epoch 2/5\n",
      "4/4 [==============================] - ETA: 0s - loss: 4.4390 - accuracy: 0.4375 - precision: 0.4375 - recall: 0.4375 - auc: 0.3000\n",
      "Epoch 2: saving model to ./weights/training_3/epoch-02.weights.h5\n",
      "4/4 [==============================] - 11s 2s/step - loss: 4.4390 - accuracy: 0.4375 - precision: 0.4375 - recall: 0.4375 - auc: 0.3000 - val_loss: 48.5608 - val_accuracy: 0.7500 - val_precision: 0.7500 - val_recall: 0.7500 - val_auc: 0.5000 - lr: 0.0068\n",
      "Epoch 3/5\n",
      "4/4 [==============================] - ETA: 0s - loss: 3.8843 - accuracy: 0.5000 - precision: 0.5000 - recall: 0.5000 - auc: 0.5000   \n",
      "Epoch 3: saving model to ./weights/training_3/epoch-03.weights.h5\n",
      "4/4 [==============================] - 10s 1s/step - loss: 3.8843 - accuracy: 0.5000 - precision: 0.5000 - recall: 0.5000 - auc: 0.5000 - val_loss: 248647876608.0000 - val_accuracy: 0.7500 - val_precision: 0.7500 - val_recall: 0.7500 - val_auc: 0.5000 - lr: 0.0131\n",
      "Epoch 4/5\n",
      "4/4 [==============================] - ETA: 0s - loss: 14.1160 - accuracy: 0.6250 - precision: 0.6250 - recall: 0.6250 - auc: 0.5833\n",
      "Epoch 4: saving model to ./weights/training_3/epoch-04.weights.h5\n",
      "4/4 [==============================] - 11s 2s/step - loss: 14.1160 - accuracy: 0.6250 - precision: 0.6250 - recall: 0.6250 - auc: 0.5833 - val_loss: 685685538816.0000 - val_accuracy: 0.2500 - val_precision: 0.2500 - val_recall: 0.2500 - val_auc: 0.5000 - lr: 0.0194\n",
      "Epoch 5/5\n",
      "4/4 [==============================] - ETA: 0s - loss: 8.5962 - accuracy: 0.1875 - precision: 0.1875 - recall: 0.1875 - auc: 0.2083             \n",
      "Epoch 5: saving model to ./weights/training_3/epoch-05.weights.h5\n",
      "4/4 [==============================] - 11s 1s/step - loss: 8.5962 - accuracy: 0.1875 - precision: 0.1875 - recall: 0.1875 - auc: 0.2083 - val_loss: 1281284307419136.0000 - val_accuracy: 0.7500 - val_precision: 0.7500 - val_recall: 0.7500 - val_auc: 0.5000 - lr: 0.0257\n"
     ]
    }
   ],
   "source": [
    "EPOCHS = 5 if DEBUG else EPOCHS\n",
    "\n",
    "history = model.fit(\n",
    "    train_dataset,\n",
    "    validation_data=val_dataset,\n",
    "#     steps_per_epoch=len(train_df) // batch_size,\n",
    "#     validation_steps=len(test_df) // batch_size,\n",
    "    epochs=EPOCHS,\n",
    "    callbacks=callbacks,\n",
    ")"
   ]
  },
  {
   "cell_type": "markdown",
   "id": "ab230083",
   "metadata": {
    "papermill": {
     "duration": 0.88582,
     "end_time": "2024-06-24T19:50:31.189821",
     "exception": false,
     "start_time": "2024-06-24T19:50:30.304001",
     "status": "completed"
    },
    "tags": []
   },
   "source": [
    "## Plots"
   ]
  },
  {
   "cell_type": "code",
   "execution_count": 19,
   "id": "afa3bd0e",
   "metadata": {
    "papermill": {
     "duration": 1.230493,
     "end_time": "2024-06-24T19:50:33.286191",
     "exception": false,
     "start_time": "2024-06-24T19:50:32.055698",
     "status": "completed"
    },
    "tags": []
   },
   "outputs": [
    {
     "data": {
      "image/png": "[encoded data removed]",
      "text/plain": [
       "<Figure size 640x480 with 1 Axes>"
      ]
     },
     "metadata": {},
     "output_type": "display_data"
    },
    {
     "data": {
      "image/png": "[encoded data removed]",
      "text/plain": [
       "<Figure size 640x480 with 1 Axes>"
      ]
     },
     "metadata": {},
     "output_type": "display_data"
    }
   ],
   "source": [
    "plt.figure(1)\n",
    "plt.plot(history.history['auc'])\n",
    "plt.plot(history.history['val_auc'])\n",
    "plt.title('model auc')\n",
    "plt.ylabel('auc')\n",
    "plt.xlabel('epoch')\n",
    "plt.legend(['train', 'val'], loc='upper left')\n",
    "\n",
    "plt.figure(2)\n",
    "plt.plot(history.history['loss'])\n",
    "plt.plot(history.history['val_loss'])\n",
    "plt.title('model loss')\n",
    "plt.ylabel('loss')\n",
    "plt.xlabel('epoch')\n",
    "plt.legend(['train', 'val'], loc='upper right')\n",
    "plt.show()"
   ]
  },
  {
   "cell_type": "markdown",
   "id": "5701fdc5",
   "metadata": {
    "papermill": {
     "duration": 0.87116,
     "end_time": "2024-06-24T19:50:35.006313",
     "exception": false,
     "start_time": "2024-06-24T19:50:34.135153",
     "status": "completed"
    },
    "tags": []
   },
   "source": [
    "# Inference"
   ]
  },
  {
   "cell_type": "code",
   "execution_count": 9,
   "id": "5b5471a3",
   "metadata": {},
   "outputs": [
    {
     "name": "stdout",
     "output_type": "stream",
     "text": [
      "./weights/training_3/epoch-08.weights.h5\n"
     ]
    }
   ],
   "source": [
    "EPOCHS = 8\n",
    "WEIGHT_PATH = f'./weights/training_3/epoch-{EPOCHS:02d}.weights.h5'\n",
    "print(WEIGHT_PATH)\n",
    "model.load_weights(WEIGHT_PATH)"
   ]
  },
  {
   "cell_type": "code",
   "execution_count": 10,
   "id": "61b891b1",
   "metadata": {
    "papermill": {
     "duration": 0.867502,
     "end_time": "2024-06-24T19:50:36.745600",
     "exception": false,
     "start_time": "2024-06-24T19:50:35.878098",
     "status": "completed"
    },
    "tags": []
   },
   "outputs": [],
   "source": [
    "def create_test_dataset(file_paths):\n",
    "    dataset = tf.data.Dataset.from_tensor_slices(file_paths)\n",
    "    dataset = dataset.map(load_video_from_folder, num_parallel_calls=AUTOTUNE)\n",
    "    dataset = dataset.batch(BATCH_SIZE)\n",
    "    dataset = dataset.prefetch(AUTOTUNE)\n",
    "    return dataset\n",
    "\n",
    "def run_inference(dataset, model):\n",
    "    predictions = []\n",
    "    for videos in dataset:\n",
    "        preds = model.predict(videos, verbose = 0)\n",
    "        predictions.extend(preds)\n",
    "    return predictions"
   ]
  },
  {
   "cell_type": "code",
   "execution_count": 11,
   "id": "76180161",
   "metadata": {
    "papermill": {
     "duration": 556.982179,
     "end_time": "2024-06-24T19:59:54.592321",
     "exception": false,
     "start_time": "2024-06-24T19:50:37.610142",
     "status": "completed"
    },
    "tags": []
   },
   "outputs": [
    {
     "name": "stderr",
     "output_type": "stream",
     "text": [
      "2024-06-29 02:31:09.694839: I external/local_xla/xla/stream_executor/cuda/cuda_dnn.cc:454] Loaded cuDNN version 8904\n",
      "2024-06-29 02:31:09.726948: I external/local_tsl/tsl/platform/default/subprocess.cc:304] Start cannot spawn child process: No such file or directory\n",
      "2024-06-29 02:31:09.879913: I external/local_tsl/tsl/platform/default/subprocess.cc:304] Start cannot spawn child process: No such file or directory\n"
     ]
    }
   ],
   "source": [
    "# Load the sample submission file\n",
    "submission_df = pd.read_csv('/mnt/storage2/Sabbir/VideoClassification/Video_Classification_Pipeline/Data/sample_submission.csv')\n",
    "\n",
    "if DEBUG:\n",
    "    submission_df = submission_df[:5]\n",
    "\n",
    "# Get test file names\n",
    "test_files = submission_df['file_name'].values\n",
    "\n",
    "# Paths to test data\n",
    "freeway_test_path = '/mnt/storage2/Sabbir/VideoClassification/Video_Classification_Pipeline/Data/freeway/test'\n",
    "road_test_path = '/mnt/storage2/Sabbir/VideoClassification/Video_Classification_Pipeline/Data/road/test'\n",
    "\n",
    "# Create list of file paths\n",
    "test_file_paths = []\n",
    "for file_name in test_files:\n",
    "    if 'road' in file_name:\n",
    "        test_file_paths.append(os.path.join(road_test_path, file_name))\n",
    "    elif 'freeway' in file_name:\n",
    "        test_file_paths.append(os.path.join(freeway_test_path, file_name))\n",
    "        \n",
    "        \n",
    "test_dataset = create_test_dataset(test_file_paths)\n",
    "\n",
    "preds = run_inference(test_dataset, model)\n",
    "positive_probs = [pred[1] for pred in preds]\n",
    "\n",
    "submission_df['risk'] = positive_probs\n",
    "submission_df.to_csv('submission.csv', index=False)"
   ]
  },
  {
   "cell_type": "code",
   "execution_count": 12,
   "id": "c95f86fd",
   "metadata": {
    "papermill": {
     "duration": 0.891366,
     "end_time": "2024-06-24T19:59:56.351376",
     "exception": false,
     "start_time": "2024-06-24T19:59:55.460010",
     "status": "completed"
    },
    "tags": []
   },
   "outputs": [
    {
     "data": {
      "text/html": [
       "<div>\n",
       "<style scoped>\n",
       "    .dataframe tbody tr th:only-of-type {\n",
       "        vertical-align: middle;\n",
       "    }\n",
       "\n",
       "    .dataframe tbody tr th {\n",
       "        vertical-align: top;\n",
       "    }\n",
       "\n",
       "    .dataframe thead th {\n",
       "        text-align: right;\n",
       "    }\n",
       "</style>\n",
       "<table border=\"1\" class=\"dataframe\">\n",
       "  <thead>\n",
       "    <tr style=\"text-align: right;\">\n",
       "      <th></th>\n",
       "      <th>file_name</th>\n",
       "      <th>risk</th>\n",
       "    </tr>\n",
       "  </thead>\n",
       "  <tbody>\n",
       "    <tr>\n",
       "      <th>0</th>\n",
       "      <td>road_0179</td>\n",
       "      <td>0.016152</td>\n",
       "    </tr>\n",
       "    <tr>\n",
       "      <th>1</th>\n",
       "      <td>road_0180</td>\n",
       "      <td>0.039322</td>\n",
       "    </tr>\n",
       "    <tr>\n",
       "      <th>2</th>\n",
       "      <td>road_0181</td>\n",
       "      <td>0.084891</td>\n",
       "    </tr>\n",
       "    <tr>\n",
       "      <th>3</th>\n",
       "      <td>road_0182</td>\n",
       "      <td>0.000295</td>\n",
       "    </tr>\n",
       "    <tr>\n",
       "      <th>4</th>\n",
       "      <td>road_0183</td>\n",
       "      <td>0.036873</td>\n",
       "    </tr>\n",
       "  </tbody>\n",
       "</table>\n",
       "</div>"
      ],
      "text/plain": [
       "   file_name      risk\n",
       "0  road_0179  0.016152\n",
       "1  road_0180  0.039322\n",
       "2  road_0181  0.084891\n",
       "3  road_0182  0.000295\n",
       "4  road_0183  0.036873"
      ]
     },
     "execution_count": 12,
     "metadata": {},
     "output_type": "execute_result"
    }
   ],
   "source": [
    "submission_df.head()"
   ]
  },
  {
   "cell_type": "code",
   "execution_count": 13,
   "id": "970626a2",
   "metadata": {
    "papermill": {
     "duration": 0.859089,
     "end_time": "2024-06-24T19:59:58.060987",
     "exception": false,
     "start_time": "2024-06-24T19:59:57.201898",
     "status": "completed"
    },
    "tags": []
   },
   "outputs": [
    {
     "name": "stdout",
     "output_type": "stream",
     "text": [
      "notebook finished on:  2024-06-29 02:32:47.688046\n"
     ]
    }
   ],
   "source": [
    "from datetime import datetime\n",
    "\n",
    "print('notebook finished on: ', datetime.now())"
   ]
  }
 ],
 "metadata": {
  "kaggle": {
   "accelerator": "gpu",
   "dataSources": [
    {
     "databundleVersionId": 8647245,
     "sourceId": 80318,
     "sourceType": "competition"
    }
   ],
   "dockerImageVersionId": 30121,
   "isGpuEnabled": true,
   "isInternetEnabled": true,
   "language": "python",
   "sourceType": "notebook"
  },
  "kernelspec": {
   "display_name": "Python 3 (ipykernel)",
   "language": "python",
   "name": "python3"
  },
  "language_info": {
   "codemirror_mode": {
    "name": "ipython",
    "version": 3
   },
   "file_extension": ".py",
   "mimetype": "text/x-python",
   "name": "python",
   "nbconvert_exporter": "python",
   "pygments_lexer": "ipython3",
   "version": "3.9.18"
  },
  "papermill": {
   "default_parameters": {},
   "duration": 25128.613714,
   "end_time": "2024-06-24T20:00:02.472554",
   "environment_variables": {},
   "exception": null,
   "input_path": "__notebook__.ipynb",
   "output_path": "__notebook__.ipynb",
   "parameters": {},
   "start_time": "2024-06-24T13:01:13.858840",
   "version": "2.3.3"
  }
 },
 "nbformat": 4,
 "nbformat_minor": 5
}
