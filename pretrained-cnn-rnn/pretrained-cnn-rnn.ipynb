{
 "cells": [
  {
   "cell_type": "markdown",
   "id": "d677b496",
   "metadata": {
    "papermill": {
     "duration": 0.009452,
     "end_time": "2024-06-23T07:22:43.097373",
     "exception": false,
     "start_time": "2024-06-23T07:22:43.087921",
     "status": "completed"
    },
    "tags": []
   },
   "source": [
    "# Imports"
   ]
  },
  {
   "cell_type": "code",
   "execution_count": 1,
   "id": "5342ad19",
   "metadata": {
    "execution": {
     "iopub.execute_input": "2024-06-23T07:22:43.117111Z",
     "iopub.status.busy": "2024-06-23T07:22:43.116735Z",
     "iopub.status.idle": "2024-06-23T07:22:43.121657Z",
     "shell.execute_reply": "2024-06-23T07:22:43.120806Z"
    },
    "papermill": {
     "duration": 0.01694,
     "end_time": "2024-06-23T07:22:43.123515",
     "exception": false,
     "start_time": "2024-06-23T07:22:43.106575",
     "status": "completed"
    },
    "tags": []
   },
   "outputs": [],
   "source": [
    "# !pip install -q wurlitzer\n",
    "# !pip install -q --upgrade keras-cv tensorflow\n",
    "# !pip install -q --upgrade keras"
   ]
  },
  {
   "cell_type": "code",
   "execution_count": 2,
   "id": "fb58b0f6",
   "metadata": {
    "execution": {
     "iopub.execute_input": "2024-06-23T07:22:43.142231Z",
     "iopub.status.busy": "2024-06-23T07:22:43.141934Z",
     "iopub.status.idle": "2024-06-23T07:22:56.660889Z",
     "shell.execute_reply": "2024-06-23T07:22:56.659763Z"
    },
    "papermill": {
     "duration": 13.530537,
     "end_time": "2024-06-23T07:22:56.662902",
     "exception": false,
     "start_time": "2024-06-23T07:22:43.132365",
     "status": "completed"
    },
    "tags": []
   },
   "outputs": [
    {
     "name": "stderr",
     "output_type": "stream",
     "text": [
      "2024-06-23 07:22:45.023979: E external/local_xla/xla/stream_executor/cuda/cuda_dnn.cc:9261] Unable to register cuDNN factory: Attempting to register factory for plugin cuDNN when one has already been registered\n",
      "2024-06-23 07:22:45.024151: E external/local_xla/xla/stream_executor/cuda/cuda_fft.cc:607] Unable to register cuFFT factory: Attempting to register factory for plugin cuFFT when one has already been registered\n",
      "2024-06-23 07:22:45.158703: E external/local_xla/xla/stream_executor/cuda/cuda_blas.cc:1515] Unable to register cuBLAS factory: Attempting to register factory for plugin cuBLAS when one has already been registered\n"
     ]
    },
    {
     "name": "stdout",
     "output_type": "stream",
     "text": [
      "running tf:  2.15.0\n",
      "running keras:  2.15.0\n"
     ]
    }
   ],
   "source": [
    "import keras\n",
    "import tensorflow as tf\n",
    "from tensorflow.keras.preprocessing import image\n",
    "\n",
    "import os\n",
    "from tqdm import tqdm\n",
    "\n",
    "import pandas as pd\n",
    "import numpy as np\n",
    "import matplotlib.pyplot as plt\n",
    "from sklearn.model_selection import train_test_split\n",
    "\n",
    "print('running tf: ', tf.__version__)\n",
    "print('running keras: ', tf.__version__)"
   ]
  },
  {
   "cell_type": "code",
   "execution_count": 3,
   "id": "1d98054d",
   "metadata": {
    "execution": {
     "iopub.execute_input": "2024-06-23T07:22:56.683119Z",
     "iopub.status.busy": "2024-06-23T07:22:56.682137Z",
     "iopub.status.idle": "2024-06-23T07:22:56.688438Z",
     "shell.execute_reply": "2024-06-23T07:22:56.687472Z"
    },
    "papermill": {
     "duration": 0.018114,
     "end_time": "2024-06-23T07:22:56.690293",
     "exception": false,
     "start_time": "2024-06-23T07:22:56.672179",
     "status": "completed"
    },
    "tags": []
   },
   "outputs": [],
   "source": [
    "# os.environ[\"KERAS_BACKEND\"] = \"tensorflow\"  # Or \"jax\" or \"torch\"!"
   ]
  },
  {
   "cell_type": "markdown",
   "id": "2a5395b9",
   "metadata": {
    "papermill": {
     "duration": 0.008924,
     "end_time": "2024-06-23T07:22:56.708352",
     "exception": false,
     "start_time": "2024-06-23T07:22:56.699428",
     "status": "completed"
    },
    "tags": []
   },
   "source": [
    "# Config"
   ]
  },
  {
   "cell_type": "code",
   "execution_count": 4,
   "id": "8e24948b",
   "metadata": {
    "execution": {
     "iopub.execute_input": "2024-06-23T07:22:56.727395Z",
     "iopub.status.busy": "2024-06-23T07:22:56.727063Z",
     "iopub.status.idle": "2024-06-23T07:22:56.731681Z",
     "shell.execute_reply": "2024-06-23T07:22:56.730955Z"
    },
    "papermill": {
     "duration": 0.016286,
     "end_time": "2024-06-23T07:22:56.733594",
     "exception": false,
     "start_time": "2024-06-23T07:22:56.717308",
     "status": "completed"
    },
    "tags": []
   },
   "outputs": [],
   "source": [
    "IMG_SIZE = 224\n",
    "BATCH_SIZE = 32\n",
    "EPOCHS = 30\n",
    "\n",
    "MAX_SEQ_LENGTH = 64\n",
    "NUM_FEATURES = 1280\n",
    "\n",
    "DEBUG = False\n",
    "AUTOTUNE = tf.data.experimental.AUTOTUNE"
   ]
  },
  {
   "cell_type": "markdown",
   "id": "8a87e46d",
   "metadata": {
    "papermill": {
     "duration": 0.008732,
     "end_time": "2024-06-23T07:22:56.752248",
     "exception": false,
     "start_time": "2024-06-23T07:22:56.743516",
     "status": "completed"
    },
    "tags": []
   },
   "source": [
    "# Data Loading"
   ]
  },
  {
   "cell_type": "code",
   "execution_count": 5,
   "id": "9cdfe30e",
   "metadata": {
    "execution": {
     "iopub.execute_input": "2024-06-23T07:22:56.772308Z",
     "iopub.status.busy": "2024-06-23T07:22:56.771926Z",
     "iopub.status.idle": "2024-06-23T07:22:56.806456Z",
     "shell.execute_reply": "2024-06-23T07:22:56.805251Z"
    },
    "papermill": {
     "duration": 0.04733,
     "end_time": "2024-06-23T07:22:56.808867",
     "exception": false,
     "start_time": "2024-06-23T07:22:56.761537",
     "status": "completed"
    },
    "tags": []
   },
   "outputs": [],
   "source": [
    "# Paths to your data\n",
    "freeway_train_path = '/kaggle/input/2nd-ava-challenge-ieee-mipr-2024/2nd_AVA_Dataset_2ed/freeway/train'\n",
    "road_train_path = '/kaggle/input/2nd-ava-challenge-ieee-mipr-2024/2nd_AVA_Dataset_2ed/road/train'\n",
    "freeway_train_csv = '/kaggle/input/2nd-ava-challenge-ieee-mipr-2024/2nd_AVA_Dataset_2ed/freeway_train.csv'\n",
    "road_train_csv = '/kaggle/input/2nd-ava-challenge-ieee-mipr-2024/2nd_AVA_Dataset_2ed/road_train.csv'\n",
    "\n",
    "# Read CSV files\n",
    "freeway_df = pd.read_csv(freeway_train_csv)\n",
    "road_df = pd.read_csv(road_train_csv)\n",
    "\n",
    "# Add the directory path to the file names\n",
    "freeway_df['file_name'] = freeway_df['file_name'].apply(lambda x: os.path.join(freeway_train_path, x))\n",
    "road_df['file_name'] = road_df['file_name'].apply(lambda x: os.path.join(road_train_path, x))\n",
    "\n",
    "# Combine dataframes\n",
    "all_df = pd.concat([freeway_df, road_df])\n",
    "\n",
    "if DEBUG:\n",
    "    all_df = all_df[:20]"
   ]
  },
  {
   "cell_type": "code",
   "execution_count": 6,
   "id": "bc6b1954",
   "metadata": {
    "execution": {
     "iopub.execute_input": "2024-06-23T07:22:56.828801Z",
     "iopub.status.busy": "2024-06-23T07:22:56.828486Z",
     "iopub.status.idle": "2024-06-23T07:22:56.851592Z",
     "shell.execute_reply": "2024-06-23T07:22:56.850607Z"
    },
    "papermill": {
     "duration": 0.035382,
     "end_time": "2024-06-23T07:22:56.853730",
     "exception": false,
     "start_time": "2024-06-23T07:22:56.818348",
     "status": "completed"
    },
    "tags": []
   },
   "outputs": [
    {
     "name": "stdout",
     "output_type": "stream",
     "text": [
      "Total videos for training: 287\n",
      "Total videos for val: 72\n"
     ]
    },
    {
     "data": {
      "text/html": [
       "<div>\n",
       "<style scoped>\n",
       "    .dataframe tbody tr th:only-of-type {\n",
       "        vertical-align: middle;\n",
       "    }\n",
       "\n",
       "    .dataframe tbody tr th {\n",
       "        vertical-align: top;\n",
       "    }\n",
       "\n",
       "    .dataframe thead th {\n",
       "        text-align: right;\n",
       "    }\n",
       "</style>\n",
       "<table border=\"1\" class=\"dataframe\">\n",
       "  <thead>\n",
       "    <tr style=\"text-align: right;\">\n",
       "      <th></th>\n",
       "      <th>file_name</th>\n",
       "      <th>risk</th>\n",
       "    </tr>\n",
       "  </thead>\n",
       "  <tbody>\n",
       "    <tr>\n",
       "      <th>75</th>\n",
       "      <td>/kaggle/input/2nd-ava-challenge-ieee-mipr-2024...</td>\n",
       "      <td>0</td>\n",
       "    </tr>\n",
       "    <tr>\n",
       "      <th>96</th>\n",
       "      <td>/kaggle/input/2nd-ava-challenge-ieee-mipr-2024...</td>\n",
       "      <td>0</td>\n",
       "    </tr>\n",
       "    <tr>\n",
       "      <th>120</th>\n",
       "      <td>/kaggle/input/2nd-ava-challenge-ieee-mipr-2024...</td>\n",
       "      <td>0</td>\n",
       "    </tr>\n",
       "    <tr>\n",
       "      <th>152</th>\n",
       "      <td>/kaggle/input/2nd-ava-challenge-ieee-mipr-2024...</td>\n",
       "      <td>0</td>\n",
       "    </tr>\n",
       "    <tr>\n",
       "      <th>67</th>\n",
       "      <td>/kaggle/input/2nd-ava-challenge-ieee-mipr-2024...</td>\n",
       "      <td>0</td>\n",
       "    </tr>\n",
       "    <tr>\n",
       "      <th>153</th>\n",
       "      <td>/kaggle/input/2nd-ava-challenge-ieee-mipr-2024...</td>\n",
       "      <td>0</td>\n",
       "    </tr>\n",
       "    <tr>\n",
       "      <th>13</th>\n",
       "      <td>/kaggle/input/2nd-ava-challenge-ieee-mipr-2024...</td>\n",
       "      <td>0</td>\n",
       "    </tr>\n",
       "    <tr>\n",
       "      <th>69</th>\n",
       "      <td>/kaggle/input/2nd-ava-challenge-ieee-mipr-2024...</td>\n",
       "      <td>0</td>\n",
       "    </tr>\n",
       "    <tr>\n",
       "      <th>14</th>\n",
       "      <td>/kaggle/input/2nd-ava-challenge-ieee-mipr-2024...</td>\n",
       "      <td>0</td>\n",
       "    </tr>\n",
       "    <tr>\n",
       "      <th>33</th>\n",
       "      <td>/kaggle/input/2nd-ava-challenge-ieee-mipr-2024...</td>\n",
       "      <td>0</td>\n",
       "    </tr>\n",
       "  </tbody>\n",
       "</table>\n",
       "</div>"
      ],
      "text/plain": [
       "                                             file_name  risk\n",
       "75   /kaggle/input/2nd-ava-challenge-ieee-mipr-2024...     0\n",
       "96   /kaggle/input/2nd-ava-challenge-ieee-mipr-2024...     0\n",
       "120  /kaggle/input/2nd-ava-challenge-ieee-mipr-2024...     0\n",
       "152  /kaggle/input/2nd-ava-challenge-ieee-mipr-2024...     0\n",
       "67   /kaggle/input/2nd-ava-challenge-ieee-mipr-2024...     0\n",
       "153  /kaggle/input/2nd-ava-challenge-ieee-mipr-2024...     0\n",
       "13   /kaggle/input/2nd-ava-challenge-ieee-mipr-2024...     0\n",
       "69   /kaggle/input/2nd-ava-challenge-ieee-mipr-2024...     0\n",
       "14   /kaggle/input/2nd-ava-challenge-ieee-mipr-2024...     0\n",
       "33   /kaggle/input/2nd-ava-challenge-ieee-mipr-2024...     0"
      ]
     },
     "execution_count": 6,
     "metadata": {},
     "output_type": "execute_result"
    }
   ],
   "source": [
    "# Split into train and validation sets\n",
    "train_df, val_df = train_test_split(all_df, test_size=0.2, random_state=42, stratify=all_df['risk'])\n",
    "\n",
    "print(f\"Total videos for training: {len(train_df)}\")\n",
    "print(f\"Total videos for val: {len(val_df)}\")\n",
    "\n",
    "train_df.sample(10)"
   ]
  },
  {
   "cell_type": "code",
   "execution_count": 7,
   "id": "b9c0ec3e",
   "metadata": {
    "execution": {
     "iopub.execute_input": "2024-06-23T07:22:56.873445Z",
     "iopub.status.busy": "2024-06-23T07:22:56.873136Z",
     "iopub.status.idle": "2024-06-23T07:22:56.879629Z",
     "shell.execute_reply": "2024-06-23T07:22:56.878763Z"
    },
    "papermill": {
     "duration": 0.018578,
     "end_time": "2024-06-23T07:22:56.881624",
     "exception": false,
     "start_time": "2024-06-23T07:22:56.863046",
     "status": "completed"
    },
    "tags": []
   },
   "outputs": [],
   "source": [
    "def read_frames_from_folder(folder_path):\n",
    "    # Get list of all frame files\n",
    "    frame_files = sorted([os.path.join(folder_path, f) for f in os.listdir(folder_path) if f.endswith('.jpg')])\n",
    "    \n",
    "    # Take the last num_frames frames if there are more frames\n",
    "    if len(frame_files) > MAX_SEQ_LENGTH:\n",
    "        frame_files = frame_files[-MAX_SEQ_LENGTH:]\n",
    "    \n",
    "    frames = []\n",
    "    for frame_file in frame_files:\n",
    "        img = image.load_img(frame_file, target_size=(IMG_SIZE, IMG_SIZE), interpolation='bicubic', keep_aspect_ratio=True)\n",
    "        img_array = image.img_to_array(img)\n",
    "        frames.append(img_array)\n",
    "\n",
    "    return np.array(frames)"
   ]
  },
  {
   "cell_type": "markdown",
   "id": "ae273eb0",
   "metadata": {
    "papermill": {
     "duration": 0.008934,
     "end_time": "2024-06-23T07:22:56.899983",
     "exception": false,
     "start_time": "2024-06-23T07:22:56.891049",
     "status": "completed"
    },
    "tags": []
   },
   "source": [
    "# Model"
   ]
  },
  {
   "cell_type": "code",
   "execution_count": 8,
   "id": "20691ebc",
   "metadata": {
    "execution": {
     "iopub.execute_input": "2024-06-23T07:22:56.919686Z",
     "iopub.status.busy": "2024-06-23T07:22:56.919383Z",
     "iopub.status.idle": "2024-06-23T07:23:14.531846Z",
     "shell.execute_reply": "2024-06-23T07:23:14.530864Z"
    },
    "papermill": {
     "duration": 17.625178,
     "end_time": "2024-06-23T07:23:14.534213",
     "exception": false,
     "start_time": "2024-06-23T07:22:56.909035",
     "status": "completed"
    },
    "tags": []
   },
   "outputs": [
    {
     "name": "stdout",
     "output_type": "stream",
     "text": [
      "Downloading data from https://storage.googleapis.com/tensorflow/keras-applications/efficientnet_v2/efficientnetv2-m_notop.h5\n",
      "\u001b[1m214201816/214201816\u001b[0m \u001b[32m━━━━━━━━━━━━━━━━━━━━\u001b[0m\u001b[37m\u001b[0m \u001b[1m7s\u001b[0m 0us/step\n"
     ]
    }
   ],
   "source": [
    "fe = tf.keras.applications.EfficientNetV2M(\n",
    "    weights='imagenet', \n",
    "    include_top=False,  \n",
    "    input_shape=(IMG_SIZE, IMG_SIZE, 3), \n",
    "    pooling=None,\n",
    ")\n",
    "\n",
    "# feature_extractor = SeResNeXT(input_shape=(224,224,3), weights='imagenet', include_top=False)\n",
    "# preprocess_layer = tf.keras.layers.Lambda(lambda x: preprocess_fn(x))\n",
    "\n",
    "\n",
    "model = tf.keras.models.Sequential([\n",
    "    tf.keras.Input((IMG_SIZE, IMG_SIZE, 3)),\n",
    "#     preprocess_layer,\n",
    "    fe,\n",
    "    tf.keras.layers.GlobalAveragePooling2D(),\n",
    "    tf.keras.layers.BatchNormalization(),\n",
    "    tf.keras.layers.Dense(512, activation= 'relu', kernel_regularizer=tf.keras.regularizers.l2(0.01)),\n",
    "    tf.keras.layers.Dropout(rate= 0.25, seed= 123),\n",
    "    tf.keras.layers.Dense(2, activation=None)\n",
    "])\n",
    "\n",
    "model.build()\n",
    "\n",
    "model.load_weights('/kaggle/input/mipr-ava-single-frame-models/best_model.weights.h5')"
   ]
  },
  {
   "cell_type": "code",
   "execution_count": 9,
   "id": "7d4b7582",
   "metadata": {
    "execution": {
     "iopub.execute_input": "2024-06-23T07:23:14.575460Z",
     "iopub.status.busy": "2024-06-23T07:23:14.574728Z",
     "iopub.status.idle": "2024-06-23T07:23:14.629099Z",
     "shell.execute_reply": "2024-06-23T07:23:14.628161Z"
    },
    "papermill": {
     "duration": 0.077254,
     "end_time": "2024-06-23T07:23:14.631229",
     "exception": false,
     "start_time": "2024-06-23T07:23:14.553975",
     "status": "completed"
    },
    "tags": []
   },
   "outputs": [
    {
     "data": {
      "text/html": [
       "<pre style=\"white-space:pre;overflow-x:auto;line-height:normal;font-family:Menlo,'DejaVu Sans Mono',consolas,'Courier New',monospace\"><span style=\"font-weight: bold\">Model: \"sequential\"</span>\n",
       "</pre>\n"
      ],
      "text/plain": [
       "\u001b[1mModel: \"sequential\"\u001b[0m\n"
      ]
     },
     "metadata": {},
     "output_type": "display_data"
    },
    {
     "data": {
      "text/html": [
       "<pre style=\"white-space:pre;overflow-x:auto;line-height:normal;font-family:Menlo,'DejaVu Sans Mono',consolas,'Courier New',monospace\">┏━━━━━━━━━━━━━━━━━━━━━━━━━━━━━━━━━┳━━━━━━━━━━━━━━━━━━━━━━━━┳━━━━━━━━━━━━━━━┓\n",
       "┃<span style=\"font-weight: bold\"> Layer (type)                    </span>┃<span style=\"font-weight: bold\"> Output Shape           </span>┃<span style=\"font-weight: bold\">       Param # </span>┃\n",
       "┡━━━━━━━━━━━━━━━━━━━━━━━━━━━━━━━━━╇━━━━━━━━━━━━━━━━━━━━━━━━╇━━━━━━━━━━━━━━━┩\n",
       "│ efficientnetv2-m (<span style=\"color: #0087ff; text-decoration-color: #0087ff\">Functional</span>)   │ (<span style=\"color: #00d7ff; text-decoration-color: #00d7ff\">None</span>, <span style=\"color: #00af00; text-decoration-color: #00af00\">7</span>, <span style=\"color: #00af00; text-decoration-color: #00af00\">7</span>, <span style=\"color: #00af00; text-decoration-color: #00af00\">1280</span>)     │    <span style=\"color: #00af00; text-decoration-color: #00af00\">53,150,388</span> │\n",
       "├─────────────────────────────────┼────────────────────────┼───────────────┤\n",
       "│ global_average_pooling2d        │ (<span style=\"color: #00d7ff; text-decoration-color: #00d7ff\">None</span>, <span style=\"color: #00af00; text-decoration-color: #00af00\">1280</span>)           │             <span style=\"color: #00af00; text-decoration-color: #00af00\">0</span> │\n",
       "│ (<span style=\"color: #0087ff; text-decoration-color: #0087ff\">GlobalAveragePooling2D</span>)        │                        │               │\n",
       "├─────────────────────────────────┼────────────────────────┼───────────────┤\n",
       "│ batch_normalization             │ (<span style=\"color: #00d7ff; text-decoration-color: #00d7ff\">None</span>, <span style=\"color: #00af00; text-decoration-color: #00af00\">1280</span>)           │         <span style=\"color: #00af00; text-decoration-color: #00af00\">5,120</span> │\n",
       "│ (<span style=\"color: #0087ff; text-decoration-color: #0087ff\">BatchNormalization</span>)            │                        │               │\n",
       "├─────────────────────────────────┼────────────────────────┼───────────────┤\n",
       "│ dense (<span style=\"color: #0087ff; text-decoration-color: #0087ff\">Dense</span>)                   │ (<span style=\"color: #00d7ff; text-decoration-color: #00d7ff\">None</span>, <span style=\"color: #00af00; text-decoration-color: #00af00\">512</span>)            │       <span style=\"color: #00af00; text-decoration-color: #00af00\">655,872</span> │\n",
       "├─────────────────────────────────┼────────────────────────┼───────────────┤\n",
       "│ dropout (<span style=\"color: #0087ff; text-decoration-color: #0087ff\">Dropout</span>)               │ (<span style=\"color: #00d7ff; text-decoration-color: #00d7ff\">None</span>, <span style=\"color: #00af00; text-decoration-color: #00af00\">512</span>)            │             <span style=\"color: #00af00; text-decoration-color: #00af00\">0</span> │\n",
       "├─────────────────────────────────┼────────────────────────┼───────────────┤\n",
       "│ dense_1 (<span style=\"color: #0087ff; text-decoration-color: #0087ff\">Dense</span>)                 │ (<span style=\"color: #00d7ff; text-decoration-color: #00d7ff\">None</span>, <span style=\"color: #00af00; text-decoration-color: #00af00\">2</span>)              │         <span style=\"color: #00af00; text-decoration-color: #00af00\">1,026</span> │\n",
       "└─────────────────────────────────┴────────────────────────┴───────────────┘\n",
       "</pre>\n"
      ],
      "text/plain": [
       "┏━━━━━━━━━━━━━━━━━━━━━━━━━━━━━━━━━┳━━━━━━━━━━━━━━━━━━━━━━━━┳━━━━━━━━━━━━━━━┓\n",
       "┃\u001b[1m \u001b[0m\u001b[1mLayer (type)                   \u001b[0m\u001b[1m \u001b[0m┃\u001b[1m \u001b[0m\u001b[1mOutput Shape          \u001b[0m\u001b[1m \u001b[0m┃\u001b[1m \u001b[0m\u001b[1m      Param #\u001b[0m\u001b[1m \u001b[0m┃\n",
       "┡━━━━━━━━━━━━━━━━━━━━━━━━━━━━━━━━━╇━━━━━━━━━━━━━━━━━━━━━━━━╇━━━━━━━━━━━━━━━┩\n",
       "│ efficientnetv2-m (\u001b[38;5;33mFunctional\u001b[0m)   │ (\u001b[38;5;45mNone\u001b[0m, \u001b[38;5;34m7\u001b[0m, \u001b[38;5;34m7\u001b[0m, \u001b[38;5;34m1280\u001b[0m)     │    \u001b[38;5;34m53,150,388\u001b[0m │\n",
       "├─────────────────────────────────┼────────────────────────┼───────────────┤\n",
       "│ global_average_pooling2d        │ (\u001b[38;5;45mNone\u001b[0m, \u001b[38;5;34m1280\u001b[0m)           │             \u001b[38;5;34m0\u001b[0m │\n",
       "│ (\u001b[38;5;33mGlobalAveragePooling2D\u001b[0m)        │                        │               │\n",
       "├─────────────────────────────────┼────────────────────────┼───────────────┤\n",
       "│ batch_normalization             │ (\u001b[38;5;45mNone\u001b[0m, \u001b[38;5;34m1280\u001b[0m)           │         \u001b[38;5;34m5,120\u001b[0m │\n",
       "│ (\u001b[38;5;33mBatchNormalization\u001b[0m)            │                        │               │\n",
       "├─────────────────────────────────┼────────────────────────┼───────────────┤\n",
       "│ dense (\u001b[38;5;33mDense\u001b[0m)                   │ (\u001b[38;5;45mNone\u001b[0m, \u001b[38;5;34m512\u001b[0m)            │       \u001b[38;5;34m655,872\u001b[0m │\n",
       "├─────────────────────────────────┼────────────────────────┼───────────────┤\n",
       "│ dropout (\u001b[38;5;33mDropout\u001b[0m)               │ (\u001b[38;5;45mNone\u001b[0m, \u001b[38;5;34m512\u001b[0m)            │             \u001b[38;5;34m0\u001b[0m │\n",
       "├─────────────────────────────────┼────────────────────────┼───────────────┤\n",
       "│ dense_1 (\u001b[38;5;33mDense\u001b[0m)                 │ (\u001b[38;5;45mNone\u001b[0m, \u001b[38;5;34m2\u001b[0m)              │         \u001b[38;5;34m1,026\u001b[0m │\n",
       "└─────────────────────────────────┴────────────────────────┴───────────────┘\n"
      ]
     },
     "metadata": {},
     "output_type": "display_data"
    },
    {
     "data": {
      "text/html": [
       "<pre style=\"white-space:pre;overflow-x:auto;line-height:normal;font-family:Menlo,'DejaVu Sans Mono',consolas,'Courier New',monospace\"><span style=\"font-weight: bold\"> Total params: </span><span style=\"color: #00af00; text-decoration-color: #00af00\">53,812,406</span> (205.28 MB)\n",
       "</pre>\n"
      ],
      "text/plain": [
       "\u001b[1m Total params: \u001b[0m\u001b[38;5;34m53,812,406\u001b[0m (205.28 MB)\n"
      ]
     },
     "metadata": {},
     "output_type": "display_data"
    },
    {
     "data": {
      "text/html": [
       "<pre style=\"white-space:pre;overflow-x:auto;line-height:normal;font-family:Menlo,'DejaVu Sans Mono',consolas,'Courier New',monospace\"><span style=\"font-weight: bold\"> Trainable params: </span><span style=\"color: #00af00; text-decoration-color: #00af00\">53,517,814</span> (204.15 MB)\n",
       "</pre>\n"
      ],
      "text/plain": [
       "\u001b[1m Trainable params: \u001b[0m\u001b[38;5;34m53,517,814\u001b[0m (204.15 MB)\n"
      ]
     },
     "metadata": {},
     "output_type": "display_data"
    },
    {
     "data": {
      "text/html": [
       "<pre style=\"white-space:pre;overflow-x:auto;line-height:normal;font-family:Menlo,'DejaVu Sans Mono',consolas,'Courier New',monospace\"><span style=\"font-weight: bold\"> Non-trainable params: </span><span style=\"color: #00af00; text-decoration-color: #00af00\">294,592</span> (1.12 MB)\n",
       "</pre>\n"
      ],
      "text/plain": [
       "\u001b[1m Non-trainable params: \u001b[0m\u001b[38;5;34m294,592\u001b[0m (1.12 MB)\n"
      ]
     },
     "metadata": {},
     "output_type": "display_data"
    },
    {
     "name": "stdout",
     "output_type": "stream",
     "text": [
      "None\n"
     ]
    },
    {
     "data": {
      "text/plain": [
       "[<Functional name=efficientnetv2-m, built=True>,\n",
       " <GlobalAveragePooling2D name=global_average_pooling2d, built=True>,\n",
       " <BatchNormalization name=batch_normalization, built=True>,\n",
       " <Dense name=dense, built=True>,\n",
       " <Dropout name=dropout, built=True>,\n",
       " <Dense name=dense_1, built=True>]"
      ]
     },
     "execution_count": 9,
     "metadata": {},
     "output_type": "execute_result"
    }
   ],
   "source": [
    "print(model.summary())\n",
    "model.layers"
   ]
  },
  {
   "cell_type": "code",
   "execution_count": 10,
   "id": "d4d603a3",
   "metadata": {
    "execution": {
     "iopub.execute_input": "2024-06-23T07:23:14.674262Z",
     "iopub.status.busy": "2024-06-23T07:23:14.673478Z",
     "iopub.status.idle": "2024-06-23T07:23:14.682838Z",
     "shell.execute_reply": "2024-06-23T07:23:14.681975Z"
    },
    "papermill": {
     "duration": 0.032978,
     "end_time": "2024-06-23T07:23:14.684821",
     "exception": false,
     "start_time": "2024-06-23T07:23:14.651843",
     "status": "completed"
    },
    "tags": []
   },
   "outputs": [],
   "source": [
    "from tensorflow.keras.models import Model\n",
    "\n",
    "feature_extractor = Model(inputs=model.inputs, outputs=model.layers[-4].output)"
   ]
  },
  {
   "cell_type": "code",
   "execution_count": 11,
   "id": "a7d274a1",
   "metadata": {
    "execution": {
     "iopub.execute_input": "2024-06-23T07:23:14.727326Z",
     "iopub.status.busy": "2024-06-23T07:23:14.726980Z",
     "iopub.status.idle": "2024-06-23T07:23:14.731385Z",
     "shell.execute_reply": "2024-06-23T07:23:14.730523Z"
    },
    "papermill": {
     "duration": 0.027924,
     "end_time": "2024-06-23T07:23:14.733254",
     "exception": false,
     "start_time": "2024-06-23T07:23:14.705330",
     "status": "completed"
    },
    "tags": []
   },
   "outputs": [],
   "source": [
    "# def build_feature_extractor():\n",
    "#     feature_extractor = keras.applications.ConvNeXtSmall(\n",
    "#         weights=\"imagenet\",\n",
    "#         include_top=False,\n",
    "#         pooling=\"avg\",\n",
    "#         input_shape=(IMG_SIZE, IMG_SIZE, 3),\n",
    "#     )\n",
    "#     preprocess_input = keras.applications.convnext.preprocess_input\n",
    "\n",
    "#     inputs = keras.Input((IMG_SIZE, IMG_SIZE, 3))\n",
    "#     preprocessed = preprocess_input(inputs)\n",
    "\n",
    "#     outputs = feature_extractor(preprocessed)\n",
    "#     return keras.Model(inputs, outputs, name=\"feature_extractor\")\n",
    "\n",
    "\n",
    "# feature_extractor = build_feature_extractor()"
   ]
  },
  {
   "cell_type": "code",
   "execution_count": 12,
   "id": "9f300967",
   "metadata": {
    "execution": {
     "iopub.execute_input": "2024-06-23T07:23:14.776891Z",
     "iopub.status.busy": "2024-06-23T07:23:14.776081Z",
     "iopub.status.idle": "2024-06-23T07:23:14.824315Z",
     "shell.execute_reply": "2024-06-23T07:23:14.823468Z"
    },
    "papermill": {
     "duration": 0.07218,
     "end_time": "2024-06-23T07:23:14.826117",
     "exception": false,
     "start_time": "2024-06-23T07:23:14.753937",
     "status": "completed"
    },
    "tags": []
   },
   "outputs": [
    {
     "data": {
      "text/html": [
       "<pre style=\"white-space:pre;overflow-x:auto;line-height:normal;font-family:Menlo,'DejaVu Sans Mono',consolas,'Courier New',monospace\"><span style=\"font-weight: bold\">Model: \"functional_2\"</span>\n",
       "</pre>\n"
      ],
      "text/plain": [
       "\u001b[1mModel: \"functional_2\"\u001b[0m\n"
      ]
     },
     "metadata": {},
     "output_type": "display_data"
    },
    {
     "data": {
      "text/html": [
       "<pre style=\"white-space:pre;overflow-x:auto;line-height:normal;font-family:Menlo,'DejaVu Sans Mono',consolas,'Courier New',monospace\">┏━━━━━━━━━━━━━━━━━━━━━━━━━━━━━━━━━┳━━━━━━━━━━━━━━━━━━━━━━━━┳━━━━━━━━━━━━━━━┓\n",
       "┃<span style=\"font-weight: bold\"> Layer (type)                    </span>┃<span style=\"font-weight: bold\"> Output Shape           </span>┃<span style=\"font-weight: bold\">       Param # </span>┃\n",
       "┡━━━━━━━━━━━━━━━━━━━━━━━━━━━━━━━━━╇━━━━━━━━━━━━━━━━━━━━━━━━╇━━━━━━━━━━━━━━━┩\n",
       "│ input_layer_1 (<span style=\"color: #0087ff; text-decoration-color: #0087ff\">InputLayer</span>)      │ (<span style=\"color: #00d7ff; text-decoration-color: #00d7ff\">None</span>, <span style=\"color: #00af00; text-decoration-color: #00af00\">224</span>, <span style=\"color: #00af00; text-decoration-color: #00af00\">224</span>, <span style=\"color: #00af00; text-decoration-color: #00af00\">3</span>)    │             <span style=\"color: #00af00; text-decoration-color: #00af00\">0</span> │\n",
       "├─────────────────────────────────┼────────────────────────┼───────────────┤\n",
       "│ efficientnetv2-m (<span style=\"color: #0087ff; text-decoration-color: #0087ff\">Functional</span>)   │ (<span style=\"color: #00d7ff; text-decoration-color: #00d7ff\">None</span>, <span style=\"color: #00af00; text-decoration-color: #00af00\">7</span>, <span style=\"color: #00af00; text-decoration-color: #00af00\">7</span>, <span style=\"color: #00af00; text-decoration-color: #00af00\">1280</span>)     │    <span style=\"color: #00af00; text-decoration-color: #00af00\">53,150,388</span> │\n",
       "├─────────────────────────────────┼────────────────────────┼───────────────┤\n",
       "│ global_average_pooling2d        │ (<span style=\"color: #00d7ff; text-decoration-color: #00d7ff\">None</span>, <span style=\"color: #00af00; text-decoration-color: #00af00\">1280</span>)           │             <span style=\"color: #00af00; text-decoration-color: #00af00\">0</span> │\n",
       "│ (<span style=\"color: #0087ff; text-decoration-color: #0087ff\">GlobalAveragePooling2D</span>)        │                        │               │\n",
       "├─────────────────────────────────┼────────────────────────┼───────────────┤\n",
       "│ batch_normalization             │ (<span style=\"color: #00d7ff; text-decoration-color: #00d7ff\">None</span>, <span style=\"color: #00af00; text-decoration-color: #00af00\">1280</span>)           │         <span style=\"color: #00af00; text-decoration-color: #00af00\">5,120</span> │\n",
       "│ (<span style=\"color: #0087ff; text-decoration-color: #0087ff\">BatchNormalization</span>)            │                        │               │\n",
       "└─────────────────────────────────┴────────────────────────┴───────────────┘\n",
       "</pre>\n"
      ],
      "text/plain": [
       "┏━━━━━━━━━━━━━━━━━━━━━━━━━━━━━━━━━┳━━━━━━━━━━━━━━━━━━━━━━━━┳━━━━━━━━━━━━━━━┓\n",
       "┃\u001b[1m \u001b[0m\u001b[1mLayer (type)                   \u001b[0m\u001b[1m \u001b[0m┃\u001b[1m \u001b[0m\u001b[1mOutput Shape          \u001b[0m\u001b[1m \u001b[0m┃\u001b[1m \u001b[0m\u001b[1m      Param #\u001b[0m\u001b[1m \u001b[0m┃\n",
       "┡━━━━━━━━━━━━━━━━━━━━━━━━━━━━━━━━━╇━━━━━━━━━━━━━━━━━━━━━━━━╇━━━━━━━━━━━━━━━┩\n",
       "│ input_layer_1 (\u001b[38;5;33mInputLayer\u001b[0m)      │ (\u001b[38;5;45mNone\u001b[0m, \u001b[38;5;34m224\u001b[0m, \u001b[38;5;34m224\u001b[0m, \u001b[38;5;34m3\u001b[0m)    │             \u001b[38;5;34m0\u001b[0m │\n",
       "├─────────────────────────────────┼────────────────────────┼───────────────┤\n",
       "│ efficientnetv2-m (\u001b[38;5;33mFunctional\u001b[0m)   │ (\u001b[38;5;45mNone\u001b[0m, \u001b[38;5;34m7\u001b[0m, \u001b[38;5;34m7\u001b[0m, \u001b[38;5;34m1280\u001b[0m)     │    \u001b[38;5;34m53,150,388\u001b[0m │\n",
       "├─────────────────────────────────┼────────────────────────┼───────────────┤\n",
       "│ global_average_pooling2d        │ (\u001b[38;5;45mNone\u001b[0m, \u001b[38;5;34m1280\u001b[0m)           │             \u001b[38;5;34m0\u001b[0m │\n",
       "│ (\u001b[38;5;33mGlobalAveragePooling2D\u001b[0m)        │                        │               │\n",
       "├─────────────────────────────────┼────────────────────────┼───────────────┤\n",
       "│ batch_normalization             │ (\u001b[38;5;45mNone\u001b[0m, \u001b[38;5;34m1280\u001b[0m)           │         \u001b[38;5;34m5,120\u001b[0m │\n",
       "│ (\u001b[38;5;33mBatchNormalization\u001b[0m)            │                        │               │\n",
       "└─────────────────────────────────┴────────────────────────┴───────────────┘\n"
      ]
     },
     "metadata": {},
     "output_type": "display_data"
    },
    {
     "data": {
      "text/html": [
       "<pre style=\"white-space:pre;overflow-x:auto;line-height:normal;font-family:Menlo,'DejaVu Sans Mono',consolas,'Courier New',monospace\"><span style=\"font-weight: bold\"> Total params: </span><span style=\"color: #00af00; text-decoration-color: #00af00\">53,155,508</span> (202.77 MB)\n",
       "</pre>\n"
      ],
      "text/plain": [
       "\u001b[1m Total params: \u001b[0m\u001b[38;5;34m53,155,508\u001b[0m (202.77 MB)\n"
      ]
     },
     "metadata": {},
     "output_type": "display_data"
    },
    {
     "data": {
      "text/html": [
       "<pre style=\"white-space:pre;overflow-x:auto;line-height:normal;font-family:Menlo,'DejaVu Sans Mono',consolas,'Courier New',monospace\"><span style=\"font-weight: bold\"> Trainable params: </span><span style=\"color: #00af00; text-decoration-color: #00af00\">52,860,916</span> (201.65 MB)\n",
       "</pre>\n"
      ],
      "text/plain": [
       "\u001b[1m Trainable params: \u001b[0m\u001b[38;5;34m52,860,916\u001b[0m (201.65 MB)\n"
      ]
     },
     "metadata": {},
     "output_type": "display_data"
    },
    {
     "data": {
      "text/html": [
       "<pre style=\"white-space:pre;overflow-x:auto;line-height:normal;font-family:Menlo,'DejaVu Sans Mono',consolas,'Courier New',monospace\"><span style=\"font-weight: bold\"> Non-trainable params: </span><span style=\"color: #00af00; text-decoration-color: #00af00\">294,592</span> (1.12 MB)\n",
       "</pre>\n"
      ],
      "text/plain": [
       "\u001b[1m Non-trainable params: \u001b[0m\u001b[38;5;34m294,592\u001b[0m (1.12 MB)\n"
      ]
     },
     "metadata": {},
     "output_type": "display_data"
    }
   ],
   "source": [
    "feature_extractor.summary()"
   ]
  },
  {
   "cell_type": "code",
   "execution_count": 13,
   "id": "8d077c88",
   "metadata": {
    "execution": {
     "iopub.execute_input": "2024-06-23T07:23:14.870133Z",
     "iopub.status.busy": "2024-06-23T07:23:14.869371Z",
     "iopub.status.idle": "2024-06-23T07:56:43.852457Z",
     "shell.execute_reply": "2024-06-23T07:56:43.851423Z"
    },
    "papermill": {
     "duration": 2009.007792,
     "end_time": "2024-06-23T07:56:43.855223",
     "exception": false,
     "start_time": "2024-06-23T07:23:14.847431",
     "status": "completed"
    },
    "tags": []
   },
   "outputs": [
    {
     "name": "stderr",
     "output_type": "stream",
     "text": [
      "Processing Videos:   0%|          | 0/287 [00:00<?, ?it/s]WARNING: All log messages before absl::InitializeLog() is called are written to STDERR\n",
      "I0000 00:00:1719127413.206170      66 device_compiler.h:186] Compiled cluster using XLA!  This line is logged at most once for the lifetime of the process.\n",
      "Processing Videos: 100%|██████████| 287/287 [26:58<00:00,  5.64s/it]\n",
      "Processing Videos: 100%|██████████| 72/72 [06:30<00:00,  5.43s/it]"
     ]
    },
    {
     "name": "stdout",
     "output_type": "stream",
     "text": [
      "Frame features in train set: (287, 64, 1280)\n",
      "Frame masks in train set: (287, 64)\n"
     ]
    },
    {
     "name": "stderr",
     "output_type": "stream",
     "text": [
      "\n"
     ]
    }
   ],
   "source": [
    "def prepare_all_videos(df):\n",
    "    num_samples = len(df)\n",
    "    video_paths = df[\"file_name\"].values.tolist()\n",
    "    labels = df[\"risk\"].values\n",
    "\n",
    "    # `frame_masks` and `frame_features` are what we will feed to our sequence model.\n",
    "    # `frame_masks` will contain a bunch of booleans denoting if a timestep is\n",
    "    # masked with padding or not.\n",
    "    frame_masks = np.zeros(shape=(num_samples, MAX_SEQ_LENGTH), dtype=\"bool\")\n",
    "    frame_features = np.zeros(\n",
    "        shape=(num_samples, MAX_SEQ_LENGTH, NUM_FEATURES), dtype=\"float32\"\n",
    "    )\n",
    "\n",
    "    # For each video.\n",
    "    for idx, path in enumerate(tqdm(video_paths, desc='Processing Videos')):\n",
    "        # Gather all its frames and add a batch dimension.\n",
    "        frames = read_frames_from_folder(path)\n",
    "        frames = frames[None, ...]\n",
    "\n",
    "        # Initialize placeholders to store the masks and features of the current video.\n",
    "        temp_frame_mask = np.zeros(\n",
    "            shape=(\n",
    "                1,\n",
    "                MAX_SEQ_LENGTH,\n",
    "            ),\n",
    "            dtype=\"bool\",\n",
    "        )\n",
    "        temp_frame_features = np.zeros(\n",
    "            shape=(1, MAX_SEQ_LENGTH, NUM_FEATURES), dtype=\"float32\"\n",
    "        )\n",
    "        \n",
    "        # Extract features from the frames of the current video.\n",
    "        for i, batch in enumerate(frames):\n",
    "            video_length = batch.shape[0]\n",
    "            length = min(MAX_SEQ_LENGTH, video_length)\n",
    "            for j in range(length):\n",
    "                temp_frame_features[i, j, :] = feature_extractor.predict(\n",
    "                    batch[None, j, :], verbose=0,\n",
    "                )\n",
    "            temp_frame_mask[i, :length] = 1  # 1 = not masked, 0 = masked\n",
    "\n",
    "        frame_features[idx,] = temp_frame_features.squeeze()\n",
    "        frame_masks[idx,] = temp_frame_mask.squeeze()\n",
    "\n",
    "    return (frame_features, frame_masks), labels\n",
    "\n",
    "\n",
    "train_data, train_labels = prepare_all_videos(train_df)\n",
    "test_data, test_labels = prepare_all_videos(val_df)\n",
    "\n",
    "print(f\"Frame features in train set: {train_data[0].shape}\")\n",
    "print(f\"Frame masks in train set: {train_data[1].shape}\")"
   ]
  },
  {
   "cell_type": "code",
   "execution_count": 14,
   "id": "91514066",
   "metadata": {
    "execution": {
     "iopub.execute_input": "2024-06-23T07:56:43.956838Z",
     "iopub.status.busy": "2024-06-23T07:56:43.956098Z",
     "iopub.status.idle": "2024-06-23T07:56:43.963595Z",
     "shell.execute_reply": "2024-06-23T07:56:43.962708Z"
    },
    "papermill": {
     "duration": 0.060429,
     "end_time": "2024-06-23T07:56:43.965561",
     "exception": false,
     "start_time": "2024-06-23T07:56:43.905132",
     "status": "completed"
    },
    "tags": []
   },
   "outputs": [],
   "source": [
    "# Utility for our sequence model.\n",
    "def get_sequence_model():\n",
    "    class_vocab = np.unique(train_labels)\n",
    "\n",
    "    frame_features_input = keras.Input((MAX_SEQ_LENGTH, NUM_FEATURES))\n",
    "    mask_input = keras.Input((MAX_SEQ_LENGTH,), dtype=\"bool\")\n",
    "\n",
    "    # Refer to the following tutorial to understand the significance of using `mask`:\n",
    "    # https://keras.io/api/layers/recurrent_layers/gru/\n",
    "    x = keras.layers.GRU(16, return_sequences=True)(\n",
    "        frame_features_input, mask=mask_input\n",
    "    )\n",
    "    x = keras.layers.GRU(8)(x)\n",
    "    x = keras.layers.Dropout(0.4)(x)\n",
    "    x = keras.layers.Dense(8, activation=\"relu\")(x)\n",
    "    output = keras.layers.Dense(len(class_vocab), activation=\"softmax\")(x)\n",
    "\n",
    "    rnn_model = keras.Model([frame_features_input, mask_input], output)\n",
    "\n",
    "    rnn_model.compile(\n",
    "        loss=\"sparse_categorical_crossentropy\", optimizer=\"adam\", metrics=[\"accuracy\"]\n",
    "    )\n",
    "    return rnn_model"
   ]
  },
  {
   "cell_type": "code",
   "execution_count": 15,
   "id": "27149642",
   "metadata": {
    "execution": {
     "iopub.execute_input": "2024-06-23T07:56:44.066782Z",
     "iopub.status.busy": "2024-06-23T07:56:44.066469Z",
     "iopub.status.idle": "2024-06-23T07:56:44.332001Z",
     "shell.execute_reply": "2024-06-23T07:56:44.331117Z"
    },
    "papermill": {
     "duration": 0.317563,
     "end_time": "2024-06-23T07:56:44.333911",
     "exception": false,
     "start_time": "2024-06-23T07:56:44.016348",
     "status": "completed"
    },
    "tags": []
   },
   "outputs": [
    {
     "data": {
      "text/html": [
       "<pre style=\"white-space:pre;overflow-x:auto;line-height:normal;font-family:Menlo,'DejaVu Sans Mono',consolas,'Courier New',monospace\"><span style=\"font-weight: bold\">Model: \"functional_4\"</span>\n",
       "</pre>\n"
      ],
      "text/plain": [
       "\u001b[1mModel: \"functional_4\"\u001b[0m\n"
      ]
     },
     "metadata": {},
     "output_type": "display_data"
    },
    {
     "data": {
      "text/html": [
       "<pre style=\"white-space:pre;overflow-x:auto;line-height:normal;font-family:Menlo,'DejaVu Sans Mono',consolas,'Courier New',monospace\">┏━━━━━━━━━━━━━━━━━━━━━┳━━━━━━━━━━━━━━━━━━━┳━━━━━━━━━━━━┳━━━━━━━━━━━━━━━━━━━┓\n",
       "┃<span style=\"font-weight: bold\"> Layer (type)        </span>┃<span style=\"font-weight: bold\"> Output Shape      </span>┃<span style=\"font-weight: bold\">    Param # </span>┃<span style=\"font-weight: bold\"> Connected to      </span>┃\n",
       "┡━━━━━━━━━━━━━━━━━━━━━╇━━━━━━━━━━━━━━━━━━━╇━━━━━━━━━━━━╇━━━━━━━━━━━━━━━━━━━┩\n",
       "│ input_layer_2       │ (<span style=\"color: #00d7ff; text-decoration-color: #00d7ff\">None</span>, <span style=\"color: #00af00; text-decoration-color: #00af00\">64</span>, <span style=\"color: #00af00; text-decoration-color: #00af00\">1280</span>)  │          <span style=\"color: #00af00; text-decoration-color: #00af00\">0</span> │ -                 │\n",
       "│ (<span style=\"color: #0087ff; text-decoration-color: #0087ff\">InputLayer</span>)        │                   │            │                   │\n",
       "├─────────────────────┼───────────────────┼────────────┼───────────────────┤\n",
       "│ input_layer_3       │ (<span style=\"color: #00d7ff; text-decoration-color: #00d7ff\">None</span>, <span style=\"color: #00af00; text-decoration-color: #00af00\">64</span>)        │          <span style=\"color: #00af00; text-decoration-color: #00af00\">0</span> │ -                 │\n",
       "│ (<span style=\"color: #0087ff; text-decoration-color: #0087ff\">InputLayer</span>)        │                   │            │                   │\n",
       "├─────────────────────┼───────────────────┼────────────┼───────────────────┤\n",
       "│ gru (<span style=\"color: #0087ff; text-decoration-color: #0087ff\">GRU</span>)           │ (<span style=\"color: #00d7ff; text-decoration-color: #00d7ff\">None</span>, <span style=\"color: #00af00; text-decoration-color: #00af00\">64</span>, <span style=\"color: #00af00; text-decoration-color: #00af00\">16</span>)    │     <span style=\"color: #00af00; text-decoration-color: #00af00\">62,304</span> │ input_layer_2[<span style=\"color: #00af00; text-decoration-color: #00af00\">0</span>]… │\n",
       "│                     │                   │            │ input_layer_3[<span style=\"color: #00af00; text-decoration-color: #00af00\">0</span>]… │\n",
       "├─────────────────────┼───────────────────┼────────────┼───────────────────┤\n",
       "│ gru_1 (<span style=\"color: #0087ff; text-decoration-color: #0087ff\">GRU</span>)         │ (<span style=\"color: #00d7ff; text-decoration-color: #00d7ff\">None</span>, <span style=\"color: #00af00; text-decoration-color: #00af00\">8</span>)         │        <span style=\"color: #00af00; text-decoration-color: #00af00\">624</span> │ gru[<span style=\"color: #00af00; text-decoration-color: #00af00\">0</span>][<span style=\"color: #00af00; text-decoration-color: #00af00\">0</span>]         │\n",
       "├─────────────────────┼───────────────────┼────────────┼───────────────────┤\n",
       "│ dropout_1 (<span style=\"color: #0087ff; text-decoration-color: #0087ff\">Dropout</span>) │ (<span style=\"color: #00d7ff; text-decoration-color: #00d7ff\">None</span>, <span style=\"color: #00af00; text-decoration-color: #00af00\">8</span>)         │          <span style=\"color: #00af00; text-decoration-color: #00af00\">0</span> │ gru_1[<span style=\"color: #00af00; text-decoration-color: #00af00\">0</span>][<span style=\"color: #00af00; text-decoration-color: #00af00\">0</span>]       │\n",
       "├─────────────────────┼───────────────────┼────────────┼───────────────────┤\n",
       "│ dense_2 (<span style=\"color: #0087ff; text-decoration-color: #0087ff\">Dense</span>)     │ (<span style=\"color: #00d7ff; text-decoration-color: #00d7ff\">None</span>, <span style=\"color: #00af00; text-decoration-color: #00af00\">8</span>)         │         <span style=\"color: #00af00; text-decoration-color: #00af00\">72</span> │ dropout_1[<span style=\"color: #00af00; text-decoration-color: #00af00\">0</span>][<span style=\"color: #00af00; text-decoration-color: #00af00\">0</span>]   │\n",
       "├─────────────────────┼───────────────────┼────────────┼───────────────────┤\n",
       "│ dense_3 (<span style=\"color: #0087ff; text-decoration-color: #0087ff\">Dense</span>)     │ (<span style=\"color: #00d7ff; text-decoration-color: #00d7ff\">None</span>, <span style=\"color: #00af00; text-decoration-color: #00af00\">2</span>)         │         <span style=\"color: #00af00; text-decoration-color: #00af00\">18</span> │ dense_2[<span style=\"color: #00af00; text-decoration-color: #00af00\">0</span>][<span style=\"color: #00af00; text-decoration-color: #00af00\">0</span>]     │\n",
       "└─────────────────────┴───────────────────┴────────────┴───────────────────┘\n",
       "</pre>\n"
      ],
      "text/plain": [
       "┏━━━━━━━━━━━━━━━━━━━━━┳━━━━━━━━━━━━━━━━━━━┳━━━━━━━━━━━━┳━━━━━━━━━━━━━━━━━━━┓\n",
       "┃\u001b[1m \u001b[0m\u001b[1mLayer (type)       \u001b[0m\u001b[1m \u001b[0m┃\u001b[1m \u001b[0m\u001b[1mOutput Shape     \u001b[0m\u001b[1m \u001b[0m┃\u001b[1m \u001b[0m\u001b[1m   Param #\u001b[0m\u001b[1m \u001b[0m┃\u001b[1m \u001b[0m\u001b[1mConnected to     \u001b[0m\u001b[1m \u001b[0m┃\n",
       "┡━━━━━━━━━━━━━━━━━━━━━╇━━━━━━━━━━━━━━━━━━━╇━━━━━━━━━━━━╇━━━━━━━━━━━━━━━━━━━┩\n",
       "│ input_layer_2       │ (\u001b[38;5;45mNone\u001b[0m, \u001b[38;5;34m64\u001b[0m, \u001b[38;5;34m1280\u001b[0m)  │          \u001b[38;5;34m0\u001b[0m │ -                 │\n",
       "│ (\u001b[38;5;33mInputLayer\u001b[0m)        │                   │            │                   │\n",
       "├─────────────────────┼───────────────────┼────────────┼───────────────────┤\n",
       "│ input_layer_3       │ (\u001b[38;5;45mNone\u001b[0m, \u001b[38;5;34m64\u001b[0m)        │          \u001b[38;5;34m0\u001b[0m │ -                 │\n",
       "│ (\u001b[38;5;33mInputLayer\u001b[0m)        │                   │            │                   │\n",
       "├─────────────────────┼───────────────────┼────────────┼───────────────────┤\n",
       "│ gru (\u001b[38;5;33mGRU\u001b[0m)           │ (\u001b[38;5;45mNone\u001b[0m, \u001b[38;5;34m64\u001b[0m, \u001b[38;5;34m16\u001b[0m)    │     \u001b[38;5;34m62,304\u001b[0m │ input_layer_2[\u001b[38;5;34m0\u001b[0m]… │\n",
       "│                     │                   │            │ input_layer_3[\u001b[38;5;34m0\u001b[0m]… │\n",
       "├─────────────────────┼───────────────────┼────────────┼───────────────────┤\n",
       "│ gru_1 (\u001b[38;5;33mGRU\u001b[0m)         │ (\u001b[38;5;45mNone\u001b[0m, \u001b[38;5;34m8\u001b[0m)         │        \u001b[38;5;34m624\u001b[0m │ gru[\u001b[38;5;34m0\u001b[0m][\u001b[38;5;34m0\u001b[0m]         │\n",
       "├─────────────────────┼───────────────────┼────────────┼───────────────────┤\n",
       "│ dropout_1 (\u001b[38;5;33mDropout\u001b[0m) │ (\u001b[38;5;45mNone\u001b[0m, \u001b[38;5;34m8\u001b[0m)         │          \u001b[38;5;34m0\u001b[0m │ gru_1[\u001b[38;5;34m0\u001b[0m][\u001b[38;5;34m0\u001b[0m]       │\n",
       "├─────────────────────┼───────────────────┼────────────┼───────────────────┤\n",
       "│ dense_2 (\u001b[38;5;33mDense\u001b[0m)     │ (\u001b[38;5;45mNone\u001b[0m, \u001b[38;5;34m8\u001b[0m)         │         \u001b[38;5;34m72\u001b[0m │ dropout_1[\u001b[38;5;34m0\u001b[0m][\u001b[38;5;34m0\u001b[0m]   │\n",
       "├─────────────────────┼───────────────────┼────────────┼───────────────────┤\n",
       "│ dense_3 (\u001b[38;5;33mDense\u001b[0m)     │ (\u001b[38;5;45mNone\u001b[0m, \u001b[38;5;34m2\u001b[0m)         │         \u001b[38;5;34m18\u001b[0m │ dense_2[\u001b[38;5;34m0\u001b[0m][\u001b[38;5;34m0\u001b[0m]     │\n",
       "└─────────────────────┴───────────────────┴────────────┴───────────────────┘\n"
      ]
     },
     "metadata": {},
     "output_type": "display_data"
    },
    {
     "data": {
      "text/html": [
       "<pre style=\"white-space:pre;overflow-x:auto;line-height:normal;font-family:Menlo,'DejaVu Sans Mono',consolas,'Courier New',monospace\"><span style=\"font-weight: bold\"> Total params: </span><span style=\"color: #00af00; text-decoration-color: #00af00\">63,018</span> (246.16 KB)\n",
       "</pre>\n"
      ],
      "text/plain": [
       "\u001b[1m Total params: \u001b[0m\u001b[38;5;34m63,018\u001b[0m (246.16 KB)\n"
      ]
     },
     "metadata": {},
     "output_type": "display_data"
    },
    {
     "data": {
      "text/html": [
       "<pre style=\"white-space:pre;overflow-x:auto;line-height:normal;font-family:Menlo,'DejaVu Sans Mono',consolas,'Courier New',monospace\"><span style=\"font-weight: bold\"> Trainable params: </span><span style=\"color: #00af00; text-decoration-color: #00af00\">63,018</span> (246.16 KB)\n",
       "</pre>\n"
      ],
      "text/plain": [
       "\u001b[1m Trainable params: \u001b[0m\u001b[38;5;34m63,018\u001b[0m (246.16 KB)\n"
      ]
     },
     "metadata": {},
     "output_type": "display_data"
    },
    {
     "data": {
      "text/html": [
       "<pre style=\"white-space:pre;overflow-x:auto;line-height:normal;font-family:Menlo,'DejaVu Sans Mono',consolas,'Courier New',monospace\"><span style=\"font-weight: bold\"> Non-trainable params: </span><span style=\"color: #00af00; text-decoration-color: #00af00\">0</span> (0.00 B)\n",
       "</pre>\n"
      ],
      "text/plain": [
       "\u001b[1m Non-trainable params: \u001b[0m\u001b[38;5;34m0\u001b[0m (0.00 B)\n"
      ]
     },
     "metadata": {},
     "output_type": "display_data"
    }
   ],
   "source": [
    "model = get_sequence_model()\n",
    "model.summary()"
   ]
  },
  {
   "cell_type": "markdown",
   "id": "1e4e7e7f",
   "metadata": {
    "papermill": {
     "duration": 0.050178,
     "end_time": "2024-06-23T07:56:44.435771",
     "exception": false,
     "start_time": "2024-06-23T07:56:44.385593",
     "status": "completed"
    },
    "tags": []
   },
   "source": [
    "## Optimize & Compile"
   ]
  },
  {
   "cell_type": "code",
   "execution_count": 16,
   "id": "51c20cd5",
   "metadata": {
    "execution": {
     "iopub.execute_input": "2024-06-23T07:56:44.537949Z",
     "iopub.status.busy": "2024-06-23T07:56:44.537332Z",
     "iopub.status.idle": "2024-06-23T07:56:44.543113Z",
     "shell.execute_reply": "2024-06-23T07:56:44.542253Z"
    },
    "papermill": {
     "duration": 0.058712,
     "end_time": "2024-06-23T07:56:44.545099",
     "exception": false,
     "start_time": "2024-06-23T07:56:44.486387",
     "status": "completed"
    },
    "tags": []
   },
   "outputs": [],
   "source": [
    "# ModelCheckpoint callback - to save best model from every training\n",
    "checkpoint = keras.callbacks.ModelCheckpoint(\"best_model.keras\", \n",
    "                                                save_best_only=True, \n",
    "                                                save_weights_only=False,\n",
    "                                                verbose=1,\n",
    "                                                monitor='val_loss', \n",
    "                                                mode='min')\n",
    "\n",
    "learning_rate_reduction= keras.callbacks.ReduceLROnPlateau(monitor='loss',patience=2,verbose=1,factor=0.1,min_lr=0.0000000001) \n",
    "\n",
    "callbacks = [checkpoint, learning_rate_reduction]"
   ]
  },
  {
   "cell_type": "code",
   "execution_count": 17,
   "id": "0bfdb8c8",
   "metadata": {
    "execution": {
     "iopub.execute_input": "2024-06-23T07:56:44.647067Z",
     "iopub.status.busy": "2024-06-23T07:56:44.646433Z",
     "iopub.status.idle": "2024-06-23T07:56:44.650857Z",
     "shell.execute_reply": "2024-06-23T07:56:44.649925Z"
    },
    "papermill": {
     "duration": 0.057745,
     "end_time": "2024-06-23T07:56:44.652850",
     "exception": false,
     "start_time": "2024-06-23T07:56:44.595105",
     "status": "completed"
    },
    "tags": []
   },
   "outputs": [],
   "source": [
    "# model.compile(\n",
    "#     optimizer=keras.optimizers.Adam(learning_rate=2e-3, weight_decay=None),\n",
    "#     loss=keras.losses.SparseCategoricalCrossentropy(from_logits=True),\n",
    "#     metrics=[\n",
    "#         keras.metrics.SparseCategoricalAccuracy(name=\"accuracy\"),\n",
    "#     ],\n",
    "# )"
   ]
  },
  {
   "cell_type": "markdown",
   "id": "8469e0b8",
   "metadata": {
    "papermill": {
     "duration": 0.049697,
     "end_time": "2024-06-23T07:56:44.752323",
     "exception": false,
     "start_time": "2024-06-23T07:56:44.702626",
     "status": "completed"
    },
    "tags": []
   },
   "source": [
    "## Train Model"
   ]
  },
  {
   "cell_type": "code",
   "execution_count": 18,
   "id": "00f51fe4",
   "metadata": {
    "execution": {
     "iopub.execute_input": "2024-06-23T07:56:44.854876Z",
     "iopub.status.busy": "2024-06-23T07:56:44.854471Z",
     "iopub.status.idle": "2024-06-23T07:56:54.924123Z",
     "shell.execute_reply": "2024-06-23T07:56:54.923282Z"
    },
    "papermill": {
     "duration": 10.123502,
     "end_time": "2024-06-23T07:56:54.926286",
     "exception": false,
     "start_time": "2024-06-23T07:56:44.802784",
     "status": "completed"
    },
    "tags": []
   },
   "outputs": [
    {
     "name": "stdout",
     "output_type": "stream",
     "text": [
      "Epoch 1/30\n",
      "\u001b[1m5/9\u001b[0m \u001b[32m━━━━━━━━━━━\u001b[0m\u001b[37m━━━━━━━━━\u001b[0m \u001b[1m0s\u001b[0m 14ms/step - accuracy: 0.7103 - loss: 0.6092\n",
      "Epoch 1: val_loss improved from inf to 0.69441, saving model to best_model.keras\n",
      "\u001b[1m9/9\u001b[0m \u001b[32m━━━━━━━━━━━━━━━━━━━━\u001b[0m\u001b[37m\u001b[0m \u001b[1m5s\u001b[0m 62ms/step - accuracy: 0.7612 - loss: 0.5668 - val_accuracy: 0.6250 - val_loss: 0.6944 - learning_rate: 0.0010\n",
      "Epoch 2/30\n",
      "\u001b[1m6/9\u001b[0m \u001b[32m━━━━━━━━━━━━━\u001b[0m\u001b[37m━━━━━━━\u001b[0m \u001b[1m0s\u001b[0m 11ms/step - accuracy: 0.9136 - loss: 0.3935\n",
      "Epoch 2: val_loss did not improve from 0.69441\n",
      "\u001b[1m9/9\u001b[0m \u001b[32m━━━━━━━━━━━━━━━━━━━━\u001b[0m\u001b[37m\u001b[0m \u001b[1m0s\u001b[0m 17ms/step - accuracy: 0.9181 - loss: 0.3840 - val_accuracy: 0.6528 - val_loss: 0.7141 - learning_rate: 0.0010\n",
      "Epoch 3/30\n",
      "\u001b[1m6/9\u001b[0m \u001b[32m━━━━━━━━━━━━━\u001b[0m\u001b[37m━━━━━━━\u001b[0m \u001b[1m0s\u001b[0m 11ms/step - accuracy: 0.9654 - loss: 0.3088\n",
      "Epoch 3: val_loss did not improve from 0.69441\n",
      "\u001b[1m9/9\u001b[0m \u001b[32m━━━━━━━━━━━━━━━━━━━━\u001b[0m\u001b[37m\u001b[0m \u001b[1m0s\u001b[0m 17ms/step - accuracy: 0.9548 - loss: 0.3089 - val_accuracy: 0.6667 - val_loss: 0.7339 - learning_rate: 0.0010\n",
      "Epoch 4/30\n",
      "\u001b[1m6/9\u001b[0m \u001b[32m━━━━━━━━━━━━━\u001b[0m\u001b[37m━━━━━━━\u001b[0m \u001b[1m0s\u001b[0m 11ms/step - accuracy: 0.9412 - loss: 0.2939\n",
      "Epoch 4: val_loss did not improve from 0.69441\n",
      "\u001b[1m9/9\u001b[0m \u001b[32m━━━━━━━━━━━━━━━━━━━━\u001b[0m\u001b[37m\u001b[0m \u001b[1m0s\u001b[0m 17ms/step - accuracy: 0.9382 - loss: 0.2904 - val_accuracy: 0.6667 - val_loss: 0.7568 - learning_rate: 0.0010\n",
      "Epoch 5/30\n",
      "\u001b[1m6/9\u001b[0m \u001b[32m━━━━━━━━━━━━━\u001b[0m\u001b[37m━━━━━━━\u001b[0m \u001b[1m0s\u001b[0m 12ms/step - accuracy: 0.9502 - loss: 0.2626\n",
      "Epoch 5: val_loss did not improve from 0.69441\n",
      "\u001b[1m9/9\u001b[0m \u001b[32m━━━━━━━━━━━━━━━━━━━━\u001b[0m\u001b[37m\u001b[0m \u001b[1m0s\u001b[0m 17ms/step - accuracy: 0.9461 - loss: 0.2589 - val_accuracy: 0.6667 - val_loss: 0.7820 - learning_rate: 0.0010\n",
      "Epoch 6/30\n",
      "\u001b[1m6/9\u001b[0m \u001b[32m━━━━━━━━━━━━━\u001b[0m\u001b[37m━━━━━━━\u001b[0m \u001b[1m0s\u001b[0m 11ms/step - accuracy: 0.9135 - loss: 0.2570\n",
      "Epoch 6: val_loss did not improve from 0.69441\n",
      "\u001b[1m9/9\u001b[0m \u001b[32m━━━━━━━━━━━━━━━━━━━━\u001b[0m\u001b[37m\u001b[0m \u001b[1m0s\u001b[0m 16ms/step - accuracy: 0.9193 - loss: 0.2483 - val_accuracy: 0.6667 - val_loss: 0.8070 - learning_rate: 0.0010\n",
      "Epoch 7/30\n",
      "\u001b[1m6/9\u001b[0m \u001b[32m━━━━━━━━━━━━━\u001b[0m\u001b[37m━━━━━━━\u001b[0m \u001b[1m0s\u001b[0m 11ms/step - accuracy: 0.9317 - loss: 0.2107\n",
      "Epoch 7: val_loss did not improve from 0.69441\n",
      "\u001b[1m9/9\u001b[0m \u001b[32m━━━━━━━━━━━━━━━━━━━━\u001b[0m\u001b[37m\u001b[0m \u001b[1m0s\u001b[0m 16ms/step - accuracy: 0.9316 - loss: 0.2165 - val_accuracy: 0.6667 - val_loss: 0.8325 - learning_rate: 0.0010\n",
      "Epoch 8/30\n",
      "\u001b[1m6/9\u001b[0m \u001b[32m━━━━━━━━━━━━━\u001b[0m\u001b[37m━━━━━━━\u001b[0m \u001b[1m0s\u001b[0m 12ms/step - accuracy: 0.9376 - loss: 0.2023\n",
      "Epoch 8: val_loss did not improve from 0.69441\n",
      "\u001b[1m9/9\u001b[0m \u001b[32m━━━━━━━━━━━━━━━━━━━━\u001b[0m\u001b[37m\u001b[0m \u001b[1m0s\u001b[0m 17ms/step - accuracy: 0.9336 - loss: 0.2077 - val_accuracy: 0.6806 - val_loss: 0.8593 - learning_rate: 0.0010\n",
      "Epoch 9/30\n",
      "\u001b[1m6/9\u001b[0m \u001b[32m━━━━━━━━━━━━━\u001b[0m\u001b[37m━━━━━━━\u001b[0m \u001b[1m0s\u001b[0m 11ms/step - accuracy: 0.9395 - loss: 0.1968\n",
      "Epoch 9: val_loss did not improve from 0.69441\n",
      "\u001b[1m9/9\u001b[0m \u001b[32m━━━━━━━━━━━━━━━━━━━━\u001b[0m\u001b[37m\u001b[0m \u001b[1m0s\u001b[0m 16ms/step - accuracy: 0.9360 - loss: 0.2015 - val_accuracy: 0.6806 - val_loss: 0.8857 - learning_rate: 0.0010\n",
      "Epoch 10/30\n",
      "\u001b[1m6/9\u001b[0m \u001b[32m━━━━━━━━━━━━━\u001b[0m\u001b[37m━━━━━━━\u001b[0m \u001b[1m0s\u001b[0m 11ms/step - accuracy: 0.9319 - loss: 0.2172\n",
      "Epoch 10: val_loss did not improve from 0.69441\n",
      "\u001b[1m9/9\u001b[0m \u001b[32m━━━━━━━━━━━━━━━━━━━━\u001b[0m\u001b[37m\u001b[0m \u001b[1m0s\u001b[0m 16ms/step - accuracy: 0.9322 - loss: 0.2114 - val_accuracy: 0.6806 - val_loss: 0.9138 - learning_rate: 0.0010\n",
      "Epoch 11/30\n",
      "\u001b[1m6/9\u001b[0m \u001b[32m━━━━━━━━━━━━━\u001b[0m\u001b[37m━━━━━━━\u001b[0m \u001b[1m0s\u001b[0m 12ms/step - accuracy: 0.9099 - loss: 0.2103\n",
      "Epoch 11: val_loss did not improve from 0.69441\n",
      "\u001b[1m9/9\u001b[0m \u001b[32m━━━━━━━━━━━━━━━━━━━━\u001b[0m\u001b[37m\u001b[0m \u001b[1m0s\u001b[0m 17ms/step - accuracy: 0.9179 - loss: 0.2021 - val_accuracy: 0.6806 - val_loss: 0.9407 - learning_rate: 0.0010\n",
      "Epoch 12/30\n",
      "\u001b[1m6/9\u001b[0m \u001b[32m━━━━━━━━━━━━━\u001b[0m\u001b[37m━━━━━━━\u001b[0m \u001b[1m0s\u001b[0m 11ms/step - accuracy: 0.9516 - loss: 0.1657\n",
      "Epoch 12: val_loss did not improve from 0.69441\n",
      "\u001b[1m9/9\u001b[0m \u001b[32m━━━━━━━━━━━━━━━━━━━━\u001b[0m\u001b[37m\u001b[0m \u001b[1m0s\u001b[0m 17ms/step - accuracy: 0.9449 - loss: 0.1732 - val_accuracy: 0.6806 - val_loss: 0.9675 - learning_rate: 0.0010\n",
      "Epoch 13/30\n",
      "\u001b[1m6/9\u001b[0m \u001b[32m━━━━━━━━━━━━━\u001b[0m\u001b[37m━━━━━━━\u001b[0m \u001b[1m0s\u001b[0m 12ms/step - accuracy: 0.9332 - loss: 0.1857\n",
      "Epoch 13: val_loss did not improve from 0.69441\n",
      "\u001b[1m9/9\u001b[0m \u001b[32m━━━━━━━━━━━━━━━━━━━━\u001b[0m\u001b[37m\u001b[0m \u001b[1m0s\u001b[0m 17ms/step - accuracy: 0.9338 - loss: 0.1824 - val_accuracy: 0.6806 - val_loss: 0.9917 - learning_rate: 0.0010\n",
      "Epoch 14/30\n",
      "\u001b[1m6/9\u001b[0m \u001b[32m━━━━━━━━━━━━━\u001b[0m\u001b[37m━━━━━━━\u001b[0m \u001b[1m0s\u001b[0m 11ms/step - accuracy: 0.9392 - loss: 0.1727\n",
      "Epoch 14: val_loss did not improve from 0.69441\n",
      "\u001b[1m9/9\u001b[0m \u001b[32m━━━━━━━━━━━━━━━━━━━━\u001b[0m\u001b[37m\u001b[0m \u001b[1m0s\u001b[0m 16ms/step - accuracy: 0.9370 - loss: 0.1741 - val_accuracy: 0.6806 - val_loss: 1.0175 - learning_rate: 0.0010\n",
      "Epoch 15/30\n",
      "\u001b[1m6/9\u001b[0m \u001b[32m━━━━━━━━━━━━━\u001b[0m\u001b[37m━━━━━━━\u001b[0m \u001b[1m0s\u001b[0m 11ms/step - accuracy: 0.9376 - loss: 0.1815\n",
      "Epoch 15: val_loss did not improve from 0.69441\n",
      "\u001b[1m9/9\u001b[0m \u001b[32m━━━━━━━━━━━━━━━━━━━━\u001b[0m\u001b[37m\u001b[0m \u001b[1m0s\u001b[0m 16ms/step - accuracy: 0.9377 - loss: 0.1800 - val_accuracy: 0.6667 - val_loss: 1.0412 - learning_rate: 0.0010\n",
      "Epoch 16/30\n",
      "\u001b[1m6/9\u001b[0m \u001b[32m━━━━━━━━━━━━━\u001b[0m\u001b[37m━━━━━━━\u001b[0m \u001b[1m0s\u001b[0m 12ms/step - accuracy: 0.9345 - loss: 0.1671\n",
      "Epoch 16: val_loss did not improve from 0.69441\n",
      "\u001b[1m9/9\u001b[0m \u001b[32m━━━━━━━━━━━━━━━━━━━━\u001b[0m\u001b[37m\u001b[0m \u001b[1m0s\u001b[0m 17ms/step - accuracy: 0.9324 - loss: 0.1722 - val_accuracy: 0.6667 - val_loss: 1.0656 - learning_rate: 0.0010\n",
      "Epoch 17/30\n",
      "\u001b[1m6/9\u001b[0m \u001b[32m━━━━━━━━━━━━━\u001b[0m\u001b[37m━━━━━━━\u001b[0m \u001b[1m0s\u001b[0m 11ms/step - accuracy: 0.9361 - loss: 0.1643\n",
      "Epoch 17: val_loss did not improve from 0.69441\n",
      "\u001b[1m9/9\u001b[0m \u001b[32m━━━━━━━━━━━━━━━━━━━━\u001b[0m\u001b[37m\u001b[0m \u001b[1m0s\u001b[0m 16ms/step - accuracy: 0.9343 - loss: 0.1695 - val_accuracy: 0.6667 - val_loss: 1.0873 - learning_rate: 0.0010\n",
      "Epoch 18/30\n",
      "\u001b[1m6/9\u001b[0m \u001b[32m━━━━━━━━━━━━━\u001b[0m\u001b[37m━━━━━━━\u001b[0m \u001b[1m0s\u001b[0m 10ms/step - accuracy: 0.9378 - loss: 0.1611\n",
      "Epoch 18: val_loss did not improve from 0.69441\n",
      "\n",
      "Epoch 18: ReduceLROnPlateau reducing learning rate to 0.00010000000474974513.\n",
      "\u001b[1m9/9\u001b[0m \u001b[32m━━━━━━━━━━━━━━━━━━━━\u001b[0m\u001b[37m\u001b[0m \u001b[1m0s\u001b[0m 17ms/step - accuracy: 0.9343 - loss: 0.1679 - val_accuracy: 0.6667 - val_loss: 1.1081 - learning_rate: 0.0010\n",
      "Epoch 19/30\n",
      "\u001b[1m6/9\u001b[0m \u001b[32m━━━━━━━━━━━━━\u001b[0m\u001b[37m━━━━━━━\u001b[0m \u001b[1m0s\u001b[0m 11ms/step - accuracy: 0.9294 - loss: 0.1631\n",
      "Epoch 19: val_loss did not improve from 0.69441\n",
      "\u001b[1m9/9\u001b[0m \u001b[32m━━━━━━━━━━━━━━━━━━━━\u001b[0m\u001b[37m\u001b[0m \u001b[1m0s\u001b[0m 17ms/step - accuracy: 0.9319 - loss: 0.1648 - val_accuracy: 0.6667 - val_loss: 1.1102 - learning_rate: 1.0000e-04\n",
      "Epoch 20/30\n",
      "\u001b[1m6/9\u001b[0m \u001b[32m━━━━━━━━━━━━━\u001b[0m\u001b[37m━━━━━━━\u001b[0m \u001b[1m0s\u001b[0m 11ms/step - accuracy: 0.9394 - loss: 0.1606\n",
      "Epoch 20: val_loss did not improve from 0.69441\n",
      "\u001b[1m9/9\u001b[0m \u001b[32m━━━━━━━━━━━━━━━━━━━━\u001b[0m\u001b[37m\u001b[0m \u001b[1m0s\u001b[0m 16ms/step - accuracy: 0.9376 - loss: 0.1634 - val_accuracy: 0.6667 - val_loss: 1.1125 - learning_rate: 1.0000e-04\n",
      "Epoch 21/30\n",
      "\u001b[1m6/9\u001b[0m \u001b[32m━━━━━━━━━━━━━\u001b[0m\u001b[37m━━━━━━━\u001b[0m \u001b[1m0s\u001b[0m 11ms/step - accuracy: 0.9403 - loss: 0.1573\n",
      "Epoch 21: val_loss did not improve from 0.69441\n",
      "\n",
      "Epoch 21: ReduceLROnPlateau reducing learning rate to 1.0000000474974514e-05.\n",
      "\u001b[1m9/9\u001b[0m \u001b[32m━━━━━━━━━━━━━━━━━━━━\u001b[0m\u001b[37m\u001b[0m \u001b[1m0s\u001b[0m 16ms/step - accuracy: 0.9380 - loss: 0.1611 - val_accuracy: 0.6667 - val_loss: 1.1147 - learning_rate: 1.0000e-04\n",
      "Epoch 22/30\n",
      "\u001b[1m6/9\u001b[0m \u001b[32m━━━━━━━━━━━━━\u001b[0m\u001b[37m━━━━━━━\u001b[0m \u001b[1m0s\u001b[0m 11ms/step - accuracy: 0.9221 - loss: 0.1885\n",
      "Epoch 22: val_loss did not improve from 0.69441\n",
      "\u001b[1m9/9\u001b[0m \u001b[32m━━━━━━━━━━━━━━━━━━━━\u001b[0m\u001b[37m\u001b[0m \u001b[1m0s\u001b[0m 16ms/step - accuracy: 0.9263 - loss: 0.1832 - val_accuracy: 0.6667 - val_loss: 1.1149 - learning_rate: 1.0000e-05\n",
      "Epoch 23/30\n",
      "\u001b[1m6/9\u001b[0m \u001b[32m━━━━━━━━━━━━━\u001b[0m\u001b[37m━━━━━━━\u001b[0m \u001b[1m0s\u001b[0m 11ms/step - accuracy: 0.9155 - loss: 0.1801\n",
      "Epoch 23: val_loss did not improve from 0.69441\n",
      "\u001b[1m9/9\u001b[0m \u001b[32m━━━━━━━━━━━━━━━━━━━━\u001b[0m\u001b[37m\u001b[0m \u001b[1m0s\u001b[0m 17ms/step - accuracy: 0.9227 - loss: 0.1754 - val_accuracy: 0.6667 - val_loss: 1.1152 - learning_rate: 1.0000e-05\n",
      "Epoch 24/30\n",
      "\u001b[1m6/9\u001b[0m \u001b[32m━━━━━━━━━━━━━\u001b[0m\u001b[37m━━━━━━━\u001b[0m \u001b[1m0s\u001b[0m 12ms/step - accuracy: 0.9340 - loss: 0.1681\n",
      "Epoch 24: val_loss did not improve from 0.69441\n",
      "\u001b[1m9/9\u001b[0m \u001b[32m━━━━━━━━━━━━━━━━━━━━\u001b[0m\u001b[37m\u001b[0m \u001b[1m0s\u001b[0m 17ms/step - accuracy: 0.9326 - loss: 0.1707 - val_accuracy: 0.6667 - val_loss: 1.1155 - learning_rate: 1.0000e-05\n",
      "Epoch 25/30\n",
      "\u001b[1m6/9\u001b[0m \u001b[32m━━━━━━━━━━━━━\u001b[0m\u001b[37m━━━━━━━\u001b[0m \u001b[1m0s\u001b[0m 11ms/step - accuracy: 0.9358 - loss: 0.1650\n",
      "Epoch 25: val_loss did not improve from 0.69441\n",
      "\n",
      "Epoch 25: ReduceLROnPlateau reducing learning rate to 1.0000000656873453e-06.\n",
      "\u001b[1m9/9\u001b[0m \u001b[32m━━━━━━━━━━━━━━━━━━━━\u001b[0m\u001b[37m\u001b[0m \u001b[1m0s\u001b[0m 17ms/step - accuracy: 0.9344 - loss: 0.1674 - val_accuracy: 0.6667 - val_loss: 1.1157 - learning_rate: 1.0000e-05\n",
      "Epoch 26/30\n",
      "\u001b[1m6/9\u001b[0m \u001b[32m━━━━━━━━━━━━━\u001b[0m\u001b[37m━━━━━━━\u001b[0m \u001b[1m0s\u001b[0m 11ms/step - accuracy: 0.9483 - loss: 0.1343\n",
      "Epoch 26: val_loss did not improve from 0.69441\n",
      "\u001b[1m9/9\u001b[0m \u001b[32m━━━━━━━━━━━━━━━━━━━━\u001b[0m\u001b[37m\u001b[0m \u001b[1m0s\u001b[0m 16ms/step - accuracy: 0.9428 - loss: 0.1464 - val_accuracy: 0.6667 - val_loss: 1.1157 - learning_rate: 1.0000e-06\n",
      "Epoch 27/30\n",
      "\u001b[1m6/9\u001b[0m \u001b[32m━━━━━━━━━━━━━\u001b[0m\u001b[37m━━━━━━━\u001b[0m \u001b[1m0s\u001b[0m 11ms/step - accuracy: 0.9485 - loss: 0.1468\n",
      "Epoch 27: val_loss did not improve from 0.69441\n",
      "\u001b[1m9/9\u001b[0m \u001b[32m━━━━━━━━━━━━━━━━━━━━\u001b[0m\u001b[37m\u001b[0m \u001b[1m0s\u001b[0m 16ms/step - accuracy: 0.9425 - loss: 0.1556 - val_accuracy: 0.6667 - val_loss: 1.1157 - learning_rate: 1.0000e-06\n",
      "Epoch 28/30\n",
      "\u001b[1m6/9\u001b[0m \u001b[32m━━━━━━━━━━━━━\u001b[0m\u001b[37m━━━━━━━\u001b[0m \u001b[1m0s\u001b[0m 11ms/step - accuracy: 0.9256 - loss: 0.1785\n",
      "Epoch 28: val_loss did not improve from 0.69441\n",
      "\n",
      "Epoch 28: ReduceLROnPlateau reducing learning rate to 1.0000001111620805e-07.\n",
      "\u001b[1m9/9\u001b[0m \u001b[32m━━━━━━━━━━━━━━━━━━━━\u001b[0m\u001b[37m\u001b[0m \u001b[1m0s\u001b[0m 17ms/step - accuracy: 0.9296 - loss: 0.1735 - val_accuracy: 0.6667 - val_loss: 1.1158 - learning_rate: 1.0000e-06\n",
      "Epoch 29/30\n",
      "\u001b[1m6/9\u001b[0m \u001b[32m━━━━━━━━━━━━━\u001b[0m\u001b[37m━━━━━━━\u001b[0m \u001b[1m0s\u001b[0m 10ms/step - accuracy: 0.9675 - loss: 0.1269\n",
      "Epoch 29: val_loss did not improve from 0.69441\n",
      "\u001b[1m9/9\u001b[0m \u001b[32m━━━━━━━━━━━━━━━━━━━━\u001b[0m\u001b[37m\u001b[0m \u001b[1m0s\u001b[0m 16ms/step - accuracy: 0.9557 - loss: 0.1400 - val_accuracy: 0.6667 - val_loss: 1.1158 - learning_rate: 1.0000e-07\n",
      "Epoch 30/30\n",
      "\u001b[1m6/9\u001b[0m \u001b[32m━━━━━━━━━━━━━\u001b[0m\u001b[37m━━━━━━━\u001b[0m \u001b[1m0s\u001b[0m 10ms/step - accuracy: 0.9514 - loss: 0.1388\n",
      "Epoch 30: val_loss did not improve from 0.69441\n",
      "\u001b[1m9/9\u001b[0m \u001b[32m━━━━━━━━━━━━━━━━━━━━\u001b[0m\u001b[37m\u001b[0m \u001b[1m0s\u001b[0m 16ms/step - accuracy: 0.9460 - loss: 0.1477 - val_accuracy: 0.6667 - val_loss: 1.1158 - learning_rate: 1.0000e-07\n"
     ]
    }
   ],
   "source": [
    "history = model.fit(\n",
    "    [train_data[0], train_data[1]],\n",
    "    train_labels,\n",
    "    validation_data=([test_data[0], test_data[1]], test_labels),\n",
    "    epochs=EPOCHS,\n",
    "    callbacks=callbacks,\n",
    ")"
   ]
  },
  {
   "cell_type": "code",
   "execution_count": 19,
   "id": "c32c1a6b",
   "metadata": {
    "execution": {
     "iopub.execute_input": "2024-06-23T07:56:55.054752Z",
     "iopub.status.busy": "2024-06-23T07:56:55.054378Z",
     "iopub.status.idle": "2024-06-23T07:56:55.091047Z",
     "shell.execute_reply": "2024-06-23T07:56:55.090268Z"
    },
    "papermill": {
     "duration": 0.103462,
     "end_time": "2024-06-23T07:56:55.093153",
     "exception": false,
     "start_time": "2024-06-23T07:56:54.989691",
     "status": "completed"
    },
    "tags": []
   },
   "outputs": [],
   "source": [
    "model.save('zero-model.keras')"
   ]
  },
  {
   "cell_type": "markdown",
   "id": "3e17bcaf",
   "metadata": {
    "papermill": {
     "duration": 0.061918,
     "end_time": "2024-06-23T07:56:55.218369",
     "exception": false,
     "start_time": "2024-06-23T07:56:55.156451",
     "status": "completed"
    },
    "tags": []
   },
   "source": [
    "## Plots"
   ]
  },
  {
   "cell_type": "code",
   "execution_count": 20,
   "id": "ee6574ac",
   "metadata": {
    "execution": {
     "iopub.execute_input": "2024-06-23T07:56:55.345866Z",
     "iopub.status.busy": "2024-06-23T07:56:55.345504Z",
     "iopub.status.idle": "2024-06-23T07:56:55.907456Z",
     "shell.execute_reply": "2024-06-23T07:56:55.906563Z"
    },
    "papermill": {
     "duration": 0.628551,
     "end_time": "2024-06-23T07:56:55.909405",
     "exception": false,
     "start_time": "2024-06-23T07:56:55.280854",
     "status": "completed"
    },
    "tags": []
   },
   "outputs": [
    {
     "data": {
      "image/png": "[encoded data removed]",
      "text/plain": [
       "<Figure size 640x480 with 1 Axes>"
      ]
     },
     "metadata": {},
     "output_type": "display_data"
    },
    {
     "data": {
      "image/png": "[encoded data removed]",
      "text/plain": [
       "<Figure size 640x480 with 1 Axes>"
      ]
     },
     "metadata": {},
     "output_type": "display_data"
    }
   ],
   "source": [
    "plt.figure(1)\n",
    "plt.plot(history.history['accuracy'])\n",
    "plt.plot(history.history['val_accuracy'])\n",
    "plt.title('model accuracy')\n",
    "plt.ylabel('accuracy')\n",
    "plt.xlabel('epoch')\n",
    "plt.legend(['train', 'val'], loc='upper left')\n",
    "\n",
    "plt.figure(2)\n",
    "plt.plot(history.history['loss'])\n",
    "plt.plot(history.history['val_loss'])\n",
    "plt.title('model loss')\n",
    "plt.ylabel('loss')\n",
    "plt.xlabel('epoch')\n",
    "plt.legend(['train', 'val'], loc='upper right')\n",
    "plt.show()"
   ]
  },
  {
   "cell_type": "markdown",
   "id": "05b42904",
   "metadata": {
    "papermill": {
     "duration": 0.06331,
     "end_time": "2024-06-23T07:56:56.036252",
     "exception": false,
     "start_time": "2024-06-23T07:56:55.972942",
     "status": "completed"
    },
    "tags": []
   },
   "source": [
    "# Inference"
   ]
  },
  {
   "cell_type": "code",
   "execution_count": 21,
   "id": "ab94a392",
   "metadata": {
    "execution": {
     "iopub.execute_input": "2024-06-23T07:56:56.166110Z",
     "iopub.status.busy": "2024-06-23T07:56:56.165367Z",
     "iopub.status.idle": "2024-06-23T07:56:56.285428Z",
     "shell.execute_reply": "2024-06-23T07:56:56.284599Z"
    },
    "papermill": {
     "duration": 0.186742,
     "end_time": "2024-06-23T07:56:56.287635",
     "exception": false,
     "start_time": "2024-06-23T07:56:56.100893",
     "status": "completed"
    },
    "tags": []
   },
   "outputs": [],
   "source": [
    "model = keras.models.load_model('best_model.keras')"
   ]
  },
  {
   "cell_type": "code",
   "execution_count": 22,
   "id": "7059c432",
   "metadata": {
    "execution": {
     "iopub.execute_input": "2024-06-23T07:56:56.416560Z",
     "iopub.status.busy": "2024-06-23T07:56:56.415709Z",
     "iopub.status.idle": "2024-06-23T07:56:56.430994Z",
     "shell.execute_reply": "2024-06-23T07:56:56.430026Z"
    },
    "papermill": {
     "duration": 0.082332,
     "end_time": "2024-06-23T07:56:56.433351",
     "exception": false,
     "start_time": "2024-06-23T07:56:56.351019",
     "status": "completed"
    },
    "tags": []
   },
   "outputs": [],
   "source": [
    "# Load the sample submission file\n",
    "submission_df = pd.read_csv('/kaggle/input/2nd-ava-challenge-ieee-mipr-2024/2nd_AVA_Dataset_2ed/sample_submission.csv')\n",
    "\n",
    "# Paths to test data\n",
    "freeway_test_path = '/kaggle/input/2nd-ava-challenge-ieee-mipr-2024/2nd_AVA_Dataset_2ed/freeway/test'\n",
    "road_test_path = '/kaggle/input/2nd-ava-challenge-ieee-mipr-2024/2nd_AVA_Dataset_2ed/road/test'\n",
    "\n",
    "# Function to add root folder path\n",
    "def add_root_folder(file_name):\n",
    "    if 'freeway' in file_name:\n",
    "        return os.path.join(freeway_test_path, file_name)\n",
    "    elif 'road' in file_name:\n",
    "        return os.path.join(road_test_path, file_name)\n",
    "    else:\n",
    "        print('BUG ALERT! -- ', filename)\n",
    "\n",
    "# Apply the function to the dataframe\n",
    "submission_df['file_path'] = submission_df['file_name'].apply(add_root_folder)\n",
    "\n",
    "if DEBUG:\n",
    "    submission_df = submission_df[:5]"
   ]
  },
  {
   "cell_type": "code",
   "execution_count": 23,
   "id": "627fcda1",
   "metadata": {
    "execution": {
     "iopub.execute_input": "2024-06-23T07:56:56.561071Z",
     "iopub.status.busy": "2024-06-23T07:56:56.560713Z",
     "iopub.status.idle": "2024-06-23T07:56:56.568982Z",
     "shell.execute_reply": "2024-06-23T07:56:56.568221Z"
    },
    "papermill": {
     "duration": 0.074152,
     "end_time": "2024-06-23T07:56:56.570785",
     "exception": false,
     "start_time": "2024-06-23T07:56:56.496633",
     "status": "completed"
    },
    "tags": []
   },
   "outputs": [],
   "source": [
    "def prepare_single_video(frames):\n",
    "    frames = frames[None, ...]\n",
    "    frame_mask = np.zeros(\n",
    "        shape=(\n",
    "            1,\n",
    "            MAX_SEQ_LENGTH,\n",
    "        ),\n",
    "        dtype=\"bool\",\n",
    "    )\n",
    "    frame_features = np.zeros(shape=(1, MAX_SEQ_LENGTH, NUM_FEATURES), dtype=\"float32\")\n",
    "\n",
    "    for i, batch in enumerate(frames):\n",
    "        video_length = batch.shape[0]\n",
    "        length = min(MAX_SEQ_LENGTH, video_length)\n",
    "        for j in range(length):\n",
    "            frame_features[i, j, :] = feature_extractor.predict(batch[None, j, :], verbose = 0)\n",
    "        frame_mask[i, :length] = 1  # 1 = not masked, 0 = masked\n",
    "\n",
    "    return frame_features, frame_mask\n",
    "\n",
    "\n",
    "def sequence_prediction(path):\n",
    "    frames = read_frames_from_folder(path)\n",
    "    frame_features, frame_mask = prepare_single_video(frames)\n",
    "    probabilities = model.predict([frame_features, frame_mask], verbose = 0)[0]\n",
    "\n",
    "    return probabilities"
   ]
  },
  {
   "cell_type": "code",
   "execution_count": 24,
   "id": "994cb65e",
   "metadata": {
    "execution": {
     "iopub.execute_input": "2024-06-23T07:56:56.697670Z",
     "iopub.status.busy": "2024-06-23T07:56:56.697313Z",
     "iopub.status.idle": "2024-06-23T08:18:25.407571Z",
     "shell.execute_reply": "2024-06-23T08:18:25.406578Z"
    },
    "papermill": {
     "duration": 1288.776209,
     "end_time": "2024-06-23T08:18:25.409691",
     "exception": false,
     "start_time": "2024-06-23T07:56:56.633482",
     "status": "completed"
    },
    "tags": []
   },
   "outputs": [
    {
     "name": "stderr",
     "output_type": "stream",
     "text": [
      "100%|██████████| 243/243 [21:28<00:00,  5.30s/it]\n"
     ]
    }
   ],
   "source": [
    "# Run inference\n",
    "def run_inference(filepaths):\n",
    "    predictions = []\n",
    "    for path in tqdm(filepaths):\n",
    "        probs = sequence_prediction(path)\n",
    "        predictions.append(probs[1])\n",
    "    return predictions\n",
    "\n",
    "\n",
    "test_filepaths = submission_df['file_path'].values.tolist()\n",
    "predictions = run_inference(test_filepaths)"
   ]
  },
  {
   "cell_type": "code",
   "execution_count": 25,
   "id": "be5a7843",
   "metadata": {
    "execution": {
     "iopub.execute_input": "2024-06-23T08:18:25.574903Z",
     "iopub.status.busy": "2024-06-23T08:18:25.574534Z",
     "iopub.status.idle": "2024-06-23T08:18:25.590009Z",
     "shell.execute_reply": "2024-06-23T08:18:25.589191Z"
    },
    "papermill": {
     "duration": 0.100159,
     "end_time": "2024-06-23T08:18:25.592108",
     "exception": false,
     "start_time": "2024-06-23T08:18:25.491949",
     "status": "completed"
    },
    "tags": []
   },
   "outputs": [
    {
     "data": {
      "text/html": [
       "<div>\n",
       "<style scoped>\n",
       "    .dataframe tbody tr th:only-of-type {\n",
       "        vertical-align: middle;\n",
       "    }\n",
       "\n",
       "    .dataframe tbody tr th {\n",
       "        vertical-align: top;\n",
       "    }\n",
       "\n",
       "    .dataframe thead th {\n",
       "        text-align: right;\n",
       "    }\n",
       "</style>\n",
       "<table border=\"1\" class=\"dataframe\">\n",
       "  <thead>\n",
       "    <tr style=\"text-align: right;\">\n",
       "      <th></th>\n",
       "      <th>file_name</th>\n",
       "      <th>risk</th>\n",
       "    </tr>\n",
       "  </thead>\n",
       "  <tbody>\n",
       "    <tr>\n",
       "      <th>0</th>\n",
       "      <td>road_0179</td>\n",
       "      <td>0.262199</td>\n",
       "    </tr>\n",
       "    <tr>\n",
       "      <th>1</th>\n",
       "      <td>road_0180</td>\n",
       "      <td>0.689144</td>\n",
       "    </tr>\n",
       "    <tr>\n",
       "      <th>2</th>\n",
       "      <td>road_0181</td>\n",
       "      <td>0.276715</td>\n",
       "    </tr>\n",
       "    <tr>\n",
       "      <th>3</th>\n",
       "      <td>road_0182</td>\n",
       "      <td>0.484519</td>\n",
       "    </tr>\n",
       "    <tr>\n",
       "      <th>4</th>\n",
       "      <td>road_0183</td>\n",
       "      <td>0.484519</td>\n",
       "    </tr>\n",
       "    <tr>\n",
       "      <th>...</th>\n",
       "      <td>...</td>\n",
       "      <td>...</td>\n",
       "    </tr>\n",
       "    <tr>\n",
       "      <th>238</th>\n",
       "      <td>freeway_0297</td>\n",
       "      <td>0.429414</td>\n",
       "    </tr>\n",
       "    <tr>\n",
       "      <th>239</th>\n",
       "      <td>freeway_0298</td>\n",
       "      <td>0.606085</td>\n",
       "    </tr>\n",
       "    <tr>\n",
       "      <th>240</th>\n",
       "      <td>freeway_0299</td>\n",
       "      <td>0.817255</td>\n",
       "    </tr>\n",
       "    <tr>\n",
       "      <th>241</th>\n",
       "      <td>freeway_0300</td>\n",
       "      <td>0.722422</td>\n",
       "    </tr>\n",
       "    <tr>\n",
       "      <th>242</th>\n",
       "      <td>freeway_0301</td>\n",
       "      <td>0.407895</td>\n",
       "    </tr>\n",
       "  </tbody>\n",
       "</table>\n",
       "<p>243 rows × 2 columns</p>\n",
       "</div>"
      ],
      "text/plain": [
       "        file_name      risk\n",
       "0       road_0179  0.262199\n",
       "1       road_0180  0.689144\n",
       "2       road_0181  0.276715\n",
       "3       road_0182  0.484519\n",
       "4       road_0183  0.484519\n",
       "..            ...       ...\n",
       "238  freeway_0297  0.429414\n",
       "239  freeway_0298  0.606085\n",
       "240  freeway_0299  0.817255\n",
       "241  freeway_0300  0.722422\n",
       "242  freeway_0301  0.407895\n",
       "\n",
       "[243 rows x 2 columns]"
      ]
     },
     "execution_count": 25,
     "metadata": {},
     "output_type": "execute_result"
    }
   ],
   "source": [
    "submission_df['risk'] = predictions\n",
    "\n",
    "submission_df = submission_df.drop(['file_path'], axis = 1)\n",
    "\n",
    "submission_df"
   ]
  },
  {
   "cell_type": "code",
   "execution_count": 26,
   "id": "aeef2c61",
   "metadata": {
    "execution": {
     "iopub.execute_input": "2024-06-23T08:18:25.763078Z",
     "iopub.status.busy": "2024-06-23T08:18:25.762746Z",
     "iopub.status.idle": "2024-06-23T08:18:25.769542Z",
     "shell.execute_reply": "2024-06-23T08:18:25.768809Z"
    },
    "papermill": {
     "duration": 0.092881,
     "end_time": "2024-06-23T08:18:25.771439",
     "exception": false,
     "start_time": "2024-06-23T08:18:25.678558",
     "status": "completed"
    },
    "tags": []
   },
   "outputs": [],
   "source": [
    "# Save the updated submission file\n",
    "submission_df.to_csv('submission.csv', index=False)"
   ]
  },
  {
   "cell_type": "code",
   "execution_count": null,
   "id": "25614ac7",
   "metadata": {
    "papermill": {
     "duration": 0.081379,
     "end_time": "2024-06-23T08:18:25.934124",
     "exception": false,
     "start_time": "2024-06-23T08:18:25.852745",
     "status": "completed"
    },
    "tags": []
   },
   "outputs": [],
   "source": []
  }
 ],
 "metadata": {
  "kaggle": {
   "accelerator": "gpu",
   "dataSources": [
    {
     "databundleVersionId": 8647245,
     "sourceId": 80318,
     "sourceType": "competition"
    },
    {
     "datasetId": 5222960,
     "isSourceIdPinned": true,
     "sourceId": 8740078,
     "sourceType": "datasetVersion"
    }
   ],
   "dockerImageVersionId": 30732,
   "isGpuEnabled": true,
   "isInternetEnabled": true,
   "language": "python",
   "sourceType": "notebook"
  },
  "kernelspec": {
   "display_name": "Python 3",
   "language": "python",
   "name": "python3"
  },
  "language_info": {
   "codemirror_mode": {
    "name": "ipython",
    "version": 3
   },
   "file_extension": ".py",
   "mimetype": "text/x-python",
   "name": "python",
   "nbconvert_exporter": "python",
   "pygments_lexer": "ipython3",
   "version": "3.10.13"
  },
  "papermill": {
   "default_parameters": {},
   "duration": 3348.657177,
   "end_time": "2024-06-23T08:18:29.018667",
   "environment_variables": {},
   "exception": null,
   "input_path": "__notebook__.ipynb",
   "output_path": "__notebook__.ipynb",
   "parameters": {},
   "start_time": "2024-06-23T07:22:40.361490",
   "version": "2.5.0"
  }
 },
 "nbformat": 4,
 "nbformat_minor": 5
}
