{
 "cells": [
  {
   "cell_type": "markdown",
   "id": "1e553b53",
   "metadata": {
    "papermill": {
     "duration": 0.00831,
     "end_time": "2024-06-22T17:55:15.801136",
     "exception": false,
     "start_time": "2024-06-22T17:55:15.792826",
     "status": "completed"
    },
    "tags": []
   },
   "source": [
    "# Imports"
   ]
  },
  {
   "cell_type": "code",
   "execution_count": 1,
   "id": "36a6d1a8",
   "metadata": {
    "execution": {
     "iopub.execute_input": "2024-06-22T17:55:15.818476Z",
     "iopub.status.busy": "2024-06-22T17:55:15.818095Z",
     "iopub.status.idle": "2024-06-22T17:56:50.883279Z",
     "shell.execute_reply": "2024-06-22T17:56:50.882313Z"
    },
    "papermill": {
     "duration": 95.076588,
     "end_time": "2024-06-22T17:56:50.885698",
     "exception": false,
     "start_time": "2024-06-22T17:55:15.809110",
     "status": "completed"
    },
    "tags": []
   },
   "outputs": [
    {
     "name": "stdout",
     "output_type": "stream",
     "text": [
      "\u001b[31mERROR: pip's dependency resolver does not currently take into account all the packages that are installed. This behaviour is the source of the following dependency conflicts.\r\n",
      "tensorflow-decision-forests 1.8.1 requires tensorflow~=2.15.0, but you have tensorflow 2.16.1 which is incompatible.\r\n",
      "tensorflow-text 2.15.0 requires tensorflow<2.16,>=2.15.0; platform_machine != \"arm64\" or platform_system != \"Darwin\", but you have tensorflow 2.16.1 which is incompatible.\r\n",
      "tf-keras 2.15.1 requires tensorflow<2.16,>=2.15, but you have tensorflow 2.16.1 which is incompatible.\u001b[0m\u001b[31m\r\n",
      "\u001b[0m\u001b[31mERROR: pip's dependency resolver does not currently take into account all the packages that are installed. This behaviour is the source of the following dependency conflicts.\r\n",
      "tensorflow-decision-forests 1.8.1 requires tensorflow~=2.15.0, but you have tensorflow 2.16.1 which is incompatible.\r\n",
      "tensorflow-text 2.15.0 requires tensorflow<2.16,>=2.15.0; platform_machine != \"arm64\" or platform_system != \"Darwin\", but you have tensorflow 2.16.1 which is incompatible.\r\n",
      "tf-keras 2.15.1 requires tensorflow<2.16,>=2.15, but you have tensorflow 2.16.1 which is incompatible.\u001b[0m\u001b[31m\r\n",
      "\u001b[0m"
     ]
    }
   ],
   "source": [
    "!pip install -q wurlitzer\n",
    "!pip install -q --upgrade keras-cv tensorflow\n",
    "!pip install -q --upgrade keras"
   ]
  },
  {
   "cell_type": "code",
   "execution_count": 2,
   "id": "e72b841b",
   "metadata": {
    "execution": {
     "iopub.execute_input": "2024-06-22T17:56:50.903072Z",
     "iopub.status.busy": "2024-06-22T17:56:50.902741Z",
     "iopub.status.idle": "2024-06-22T17:56:57.616744Z",
     "shell.execute_reply": "2024-06-22T17:56:57.615576Z"
    },
    "papermill": {
     "duration": 6.725227,
     "end_time": "2024-06-22T17:56:57.618861",
     "exception": false,
     "start_time": "2024-06-22T17:56:50.893634",
     "status": "completed"
    },
    "tags": []
   },
   "outputs": [
    {
     "name": "stdout",
     "output_type": "stream",
     "text": [
      "running tf:  2.16.1\n",
      "running keras:  2.16.1\n"
     ]
    }
   ],
   "source": [
    "import tensorflow as tf\n",
    "import keras\n",
    "import os\n",
    "import pandas as pd\n",
    "import matplotlib.pyplot as plt\n",
    "import numpy as np\n",
    "from tensorflow.keras.preprocessing import image\n",
    "from sklearn.model_selection import train_test_split\n",
    "\n",
    "print('running tf: ', tf.__version__)\n",
    "print('running keras: ', tf.__version__)"
   ]
  },
  {
   "cell_type": "code",
   "execution_count": 3,
   "id": "997fdd71",
   "metadata": {
    "execution": {
     "iopub.execute_input": "2024-06-22T17:56:57.636114Z",
     "iopub.status.busy": "2024-06-22T17:56:57.635550Z",
     "iopub.status.idle": "2024-06-22T17:56:57.640090Z",
     "shell.execute_reply": "2024-06-22T17:56:57.639257Z"
    },
    "papermill": {
     "duration": 0.015085,
     "end_time": "2024-06-22T17:56:57.641856",
     "exception": false,
     "start_time": "2024-06-22T17:56:57.626771",
     "status": "completed"
    },
    "tags": []
   },
   "outputs": [],
   "source": [
    "os.environ[\"KERAS_BACKEND\"] = \"tensorflow\"  # Or \"jax\" or \"torch\"!"
   ]
  },
  {
   "cell_type": "markdown",
   "id": "07f38048",
   "metadata": {
    "papermill": {
     "duration": 0.007486,
     "end_time": "2024-06-22T17:56:57.657176",
     "exception": false,
     "start_time": "2024-06-22T17:56:57.649690",
     "status": "completed"
    },
    "tags": []
   },
   "source": [
    "# Config"
   ]
  },
  {
   "cell_type": "code",
   "execution_count": 4,
   "id": "05b738e4",
   "metadata": {
    "execution": {
     "iopub.execute_input": "2024-06-22T17:56:57.674610Z",
     "iopub.status.busy": "2024-06-22T17:56:57.674357Z",
     "iopub.status.idle": "2024-06-22T17:56:57.678687Z",
     "shell.execute_reply": "2024-06-22T17:56:57.677820Z"
    },
    "papermill": {
     "duration": 0.015772,
     "end_time": "2024-06-22T17:56:57.680531",
     "exception": false,
     "start_time": "2024-06-22T17:56:57.664759",
     "status": "completed"
    },
    "tags": []
   },
   "outputs": [],
   "source": [
    "DEBUG = False\n",
    "input_size = 224\n",
    "num_frames = 32\n",
    "batch_size = 2  \n",
    "AUTOTUNE = tf.data.experimental.AUTOTUNE"
   ]
  },
  {
   "cell_type": "markdown",
   "id": "1e368b05",
   "metadata": {
    "papermill": {
     "duration": 0.007459,
     "end_time": "2024-06-22T17:56:57.695741",
     "exception": false,
     "start_time": "2024-06-22T17:56:57.688282",
     "status": "completed"
    },
    "tags": []
   },
   "source": [
    "# Data Loading"
   ]
  },
  {
   "cell_type": "code",
   "execution_count": 5,
   "id": "4b70f0b3",
   "metadata": {
    "execution": {
     "iopub.execute_input": "2024-06-22T17:56:57.712629Z",
     "iopub.status.busy": "2024-06-22T17:56:57.712325Z",
     "iopub.status.idle": "2024-06-22T17:56:57.723342Z",
     "shell.execute_reply": "2024-06-22T17:56:57.722680Z"
    },
    "papermill": {
     "duration": 0.021461,
     "end_time": "2024-06-22T17:56:57.725104",
     "exception": false,
     "start_time": "2024-06-22T17:56:57.703643",
     "status": "completed"
    },
    "tags": []
   },
   "outputs": [],
   "source": [
    "def read_frames_from_folder(folder_path):\n",
    "    folder_path = folder_path.numpy().decode('utf-8')\n",
    "    # Get list of all frame files\n",
    "    frame_files = sorted([os.path.join(folder_path, f) for f in os.listdir(folder_path) if f.endswith('.jpg')])\n",
    "    \n",
    "    # Take the last num_frames frames if there are more frames\n",
    "    if len(frame_files) > num_frames:\n",
    "        frame_files = frame_files[-num_frames:]\n",
    "    \n",
    "    frames = []\n",
    "    for frame_file in frame_files:\n",
    "        img = image.load_img(frame_file, target_size=(input_size, input_size))\n",
    "        img_array = image.img_to_array(img)\n",
    "        frames.append(img_array)\n",
    "    \n",
    "    frames = tf.convert_to_tensor(frames, dtype=tf.float32)\n",
    "\n",
    "    # If fewer than num_frames, pad with zeros\n",
    "    if len(frames) < num_frames:\n",
    "        padding = tf.zeros((num_frames - len(frames), input_size, input_size, 3), dtype=tf.float32)\n",
    "        frames = tf.concat([frames, padding], axis=0)\n",
    "    return frames\n",
    "\n",
    "def load_video_from_folder(file_path, label):\n",
    "    video = tf.py_function(func=read_frames_from_folder, inp=[file_path], Tout=tf.float32)\n",
    "    video.set_shape([num_frames, input_size, input_size, 3])\n",
    "    return video, tf.cast(label, dtype=tf.float32)\n",
    "\n",
    "def create_dataset(file_paths, labels, shuffle_buffer_size=None):\n",
    "    dataset = tf.data.Dataset.from_tensor_slices((file_paths, labels))\n",
    "    \n",
    "    # shuffle training data\n",
    "    if shuffle_buffer_size:\n",
    "        dataset = dataset.shuffle(buffer_size=shuffle_buffer_size)\n",
    "    \n",
    "    dataset = dataset.map(load_video_from_folder, num_parallel_calls=AUTOTUNE)\n",
    "    dataset = dataset.batch(batch_size)\n",
    "    dataset = dataset.prefetch(AUTOTUNE)\n",
    "    return dataset\n"
   ]
  },
  {
   "cell_type": "code",
   "execution_count": 6,
   "id": "f4447ad9",
   "metadata": {
    "execution": {
     "iopub.execute_input": "2024-06-22T17:56:57.741658Z",
     "iopub.status.busy": "2024-06-22T17:56:57.741393Z",
     "iopub.status.idle": "2024-06-22T17:56:57.772782Z",
     "shell.execute_reply": "2024-06-22T17:56:57.772123Z"
    },
    "papermill": {
     "duration": 0.041874,
     "end_time": "2024-06-22T17:56:57.774816",
     "exception": false,
     "start_time": "2024-06-22T17:56:57.732942",
     "status": "completed"
    },
    "tags": []
   },
   "outputs": [],
   "source": [
    "# Paths to your data\n",
    "freeway_train_path = '/kaggle/input/2nd-ava-challenge-ieee-mipr-2024/2nd_AVA_Dataset_2ed/freeway/train'\n",
    "road_train_path = '/kaggle/input/2nd-ava-challenge-ieee-mipr-2024/2nd_AVA_Dataset_2ed/road/train'\n",
    "freeway_train_csv = '/kaggle/input/2nd-ava-challenge-ieee-mipr-2024/2nd_AVA_Dataset_2ed/freeway_train.csv'\n",
    "road_train_csv = '/kaggle/input/2nd-ava-challenge-ieee-mipr-2024/2nd_AVA_Dataset_2ed/road_train.csv'\n",
    "\n",
    "# Read CSV files\n",
    "freeway_df = pd.read_csv(freeway_train_csv)\n",
    "road_df = pd.read_csv(road_train_csv)\n",
    "\n",
    "# Add the directory path to the file names\n",
    "freeway_df['file_name'] = freeway_df['file_name'].apply(lambda x: os.path.join(freeway_train_path, x))\n",
    "road_df['file_name'] = road_df['file_name'].apply(lambda x: os.path.join(road_train_path, x))\n",
    "\n",
    "# Combine dataframes\n",
    "all_df = pd.concat([freeway_df, road_df])\n",
    "\n",
    "if DEBUG:\n",
    "    all_df = all_df[:20]"
   ]
  },
  {
   "cell_type": "code",
   "execution_count": 7,
   "id": "5f39e460",
   "metadata": {
    "execution": {
     "iopub.execute_input": "2024-06-22T17:56:57.791393Z",
     "iopub.status.busy": "2024-06-22T17:56:57.791119Z",
     "iopub.status.idle": "2024-06-22T17:56:58.533435Z",
     "shell.execute_reply": "2024-06-22T17:56:58.532672Z"
    },
    "papermill": {
     "duration": 0.753046,
     "end_time": "2024-06-22T17:56:58.535649",
     "exception": false,
     "start_time": "2024-06-22T17:56:57.782603",
     "status": "completed"
    },
    "tags": []
   },
   "outputs": [],
   "source": [
    "# Split into train and validation sets\n",
    "train_df, val_df = train_test_split(all_df, test_size=0.2, random_state=42, stratify=all_df['risk'])\n",
    "\n",
    "# Create datasets\n",
    "train_dataset = create_dataset(train_df['file_name'].values, train_df['risk'].values, shuffle_buffer_size=len(train_df))\n",
    "val_dataset = create_dataset(val_df['file_name'].values, val_df['risk'].values)"
   ]
  },
  {
   "cell_type": "code",
   "execution_count": 8,
   "id": "d69c035e",
   "metadata": {
    "execution": {
     "iopub.execute_input": "2024-06-22T17:56:58.552918Z",
     "iopub.status.busy": "2024-06-22T17:56:58.552600Z",
     "iopub.status.idle": "2024-06-22T17:56:58.558224Z",
     "shell.execute_reply": "2024-06-22T17:56:58.557203Z"
    },
    "papermill": {
     "duration": 0.016382,
     "end_time": "2024-06-22T17:56:58.560095",
     "exception": false,
     "start_time": "2024-06-22T17:56:58.543713",
     "status": "completed"
    },
    "tags": []
   },
   "outputs": [
    {
     "name": "stdout",
     "output_type": "stream",
     "text": [
      "Train Dataset:  144\n",
      "Validation Dataset:  36\n"
     ]
    }
   ],
   "source": [
    "print('Train Dataset: ', len(train_dataset))\n",
    "print('Validation Dataset: ', len(val_dataset))"
   ]
  },
  {
   "cell_type": "markdown",
   "id": "e57465c5",
   "metadata": {
    "papermill": {
     "duration": 0.007478,
     "end_time": "2024-06-22T17:56:58.575469",
     "exception": false,
     "start_time": "2024-06-22T17:56:58.567991",
     "status": "completed"
    },
    "tags": []
   },
   "source": [
    "### Sanity Check"
   ]
  },
  {
   "cell_type": "code",
   "execution_count": 9,
   "id": "1683918e",
   "metadata": {
    "execution": {
     "iopub.execute_input": "2024-06-22T17:56:58.592536Z",
     "iopub.status.busy": "2024-06-22T17:56:58.591875Z",
     "iopub.status.idle": "2024-06-22T17:57:50.438575Z",
     "shell.execute_reply": "2024-06-22T17:57:50.437577Z"
    },
    "papermill": {
     "duration": 51.858203,
     "end_time": "2024-06-22T17:57:50.441404",
     "exception": false,
     "start_time": "2024-06-22T17:56:58.583201",
     "status": "completed"
    },
    "tags": []
   },
   "outputs": [
    {
     "name": "stdout",
     "output_type": "stream",
     "text": [
      "(2, 32, 224, 224, 3) (2,)\n",
      "(2, 32, 224, 224, 3) (2,)\n"
     ]
    }
   ],
   "source": [
    "# Example: Iterate through the train dataset\n",
    "for videos, labels in train_dataset.take(1):\n",
    "    print(videos.shape, labels.shape)\n",
    "\n",
    "# Example: Iterate through the validation dataset\n",
    "for videos, labels in val_dataset.take(1):\n",
    "    print(videos.shape, labels.shape)"
   ]
  },
  {
   "cell_type": "markdown",
   "id": "3d714afd",
   "metadata": {
    "papermill": {
     "duration": 0.008925,
     "end_time": "2024-06-22T17:57:50.461878",
     "exception": false,
     "start_time": "2024-06-22T17:57:50.452953",
     "status": "completed"
    },
    "tags": []
   },
   "source": [
    "### Plot the Data"
   ]
  },
  {
   "cell_type": "code",
   "execution_count": 10,
   "id": "dce2242c",
   "metadata": {
    "execution": {
     "iopub.execute_input": "2024-06-22T17:57:50.482603Z",
     "iopub.status.busy": "2024-06-22T17:57:50.482178Z",
     "iopub.status.idle": "2024-06-22T17:57:50.489832Z",
     "shell.execute_reply": "2024-06-22T17:57:50.489050Z"
    },
    "papermill": {
     "duration": 0.022179,
     "end_time": "2024-06-22T17:57:50.492295",
     "exception": false,
     "start_time": "2024-06-22T17:57:50.470116",
     "status": "completed"
    },
    "tags": []
   },
   "outputs": [],
   "source": [
    "# def plot_sample_frames(dataset, num_samples=3, frames_to_plot=5):\n",
    "#     \"\"\"\n",
    "#     Plots a few frames of sample videos from the dataset along with their labels.\n",
    "\n",
    "#     Args:\n",
    "#     dataset: tf.data.Dataset - The dataset containing video frames and labels.\n",
    "#     num_samples: int - Number of sample videos to plot.\n",
    "#     frames_to_plot: int - Number of frames to plot from each sample video.\n",
    "#     \"\"\"\n",
    "#     # Take num_samples from the dataset\n",
    "#     for videos, labels in dataset.take(num_samples):\n",
    "#         # Convert tensors to numpy arrays\n",
    "#         videos = videos.numpy()\n",
    "#         labels = labels.numpy()\n",
    "        \n",
    "#         # Iterate over each sample in the batch\n",
    "#         for i in range(videos.shape[0]):\n",
    "#             fig, axes = plt.subplots(1, frames_to_plot, figsize=(15, 5))\n",
    "#             fig.suptitle(f'Sample {i+1} - Label: {int(labels[i])}', fontsize=16)\n",
    "            \n",
    "#             # Plot a few frames from the sample video\n",
    "#             for j in range(frames_to_plot):\n",
    "#                 if j < videos.shape[1]:\n",
    "#                     frame = videos[i, j]\n",
    "#                     axes[j].imshow(frame.astype(np.uint8))\n",
    "#                     axes[j].axis('off')\n",
    "            \n",
    "#             plt.show()\n",
    "\n",
    "# # Example usage:\n",
    "# # Plot a few frames of 3 sample videos from the train dataset\n",
    "# plot_sample_frames(train_dataset, num_samples=3, frames_to_plot=5)\n"
   ]
  },
  {
   "cell_type": "markdown",
   "id": "6d15cd7a",
   "metadata": {
    "papermill": {
     "duration": 0.008184,
     "end_time": "2024-06-22T17:57:50.511378",
     "exception": false,
     "start_time": "2024-06-22T17:57:50.503194",
     "status": "completed"
    },
    "tags": []
   },
   "source": [
    "# Model"
   ]
  },
  {
   "cell_type": "code",
   "execution_count": 11,
   "id": "eff09ce6",
   "metadata": {
    "execution": {
     "iopub.execute_input": "2024-06-22T17:57:50.528716Z",
     "iopub.status.busy": "2024-06-22T17:57:50.528331Z",
     "iopub.status.idle": "2024-06-22T17:57:56.167381Z",
     "shell.execute_reply": "2024-06-22T17:57:56.166524Z"
    },
    "papermill": {
     "duration": 5.650207,
     "end_time": "2024-06-22T17:57:56.169550",
     "exception": false,
     "start_time": "2024-06-22T17:57:50.519343",
     "status": "completed"
    },
    "tags": []
   },
   "outputs": [],
   "source": [
    "from keras_cv.models import VideoSwinBackbone\n",
    "from keras_cv.models import VideoClassifier"
   ]
  },
  {
   "cell_type": "code",
   "execution_count": 12,
   "id": "83a58004",
   "metadata": {
    "execution": {
     "iopub.execute_input": "2024-06-22T17:57:56.187590Z",
     "iopub.status.busy": "2024-06-22T17:57:56.187046Z",
     "iopub.status.idle": "2024-06-22T17:57:56.193641Z",
     "shell.execute_reply": "2024-06-22T17:57:56.192513Z"
    },
    "papermill": {
     "duration": 0.017618,
     "end_time": "2024-06-22T17:57:56.195656",
     "exception": false,
     "start_time": "2024-06-22T17:57:56.178038",
     "status": "completed"
    },
    "tags": []
   },
   "outputs": [],
   "source": [
    "def vswin_tiny():\n",
    "    backbone=VideoSwinBackbone(\n",
    "        input_shape=(num_frames, input_size, input_size, 3), \n",
    "        window_size=[8, 7, 7],\n",
    "        embed_dim=128,\n",
    "        depths=[2, 2, 18, 2],\n",
    "        num_heads=[4, 8, 16, 32],\n",
    "        include_rescaling=True, \n",
    "    )\n",
    "    backbone.load_weights(\n",
    "        '/kaggle/input/videoswin/keras/base/1/videoswin_base_kinetics400_imagenet22k.weights.h5'\n",
    "    )\n",
    "    backbone.trainable = False\n",
    "    keras_model = VideoClassifier(\n",
    "        backbone=backbone,\n",
    "        num_classes=2,\n",
    "        activation=None,\n",
    "        pooling='avg',\n",
    "    )\n",
    "    return keras_model"
   ]
  },
  {
   "cell_type": "code",
   "execution_count": 13,
   "id": "1052d7e4",
   "metadata": {
    "execution": {
     "iopub.execute_input": "2024-06-22T17:57:56.212645Z",
     "iopub.status.busy": "2024-06-22T17:57:56.212374Z",
     "iopub.status.idle": "2024-06-22T17:58:02.263825Z",
     "shell.execute_reply": "2024-06-22T17:58:02.263059Z"
    },
    "papermill": {
     "duration": 6.062398,
     "end_time": "2024-06-22T17:58:02.266163",
     "exception": false,
     "start_time": "2024-06-22T17:57:56.203765",
     "status": "completed"
    },
    "tags": []
   },
   "outputs": [],
   "source": [
    "model = vswin_tiny()"
   ]
  },
  {
   "cell_type": "markdown",
   "id": "7a496e8a",
   "metadata": {
    "papermill": {
     "duration": 0.007788,
     "end_time": "2024-06-22T17:58:02.282250",
     "exception": false,
     "start_time": "2024-06-22T17:58:02.274462",
     "status": "completed"
    },
    "tags": []
   },
   "source": [
    "## Optimize & Compile"
   ]
  },
  {
   "cell_type": "code",
   "execution_count": 14,
   "id": "0081baba",
   "metadata": {
    "execution": {
     "iopub.execute_input": "2024-06-22T17:58:02.299329Z",
     "iopub.status.busy": "2024-06-22T17:58:02.299022Z",
     "iopub.status.idle": "2024-06-22T17:58:02.305282Z",
     "shell.execute_reply": "2024-06-22T17:58:02.304439Z"
    },
    "papermill": {
     "duration": 0.016984,
     "end_time": "2024-06-22T17:58:02.307114",
     "exception": false,
     "start_time": "2024-06-22T17:58:02.290130",
     "status": "completed"
    },
    "tags": []
   },
   "outputs": [],
   "source": [
    "def lrfn(epoch):\n",
    "    if epoch < lr_ramp_ep:\n",
    "        lr = (lr_max - lr_start) / lr_ramp_ep * epoch + lr_start\n",
    "\n",
    "    elif epoch < lr_ramp_ep + lr_sus_ep:\n",
    "        lr = lr_max\n",
    "\n",
    "    else:\n",
    "        lr = (lr_max - lr_min) * lr_decay**(epoch - lr_ramp_ep - lr_sus_ep) + lr_min\n",
    "\n",
    "    return lr\n",
    "\n",
    "def get_lr_callback(batch_size=16):\n",
    "#     lr_start   = 0.000005\n",
    "#     lr_max     = 0.000003 * batch_size\n",
    "#     lr_min     = 0.000001\n",
    "#     lr_ramp_ep = 5\n",
    "#     lr_sus_ep  = 0\n",
    "#     lr_decay   = 0.3\n",
    "       \n",
    "    lr_callback = tf.keras.callbacks.LearningRateScheduler(lrfn, verbose=False)\n",
    "    return lr_callback"
   ]
  },
  {
   "cell_type": "code",
   "execution_count": 15,
   "id": "0b6c56ac",
   "metadata": {
    "execution": {
     "iopub.execute_input": "2024-06-22T17:58:02.324518Z",
     "iopub.status.busy": "2024-06-22T17:58:02.323636Z",
     "iopub.status.idle": "2024-06-22T17:58:02.596072Z",
     "shell.execute_reply": "2024-06-22T17:58:02.595167Z"
    },
    "papermill": {
     "duration": 0.283248,
     "end_time": "2024-06-22T17:58:02.598191",
     "exception": false,
     "start_time": "2024-06-22T17:58:02.314943",
     "status": "completed"
    },
    "tags": []
   },
   "outputs": [
    {
     "name": "stdout",
     "output_type": "stream",
     "text": [
      "Learning rate schedule: 0.0005 to 0.028 to 0.000281\n"
     ]
    },
    {
     "data": {
      "image/png": "[encoded data removed]",
      "text/plain": [
       "<Figure size 640x480 with 1 Axes>"
      ]
     },
     "metadata": {},
     "output_type": "display_data"
    }
   ],
   "source": [
    "EPOCHS = 20\n",
    "lr_start   = 0.0005\n",
    "lr_max     = 0.002 * batch_size * 7\n",
    "lr_min     = 0.00001\n",
    "lr_ramp_ep = 4\n",
    "lr_sus_ep  = 2\n",
    "lr_decay   = 0.7\n",
    "\n",
    "rng = [i for i in range(8 if EPOCHS<8 else EPOCHS)]\n",
    "y = [lrfn(x) for x in rng]\n",
    "plt.plot(rng, y)\n",
    "print(\"Learning rate schedule: {:.3g} to {:.3g} to {:.3g}\".format(y[0], max(y), y[-1]))"
   ]
  },
  {
   "cell_type": "code",
   "execution_count": 16,
   "id": "7e09f4cb",
   "metadata": {
    "execution": {
     "iopub.execute_input": "2024-06-22T17:58:02.616910Z",
     "iopub.status.busy": "2024-06-22T17:58:02.616186Z",
     "iopub.status.idle": "2024-06-22T17:58:02.633273Z",
     "shell.execute_reply": "2024-06-22T17:58:02.632404Z"
    },
    "papermill": {
     "duration": 0.028384,
     "end_time": "2024-06-22T17:58:02.635231",
     "exception": false,
     "start_time": "2024-06-22T17:58:02.606847",
     "status": "completed"
    },
    "tags": []
   },
   "outputs": [],
   "source": [
    "model.compile(\n",
    "    optimizer=tf.keras.optimizers.SGD(nesterov=False),\n",
    "    loss=keras.losses.SparseCategoricalCrossentropy(from_logits=True),\n",
    "    metrics=[\n",
    "        keras.metrics.SparseCategoricalAccuracy(name=\"accuracy\"),\n",
    "    ],\n",
    ")"
   ]
  },
  {
   "cell_type": "markdown",
   "id": "c7632f18",
   "metadata": {
    "papermill": {
     "duration": 0.008247,
     "end_time": "2024-06-22T17:58:02.651865",
     "exception": false,
     "start_time": "2024-06-22T17:58:02.643618",
     "status": "completed"
    },
    "tags": []
   },
   "source": [
    "## Train Model"
   ]
  },
  {
   "cell_type": "code",
   "execution_count": 17,
   "id": "a37242d6",
   "metadata": {
    "execution": {
     "iopub.execute_input": "2024-06-22T17:58:02.669735Z",
     "iopub.status.busy": "2024-06-22T17:58:02.669427Z",
     "iopub.status.idle": "2024-06-22T17:58:02.675293Z",
     "shell.execute_reply": "2024-06-22T17:58:02.674465Z"
    },
    "papermill": {
     "duration": 0.017155,
     "end_time": "2024-06-22T17:58:02.677262",
     "exception": false,
     "start_time": "2024-06-22T17:58:02.660107",
     "status": "completed"
    },
    "tags": []
   },
   "outputs": [],
   "source": [
    "# ModelCheckpoint callback - to save best model from every training\n",
    "checkpoint = keras.callbacks.ModelCheckpoint(\"best_model.keras\", \n",
    "                                                save_best_only=True, \n",
    "                                                save_weights_only=False,\n",
    "                                                verbose=1,\n",
    "                                                monitor='val_loss', \n",
    "                                                mode='min')\n",
    "\n",
    "csv_logger = tf.keras.callbacks.CSVLogger('history.csv')\n",
    "\n",
    "learning_rate_reduction= keras.callbacks.ReduceLROnPlateau(monitor='loss',patience=2,verbose=1,factor=0.1,min_lr=0.0000000001) \n",
    "\n",
    "# callbacks = [checkpoint, learning_rate_reduction]\n",
    "\n",
    "callbacks = [checkpoint, csv_logger, get_lr_callback()]"
   ]
  },
  {
   "cell_type": "code",
   "execution_count": 18,
   "id": "f461b708",
   "metadata": {
    "execution": {
     "iopub.execute_input": "2024-06-22T17:58:02.695009Z",
     "iopub.status.busy": "2024-06-22T17:58:02.694711Z",
     "iopub.status.idle": "2024-06-23T00:16:26.580383Z",
     "shell.execute_reply": "2024-06-23T00:16:26.579412Z"
    },
    "papermill": {
     "duration": 22704.138985,
     "end_time": "2024-06-23T00:16:26.824542",
     "exception": false,
     "start_time": "2024-06-22T17:58:02.685557",
     "status": "completed"
    },
    "tags": []
   },
   "outputs": [
    {
     "name": "stdout",
     "output_type": "stream",
     "text": [
      "Epoch 1/20\n"
     ]
    },
    {
     "name": "stderr",
     "output_type": "stream",
     "text": [
      "WARNING: All log messages before absl::InitializeLog() is called are written to STDERR\n",
      "I0000 00:00:1719079112.479664      78 service.cc:145] XLA service 0x7b406c01a860 initialized for platform CUDA (this does not guarantee that XLA will be used). Devices:\n",
      "I0000 00:00:1719079112.479712      78 service.cc:153]   StreamExecutor device (0): Tesla P100-PCIE-16GB, Compute Capability 6.0\n",
      "I0000 00:00:1719079246.952627      78 device_compiler.h:188] Compiled cluster using XLA!  This line is logged at most once for the lifetime of the process.\n"
     ]
    },
    {
     "name": "stdout",
     "output_type": "stream",
     "text": [
      "\u001b[1m144/144\u001b[0m \u001b[32m━━━━━━━━━━━━━━━━━━━━\u001b[0m\u001b[37m\u001b[0m \u001b[1m0s\u001b[0m 7s/step - accuracy: 0.5936 - loss: 0.7539\n",
      "Epoch 1: val_loss improved from inf to 0.65545, saving model to best_model.keras\n",
      "\u001b[1m144/144\u001b[0m \u001b[32m━━━━━━━━━━━━━━━━━━━━\u001b[0m\u001b[37m\u001b[0m \u001b[1m1383s\u001b[0m 9s/step - accuracy: 0.5938 - loss: 0.7536 - val_accuracy: 0.7361 - val_loss: 0.6555 - learning_rate: 5.0000e-04\n",
      "Epoch 2/20\n",
      "\u001b[1m144/144\u001b[0m \u001b[32m━━━━━━━━━━━━━━━━━━━━\u001b[0m\u001b[37m\u001b[0m \u001b[1m0s\u001b[0m 6s/step - accuracy: 0.6315 - loss: 0.8871\n",
      "Epoch 2: val_loss improved from 0.65545 to 0.60092, saving model to best_model.keras\n",
      "\u001b[1m144/144\u001b[0m \u001b[32m━━━━━━━━━━━━━━━━━━━━\u001b[0m\u001b[37m\u001b[0m \u001b[1m1116s\u001b[0m 8s/step - accuracy: 0.6318 - loss: 0.8868 - val_accuracy: 0.6806 - val_loss: 0.6009 - learning_rate: 0.0074\n",
      "Epoch 3/20\n",
      "\u001b[1m144/144\u001b[0m \u001b[32m━━━━━━━━━━━━━━━━━━━━\u001b[0m\u001b[37m\u001b[0m \u001b[1m0s\u001b[0m 6s/step - accuracy: 0.7200 - loss: 0.9253\n",
      "Epoch 3: val_loss did not improve from 0.60092\n",
      "\u001b[1m144/144\u001b[0m \u001b[32m━━━━━━━━━━━━━━━━━━━━\u001b[0m\u001b[37m\u001b[0m \u001b[1m1112s\u001b[0m 8s/step - accuracy: 0.7197 - loss: 0.9268 - val_accuracy: 0.7083 - val_loss: 0.7902 - learning_rate: 0.0143\n",
      "Epoch 4/20\n",
      "\u001b[1m144/144\u001b[0m \u001b[32m━━━━━━━━━━━━━━━━━━━━\u001b[0m\u001b[37m\u001b[0m \u001b[1m0s\u001b[0m 6s/step - accuracy: 0.6647 - loss: 1.4373\n",
      "Epoch 4: val_loss did not improve from 0.60092\n",
      "\u001b[1m144/144\u001b[0m \u001b[32m━━━━━━━━━━━━━━━━━━━━\u001b[0m\u001b[37m\u001b[0m \u001b[1m1110s\u001b[0m 8s/step - accuracy: 0.6648 - loss: 1.4378 - val_accuracy: 0.5000 - val_loss: 2.9991 - learning_rate: 0.0211\n",
      "Epoch 5/20\n",
      "\u001b[1m144/144\u001b[0m \u001b[32m━━━━━━━━━━━━━━━━━━━━\u001b[0m\u001b[37m\u001b[0m \u001b[1m0s\u001b[0m 6s/step - accuracy: 0.7036 - loss: 1.6274\n",
      "Epoch 5: val_loss did not improve from 0.60092\n",
      "\u001b[1m144/144\u001b[0m \u001b[32m━━━━━━━━━━━━━━━━━━━━\u001b[0m\u001b[37m\u001b[0m \u001b[1m1123s\u001b[0m 8s/step - accuracy: 0.7037 - loss: 1.6283 - val_accuracy: 0.7361 - val_loss: 3.0206 - learning_rate: 0.0280\n",
      "Epoch 6/20\n",
      "\u001b[1m144/144\u001b[0m \u001b[32m━━━━━━━━━━━━━━━━━━━━\u001b[0m\u001b[37m\u001b[0m \u001b[1m0s\u001b[0m 6s/step - accuracy: 0.7075 - loss: 1.9983\n",
      "Epoch 6: val_loss did not improve from 0.60092\n",
      "\u001b[1m144/144\u001b[0m \u001b[32m━━━━━━━━━━━━━━━━━━━━\u001b[0m\u001b[37m\u001b[0m \u001b[1m1110s\u001b[0m 8s/step - accuracy: 0.7075 - loss: 1.9969 - val_accuracy: 0.7083 - val_loss: 2.7359 - learning_rate: 0.0280\n",
      "Epoch 7/20\n",
      "\u001b[1m144/144\u001b[0m \u001b[32m━━━━━━━━━━━━━━━━━━━━\u001b[0m\u001b[37m\u001b[0m \u001b[1m0s\u001b[0m 6s/step - accuracy: 0.7989 - loss: 1.1003\n",
      "Epoch 7: val_loss did not improve from 0.60092\n",
      "\u001b[1m144/144\u001b[0m \u001b[32m━━━━━━━━━━━━━━━━━━━━\u001b[0m\u001b[37m\u001b[0m \u001b[1m1116s\u001b[0m 8s/step - accuracy: 0.7986 - loss: 1.1019 - val_accuracy: 0.7222 - val_loss: 3.4086 - learning_rate: 0.0280\n",
      "Epoch 8/20\n",
      "\u001b[1m144/144\u001b[0m \u001b[32m━━━━━━━━━━━━━━━━━━━━\u001b[0m\u001b[37m\u001b[0m \u001b[1m0s\u001b[0m 6s/step - accuracy: 0.7944 - loss: 1.0655\n",
      "Epoch 8: val_loss did not improve from 0.60092\n",
      "\u001b[1m144/144\u001b[0m \u001b[32m━━━━━━━━━━━━━━━━━━━━\u001b[0m\u001b[37m\u001b[0m \u001b[1m1109s\u001b[0m 8s/step - accuracy: 0.7943 - loss: 1.0656 - val_accuracy: 0.7083 - val_loss: 2.0831 - learning_rate: 0.0196\n",
      "Epoch 9/20\n",
      "\u001b[1m144/144\u001b[0m \u001b[32m━━━━━━━━━━━━━━━━━━━━\u001b[0m\u001b[37m\u001b[0m \u001b[1m0s\u001b[0m 6s/step - accuracy: 0.8604 - loss: 0.5389\n",
      "Epoch 9: val_loss did not improve from 0.60092\n",
      "\u001b[1m144/144\u001b[0m \u001b[32m━━━━━━━━━━━━━━━━━━━━\u001b[0m\u001b[37m\u001b[0m \u001b[1m1113s\u001b[0m 8s/step - accuracy: 0.8605 - loss: 0.5385 - val_accuracy: 0.7222 - val_loss: 2.6238 - learning_rate: 0.0137\n",
      "Epoch 10/20\n",
      "\u001b[1m144/144\u001b[0m \u001b[32m━━━━━━━━━━━━━━━━━━━━\u001b[0m\u001b[37m\u001b[0m \u001b[1m0s\u001b[0m 6s/step - accuracy: 0.8867 - loss: 0.3538\n",
      "Epoch 10: val_loss did not improve from 0.60092\n",
      "\u001b[1m144/144\u001b[0m \u001b[32m━━━━━━━━━━━━━━━━━━━━\u001b[0m\u001b[37m\u001b[0m \u001b[1m1110s\u001b[0m 8s/step - accuracy: 0.8864 - loss: 0.3544 - val_accuracy: 0.6111 - val_loss: 1.8306 - learning_rate: 0.0096\n",
      "Epoch 11/20\n",
      "\u001b[1m144/144\u001b[0m \u001b[32m━━━━━━━━━━━━━━━━━━━━\u001b[0m\u001b[37m\u001b[0m \u001b[1m0s\u001b[0m 6s/step - accuracy: 0.8713 - loss: 0.4684\n",
      "Epoch 11: val_loss did not improve from 0.60092\n",
      "\u001b[1m144/144\u001b[0m \u001b[32m━━━━━━━━━━━━━━━━━━━━\u001b[0m\u001b[37m\u001b[0m \u001b[1m1114s\u001b[0m 8s/step - accuracy: 0.8715 - loss: 0.4681 - val_accuracy: 0.6111 - val_loss: 1.6801 - learning_rate: 0.0067\n",
      "Epoch 12/20\n",
      "\u001b[1m144/144\u001b[0m \u001b[32m━━━━━━━━━━━━━━━━━━━━\u001b[0m\u001b[37m\u001b[0m \u001b[1m0s\u001b[0m 6s/step - accuracy: 0.8376 - loss: 0.3791\n",
      "Epoch 12: val_loss did not improve from 0.60092\n",
      "\u001b[1m144/144\u001b[0m \u001b[32m━━━━━━━━━━━━━━━━━━━━\u001b[0m\u001b[37m\u001b[0m \u001b[1m1113s\u001b[0m 8s/step - accuracy: 0.8378 - loss: 0.3787 - val_accuracy: 0.6806 - val_loss: 1.9425 - learning_rate: 0.0047\n",
      "Epoch 13/20\n",
      "\u001b[1m144/144\u001b[0m \u001b[32m━━━━━━━━━━━━━━━━━━━━\u001b[0m\u001b[37m\u001b[0m \u001b[1m0s\u001b[0m 6s/step - accuracy: 0.8835 - loss: 0.4494\n",
      "Epoch 13: val_loss did not improve from 0.60092\n",
      "\u001b[1m144/144\u001b[0m \u001b[32m━━━━━━━━━━━━━━━━━━━━\u001b[0m\u001b[37m\u001b[0m \u001b[1m1164s\u001b[0m 8s/step - accuracy: 0.8836 - loss: 0.4486 - val_accuracy: 0.6389 - val_loss: 1.6478 - learning_rate: 0.0033\n",
      "Epoch 14/20\n",
      "\u001b[1m144/144\u001b[0m \u001b[32m━━━━━━━━━━━━━━━━━━━━\u001b[0m\u001b[37m\u001b[0m \u001b[1m0s\u001b[0m 6s/step - accuracy: 0.8898 - loss: 0.3682\n",
      "Epoch 14: val_loss did not improve from 0.60092\n",
      "\u001b[1m144/144\u001b[0m \u001b[32m━━━━━━━━━━━━━━━━━━━━\u001b[0m\u001b[37m\u001b[0m \u001b[1m1115s\u001b[0m 8s/step - accuracy: 0.8900 - loss: 0.3674 - val_accuracy: 0.6389 - val_loss: 1.7063 - learning_rate: 0.0023\n",
      "Epoch 15/20\n",
      "\u001b[1m144/144\u001b[0m \u001b[32m━━━━━━━━━━━━━━━━━━━━\u001b[0m\u001b[37m\u001b[0m \u001b[1m0s\u001b[0m 6s/step - accuracy: 0.8961 - loss: 0.2738\n",
      "Epoch 15: val_loss did not improve from 0.60092\n",
      "\u001b[1m144/144\u001b[0m \u001b[32m━━━━━━━━━━━━━━━━━━━━\u001b[0m\u001b[37m\u001b[0m \u001b[1m1112s\u001b[0m 8s/step - accuracy: 0.8962 - loss: 0.2736 - val_accuracy: 0.6528 - val_loss: 1.6522 - learning_rate: 0.0016\n",
      "Epoch 16/20\n",
      "\u001b[1m144/144\u001b[0m \u001b[32m━━━━━━━━━━━━━━━━━━━━\u001b[0m\u001b[37m\u001b[0m \u001b[1m0s\u001b[0m 6s/step - accuracy: 0.8932 - loss: 0.2638\n",
      "Epoch 16: val_loss did not improve from 0.60092\n",
      "\u001b[1m144/144\u001b[0m \u001b[32m━━━━━━━━━━━━━━━━━━━━\u001b[0m\u001b[37m\u001b[0m \u001b[1m1162s\u001b[0m 8s/step - accuracy: 0.8932 - loss: 0.2638 - val_accuracy: 0.6667 - val_loss: 1.6353 - learning_rate: 0.0011\n",
      "Epoch 17/20\n",
      "\u001b[1m144/144\u001b[0m \u001b[32m━━━━━━━━━━━━━━━━━━━━\u001b[0m\u001b[37m\u001b[0m \u001b[1m0s\u001b[0m 6s/step - accuracy: 0.9188 - loss: 0.1698\n",
      "Epoch 17: val_loss did not improve from 0.60092\n",
      "\u001b[1m144/144\u001b[0m \u001b[32m━━━━━━━━━━━━━━━━━━━━\u001b[0m\u001b[37m\u001b[0m \u001b[1m1165s\u001b[0m 8s/step - accuracy: 0.9188 - loss: 0.1697 - val_accuracy: 0.6389 - val_loss: 1.7055 - learning_rate: 8.0065e-04\n",
      "Epoch 18/20\n",
      "\u001b[1m144/144\u001b[0m \u001b[32m━━━━━━━━━━━━━━━━━━━━\u001b[0m\u001b[37m\u001b[0m \u001b[1m0s\u001b[0m 6s/step - accuracy: 0.9174 - loss: 0.2503\n",
      "Epoch 18: val_loss did not improve from 0.60092\n",
      "\u001b[1m144/144\u001b[0m \u001b[32m━━━━━━━━━━━━━━━━━━━━\u001b[0m\u001b[37m\u001b[0m \u001b[1m1111s\u001b[0m 8s/step - accuracy: 0.9174 - loss: 0.2500 - val_accuracy: 0.6389 - val_loss: 1.6830 - learning_rate: 5.6345e-04\n",
      "Epoch 19/20\n",
      "\u001b[1m144/144\u001b[0m \u001b[32m━━━━━━━━━━━━━━━━━━━━\u001b[0m\u001b[37m\u001b[0m \u001b[1m0s\u001b[0m 6s/step - accuracy: 0.8844 - loss: 0.2728\n",
      "Epoch 19: val_loss did not improve from 0.60092\n",
      "\u001b[1m144/144\u001b[0m \u001b[32m━━━━━━━━━━━━━━━━━━━━\u001b[0m\u001b[37m\u001b[0m \u001b[1m1124s\u001b[0m 8s/step - accuracy: 0.8845 - loss: 0.2727 - val_accuracy: 0.6667 - val_loss: 1.7105 - learning_rate: 3.9742e-04\n",
      "Epoch 20/20\n",
      "\u001b[1m144/144\u001b[0m \u001b[32m━━━━━━━━━━━━━━━━━━━━\u001b[0m\u001b[37m\u001b[0m \u001b[1m0s\u001b[0m 6s/step - accuracy: 0.9381 - loss: 0.1540\n",
      "Epoch 20: val_loss did not improve from 0.60092\n",
      "\u001b[1m144/144\u001b[0m \u001b[32m━━━━━━━━━━━━━━━━━━━━\u001b[0m\u001b[37m\u001b[0m \u001b[1m1123s\u001b[0m 8s/step - accuracy: 0.9381 - loss: 0.1540 - val_accuracy: 0.6806 - val_loss: 1.7243 - learning_rate: 2.8119e-04\n"
     ]
    }
   ],
   "source": [
    "history = model.fit(\n",
    "    train_dataset,\n",
    "    validation_data=val_dataset,\n",
    "#     steps_per_epoch=len(train_df) // batch_size,\n",
    "#     validation_steps=len(test_df) // batch_size,\n",
    "    epochs=EPOCHS,\n",
    "    callbacks=callbacks,\n",
    "\n",
    ")"
   ]
  },
  {
   "cell_type": "code",
   "execution_count": 19,
   "id": "a28db50d",
   "metadata": {
    "execution": {
     "iopub.execute_input": "2024-06-23T00:16:27.361426Z",
     "iopub.status.busy": "2024-06-23T00:16:27.360678Z",
     "iopub.status.idle": "2024-06-23T00:16:28.821754Z",
     "shell.execute_reply": "2024-06-23T00:16:28.820752Z"
    },
    "papermill": {
     "duration": 1.733179,
     "end_time": "2024-06-23T00:16:28.824275",
     "exception": false,
     "start_time": "2024-06-23T00:16:27.091096",
     "status": "completed"
    },
    "tags": []
   },
   "outputs": [],
   "source": [
    "model.save('zero-model.keras')"
   ]
  },
  {
   "cell_type": "markdown",
   "id": "69a0864b",
   "metadata": {
    "papermill": {
     "duration": 0.243173,
     "end_time": "2024-06-23T00:16:29.311326",
     "exception": false,
     "start_time": "2024-06-23T00:16:29.068153",
     "status": "completed"
    },
    "tags": []
   },
   "source": [
    "## Plots"
   ]
  },
  {
   "cell_type": "code",
   "execution_count": 20,
   "id": "14d25885",
   "metadata": {
    "execution": {
     "iopub.execute_input": "2024-06-23T00:16:29.877055Z",
     "iopub.status.busy": "2024-06-23T00:16:29.876195Z",
     "iopub.status.idle": "2024-06-23T00:16:30.401742Z",
     "shell.execute_reply": "2024-06-23T00:16:30.400894Z"
    },
    "papermill": {
     "duration": 0.849053,
     "end_time": "2024-06-23T00:16:30.403696",
     "exception": false,
     "start_time": "2024-06-23T00:16:29.554643",
     "status": "completed"
    },
    "tags": []
   },
   "outputs": [
    {
     "data": {
      "image/png": "[encoded data removed]",
      "text/plain": [
       "<Figure size 640x480 with 1 Axes>"
      ]
     },
     "metadata": {},
     "output_type": "display_data"
    },
    {
     "data": {
      "image/png": "[encoded data removed]",
      "text/plain": [
       "<Figure size 640x480 with 1 Axes>"
      ]
     },
     "metadata": {},
     "output_type": "display_data"
    }
   ],
   "source": [
    "plt.figure(1)\n",
    "plt.plot(history.history['accuracy'])\n",
    "plt.plot(history.history['val_accuracy'])\n",
    "plt.title('model accuracy')\n",
    "plt.ylabel('accuracy')\n",
    "plt.xlabel('epoch')\n",
    "plt.legend(['train', 'val'], loc='upper left')\n",
    "\n",
    "plt.figure(2)\n",
    "plt.plot(history.history['loss'])\n",
    "plt.plot(history.history['val_loss'])\n",
    "plt.title('model loss')\n",
    "plt.ylabel('loss')\n",
    "plt.xlabel('epoch')\n",
    "plt.legend(['train', 'val'], loc='upper right')\n",
    "plt.show()"
   ]
  }
 ],
 "metadata": {
  "kaggle": {
   "accelerator": "gpu",
   "dataSources": [
    {
     "databundleVersionId": 8647245,
     "sourceId": 80318,
     "sourceType": "competition"
    },
    {
     "isSourceIdPinned": true,
     "modelInstanceId": 4790,
     "sourceId": 6023,
     "sourceType": "modelInstanceVersion"
    },
    {
     "isSourceIdPinned": true,
     "modelInstanceId": 4791,
     "sourceId": 6024,
     "sourceType": "modelInstanceVersion"
    },
    {
     "isSourceIdPinned": true,
     "modelInstanceId": 17431,
     "sourceId": 21048,
     "sourceType": "modelInstanceVersion"
    },
    {
     "isSourceIdPinned": true,
     "modelInstanceId": 17533,
     "sourceId": 21184,
     "sourceType": "modelInstanceVersion"
    }
   ],
   "dockerImageVersionId": 30699,
   "isGpuEnabled": true,
   "isInternetEnabled": true,
   "language": "python",
   "sourceType": "notebook"
  },
  "kernelspec": {
   "display_name": "Python 3",
   "language": "python",
   "name": "python3"
  },
  "language_info": {
   "codemirror_mode": {
    "name": "ipython",
    "version": 3
   },
   "file_extension": ".py",
   "mimetype": "text/x-python",
   "name": "python",
   "nbconvert_exporter": "python",
   "pygments_lexer": "ipython3",
   "version": "3.10.13"
  },
  "papermill": {
   "default_parameters": {},
   "duration": 22881.426917,
   "end_time": "2024-06-23T00:16:34.289101",
   "environment_variables": {},
   "exception": null,
   "input_path": "__notebook__.ipynb",
   "output_path": "__notebook__.ipynb",
   "parameters": {},
   "start_time": "2024-06-22T17:55:12.862184",
   "version": "2.5.0"
  }
 },
 "nbformat": 4,
 "nbformat_minor": 5
}
